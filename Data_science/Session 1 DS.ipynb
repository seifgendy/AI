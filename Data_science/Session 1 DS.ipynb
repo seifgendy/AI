{
 "cells": [
  {
   "cell_type": "code",
   "execution_count": 1,
   "id": "f562833f",
   "metadata": {},
   "outputs": [
    {
     "data": {
      "text/plain": [
       "[[1, 2, 3], [2, 3, 4]]"
      ]
     },
     "execution_count": 1,
     "metadata": {},
     "output_type": "execute_result"
    }
   ],
   "source": [
    "m1 = [[1,2,3] , [2,3,4]]\n",
    "m1"
   ]
  },
  {
   "cell_type": "code",
   "execution_count": 2,
   "id": "3bca3b76",
   "metadata": {},
   "outputs": [
    {
     "data": {
      "text/plain": [
       "[[1, 2, 3], [2, 3, 4]]"
      ]
     },
     "execution_count": 2,
     "metadata": {},
     "output_type": "execute_result"
    }
   ],
   "source": [
    "m2 = [[1,2,3] , [2,3,4]]\n",
    "m2"
   ]
  },
  {
   "cell_type": "code",
   "execution_count": 3,
   "id": "acc9a682",
   "metadata": {},
   "outputs": [],
   "source": [
    "# [[2,4,6] , [2,6,8]]"
   ]
  },
  {
   "cell_type": "code",
   "execution_count": 5,
   "id": "c53805ba",
   "metadata": {},
   "outputs": [
    {
     "data": {
      "text/plain": [
       "[[2, 4, 6], [4, 6, 8]]"
      ]
     },
     "execution_count": 5,
     "metadata": {},
     "output_type": "execute_result"
    }
   ],
   "source": [
    "[  [ x + y for x , y in zip(a,b)] for a ,b in zip(m1 , m2)]"
   ]
  },
  {
   "cell_type": "code",
   "execution_count": 13,
   "id": "d076a5ee",
   "metadata": {},
   "outputs": [],
   "source": [
    "res = []\n",
    "for i in range(len(m2)):\n",
    "    lst = []\n",
    "    for j in range(len(m2[0])):\n",
    "        lst.append(m1[i][j] + m2[i][j])\n",
    "    res.append(lst)"
   ]
  },
  {
   "cell_type": "code",
   "execution_count": 14,
   "id": "ca5dd090",
   "metadata": {},
   "outputs": [
    {
     "data": {
      "text/plain": [
       "[[2, 4, 6], [4, 6, 8]]"
      ]
     },
     "execution_count": 14,
     "metadata": {},
     "output_type": "execute_result"
    }
   ],
   "source": [
    "res"
   ]
  },
  {
   "cell_type": "code",
   "execution_count": 18,
   "id": "73a6fff6",
   "metadata": {},
   "outputs": [],
   "source": [
    "import numpy as np "
   ]
  },
  {
   "cell_type": "code",
   "execution_count": 16,
   "id": "205bc3c0",
   "metadata": {},
   "outputs": [
    {
     "data": {
      "text/plain": [
       "[[1, 2, 3], [2, 3, 4]]"
      ]
     },
     "execution_count": 16,
     "metadata": {},
     "output_type": "execute_result"
    }
   ],
   "source": [
    "m1"
   ]
  },
  {
   "cell_type": "code",
   "execution_count": 28,
   "id": "808331b3",
   "metadata": {},
   "outputs": [
    {
     "data": {
      "text/plain": [
       "array([[1, 2, 3],\n",
       "       [2, 3, 4]])"
      ]
     },
     "execution_count": 28,
     "metadata": {},
     "output_type": "execute_result"
    }
   ],
   "source": [
    "matrix = np.array([[1, 2, 3], [2, 3,4]])\n",
    "matrix"
   ]
  },
  {
   "cell_type": "code",
   "execution_count": 29,
   "id": "5636f62e",
   "metadata": {},
   "outputs": [
    {
     "data": {
      "text/plain": [
       "numpy.ndarray"
      ]
     },
     "execution_count": 29,
     "metadata": {},
     "output_type": "execute_result"
    }
   ],
   "source": [
    "type(matrix)"
   ]
  },
  {
   "cell_type": "code",
   "execution_count": 30,
   "id": "004a16ee",
   "metadata": {},
   "outputs": [
    {
     "data": {
      "text/plain": [
       "(2, 3)"
      ]
     },
     "execution_count": 30,
     "metadata": {},
     "output_type": "execute_result"
    }
   ],
   "source": [
    "matrix.shape"
   ]
  },
  {
   "cell_type": "code",
   "execution_count": 31,
   "id": "af32b858",
   "metadata": {},
   "outputs": [
    {
     "name": "stdout",
     "output_type": "stream",
     "text": [
      "Number of rows is: 2\n"
     ]
    }
   ],
   "source": [
    "print(\"Number of rows is:\" ,matrix.shape[0] )"
   ]
  },
  {
   "cell_type": "code",
   "execution_count": 32,
   "id": "0c7b2bda",
   "metadata": {},
   "outputs": [
    {
     "name": "stdout",
     "output_type": "stream",
     "text": [
      "Number of cols is: 3\n"
     ]
    }
   ],
   "source": [
    "print(\"Number of cols is:\" , matrix.shape[1])"
   ]
  },
  {
   "cell_type": "code",
   "execution_count": 33,
   "id": "21f30b16",
   "metadata": {},
   "outputs": [
    {
     "data": {
      "text/plain": [
       "[1, 2, 3, 1, 2, 3]"
      ]
     },
     "execution_count": 33,
     "metadata": {},
     "output_type": "execute_result"
    }
   ],
   "source": [
    "lst = [ 1,2,3 ]\n",
    "lst * 2 "
   ]
  },
  {
   "cell_type": "code",
   "execution_count": 36,
   "id": "3dbdf4b9",
   "metadata": {},
   "outputs": [
    {
     "data": {
      "text/plain": [
       "array([1, 2, 3])"
      ]
     },
     "execution_count": 36,
     "metadata": {},
     "output_type": "execute_result"
    }
   ],
   "source": [
    "arr1 = np.array(lst)\n",
    "arr1"
   ]
  },
  {
   "cell_type": "code",
   "execution_count": 37,
   "id": "c5c5c08c",
   "metadata": {},
   "outputs": [
    {
     "data": {
      "text/plain": [
       "array([2, 4, 6])"
      ]
     },
     "execution_count": 37,
     "metadata": {},
     "output_type": "execute_result"
    }
   ],
   "source": [
    "arr1 * 2 "
   ]
  },
  {
   "cell_type": "code",
   "execution_count": 38,
   "id": "9775a336",
   "metadata": {},
   "outputs": [
    {
     "data": {
      "text/plain": [
       "[[1, 2, 3], [2, 3, 4]]"
      ]
     },
     "execution_count": 38,
     "metadata": {},
     "output_type": "execute_result"
    }
   ],
   "source": [
    "m1"
   ]
  },
  {
   "cell_type": "code",
   "execution_count": 39,
   "id": "9a01da62",
   "metadata": {},
   "outputs": [
    {
     "data": {
      "text/plain": [
       "[[1, 2, 3], [2, 3, 4]]"
      ]
     },
     "execution_count": 39,
     "metadata": {},
     "output_type": "execute_result"
    }
   ],
   "source": [
    "m2"
   ]
  },
  {
   "cell_type": "code",
   "execution_count": 40,
   "id": "60a91a5d",
   "metadata": {},
   "outputs": [],
   "source": [
    "mat1 = np.array(m1)\n",
    "mat2 = np.array(m2)"
   ]
  },
  {
   "cell_type": "code",
   "execution_count": 41,
   "id": "329e41a8",
   "metadata": {},
   "outputs": [
    {
     "data": {
      "text/plain": [
       "array([[2, 4, 6],\n",
       "       [4, 6, 8]])"
      ]
     },
     "execution_count": 41,
     "metadata": {},
     "output_type": "execute_result"
    }
   ],
   "source": [
    "mat1 + mat2"
   ]
  },
  {
   "cell_type": "code",
   "execution_count": 42,
   "id": "81488334",
   "metadata": {},
   "outputs": [
    {
     "data": {
      "text/plain": [
       "array([[1, 2, 3],\n",
       "       [2, 3, 4]])"
      ]
     },
     "execution_count": 42,
     "metadata": {},
     "output_type": "execute_result"
    }
   ],
   "source": [
    "mat1"
   ]
  },
  {
   "cell_type": "code",
   "execution_count": 44,
   "id": "975fa7f8",
   "metadata": {},
   "outputs": [
    {
     "data": {
      "text/plain": [
       "array([[0, 0, 0],\n",
       "       [0, 0, 0]])"
      ]
     },
     "execution_count": 44,
     "metadata": {},
     "output_type": "execute_result"
    }
   ],
   "source": [
    "mat1 - mat2"
   ]
  },
  {
   "cell_type": "code",
   "execution_count": 47,
   "id": "ccef9aab",
   "metadata": {},
   "outputs": [
    {
     "data": {
      "text/plain": [
       "array([1, 2, 3, 4, 3, 4, 5, 4, 5, 6, 7, 8, 9])"
      ]
     },
     "execution_count": 47,
     "metadata": {},
     "output_type": "execute_result"
    }
   ],
   "source": [
    "arr1  = np.array([1,2,3,4,3,4,5,4,5,6,7,8,9])\n",
    "arr1"
   ]
  },
  {
   "cell_type": "code",
   "execution_count": 48,
   "id": "645bd763",
   "metadata": {},
   "outputs": [
    {
     "data": {
      "text/plain": [
       "array([ True,  True,  True,  True,  True,  True, False,  True, False,\n",
       "       False, False, False, False])"
      ]
     },
     "execution_count": 48,
     "metadata": {},
     "output_type": "execute_result"
    }
   ],
   "source": [
    "arr1 < 5"
   ]
  },
  {
   "cell_type": "code",
   "execution_count": 49,
   "id": "4aa69a69",
   "metadata": {},
   "outputs": [
    {
     "data": {
      "text/plain": [
       "array([1, 2, 3, 4, 3, 4, 4])"
      ]
     },
     "execution_count": 49,
     "metadata": {},
     "output_type": "execute_result"
    }
   ],
   "source": [
    "arr1[arr1 < 5]"
   ]
  },
  {
   "cell_type": "code",
   "execution_count": 50,
   "id": "a689cccc",
   "metadata": {},
   "outputs": [
    {
     "data": {
      "text/plain": [
       "array([6, 7, 8, 9])"
      ]
     },
     "execution_count": 50,
     "metadata": {},
     "output_type": "execute_result"
    }
   ],
   "source": [
    "arr1[arr1 > 5 ]"
   ]
  },
  {
   "cell_type": "code",
   "execution_count": 52,
   "id": "cac52191",
   "metadata": {},
   "outputs": [],
   "source": [
    "# np.arange(start , stop , step)"
   ]
  },
  {
   "cell_type": "code",
   "execution_count": 54,
   "id": "bee59cd0",
   "metadata": {},
   "outputs": [
    {
     "data": {
      "text/plain": [
       "array([ 1,  3,  5,  7,  9, 11, 13, 15, 17, 19, 21, 23, 25, 27, 29, 31, 33,\n",
       "       35, 37, 39, 41, 43, 45, 47, 49])"
      ]
     },
     "execution_count": 54,
     "metadata": {},
     "output_type": "execute_result"
    }
   ],
   "source": [
    "arr2 = np.arange(1 , 50 , 2)\n",
    "arr2"
   ]
  },
  {
   "cell_type": "code",
   "execution_count": 55,
   "id": "8f26be27",
   "metadata": {},
   "outputs": [
    {
     "data": {
      "text/plain": [
       "25"
      ]
     },
     "execution_count": 55,
     "metadata": {},
     "output_type": "execute_result"
    }
   ],
   "source": [
    "len(arr2)"
   ]
  },
  {
   "cell_type": "code",
   "execution_count": 56,
   "id": "cde8fad7",
   "metadata": {},
   "outputs": [
    {
     "data": {
      "text/plain": [
       "25"
      ]
     },
     "execution_count": 56,
     "metadata": {},
     "output_type": "execute_result"
    }
   ],
   "source": [
    "arr2.size"
   ]
  },
  {
   "cell_type": "code",
   "execution_count": 57,
   "id": "d6c70e09",
   "metadata": {},
   "outputs": [
    {
     "data": {
      "text/plain": [
       "(25,)"
      ]
     },
     "execution_count": 57,
     "metadata": {},
     "output_type": "execute_result"
    }
   ],
   "source": [
    "arr2.shape"
   ]
  },
  {
   "cell_type": "code",
   "execution_count": 59,
   "id": "8e839296",
   "metadata": {},
   "outputs": [
    {
     "data": {
      "text/plain": [
       "array([[ 1,  3,  5,  7,  9],\n",
       "       [11, 13, 15, 17, 19],\n",
       "       [21, 23, 25, 27, 29],\n",
       "       [31, 33, 35, 37, 39],\n",
       "       [41, 43, 45, 47, 49]])"
      ]
     },
     "execution_count": 59,
     "metadata": {},
     "output_type": "execute_result"
    }
   ],
   "source": [
    "arr2.reshape((5,5))"
   ]
  },
  {
   "cell_type": "code",
   "execution_count": 60,
   "id": "816e5b2f",
   "metadata": {},
   "outputs": [
    {
     "data": {
      "text/plain": [
       "array([[ 1],\n",
       "       [ 3],\n",
       "       [ 5],\n",
       "       [ 7],\n",
       "       [ 9],\n",
       "       [11],\n",
       "       [13],\n",
       "       [15],\n",
       "       [17],\n",
       "       [19],\n",
       "       [21],\n",
       "       [23],\n",
       "       [25],\n",
       "       [27],\n",
       "       [29],\n",
       "       [31],\n",
       "       [33],\n",
       "       [35],\n",
       "       [37],\n",
       "       [39],\n",
       "       [41],\n",
       "       [43],\n",
       "       [45],\n",
       "       [47],\n",
       "       [49]])"
      ]
     },
     "execution_count": 60,
     "metadata": {},
     "output_type": "execute_result"
    }
   ],
   "source": [
    "arr2.reshape((25,1))"
   ]
  },
  {
   "cell_type": "code",
   "execution_count": 64,
   "id": "35c561c4",
   "metadata": {},
   "outputs": [
    {
     "data": {
      "text/plain": [
       "array([[ 1],\n",
       "       [ 3],\n",
       "       [ 5],\n",
       "       [ 7],\n",
       "       [ 9],\n",
       "       [11],\n",
       "       [13],\n",
       "       [15],\n",
       "       [17],\n",
       "       [19],\n",
       "       [21],\n",
       "       [23],\n",
       "       [25],\n",
       "       [27],\n",
       "       [29],\n",
       "       [31],\n",
       "       [33],\n",
       "       [35],\n",
       "       [37],\n",
       "       [39],\n",
       "       [41],\n",
       "       [43],\n",
       "       [45],\n",
       "       [47],\n",
       "       [49]])"
      ]
     },
     "execution_count": 64,
     "metadata": {},
     "output_type": "execute_result"
    }
   ],
   "source": [
    "arr2.reshape((-1,1))"
   ]
  },
  {
   "cell_type": "code",
   "execution_count": 66,
   "id": "fecae2b0",
   "metadata": {},
   "outputs": [
    {
     "data": {
      "text/plain": [
       "array([[ 1,  3,  5,  7,  9],\n",
       "       [11, 13, 15, 17, 19],\n",
       "       [21, 23, 25, 27, 29],\n",
       "       [31, 33, 35, 37, 39],\n",
       "       [41, 43, 45, 47, 49]])"
      ]
     },
     "execution_count": 66,
     "metadata": {},
     "output_type": "execute_result"
    }
   ],
   "source": [
    "arr2.reshape((5,5))"
   ]
  },
  {
   "cell_type": "code",
   "execution_count": 67,
   "id": "36688b39",
   "metadata": {},
   "outputs": [
    {
     "data": {
      "text/plain": [
       "array([[[ 1],\n",
       "        [ 3],\n",
       "        [ 5],\n",
       "        [ 7],\n",
       "        [ 9]],\n",
       "\n",
       "       [[11],\n",
       "        [13],\n",
       "        [15],\n",
       "        [17],\n",
       "        [19]],\n",
       "\n",
       "       [[21],\n",
       "        [23],\n",
       "        [25],\n",
       "        [27],\n",
       "        [29]],\n",
       "\n",
       "       [[31],\n",
       "        [33],\n",
       "        [35],\n",
       "        [37],\n",
       "        [39]],\n",
       "\n",
       "       [[41],\n",
       "        [43],\n",
       "        [45],\n",
       "        [47],\n",
       "        [49]]])"
      ]
     },
     "execution_count": 67,
     "metadata": {},
     "output_type": "execute_result"
    }
   ],
   "source": [
    "arr2.reshape((5,5,1))"
   ]
  },
  {
   "cell_type": "code",
   "execution_count": 70,
   "id": "80f0dcd3",
   "metadata": {},
   "outputs": [
    {
     "data": {
      "text/plain": [
       "array([[ 1.,  4.],\n",
       "       [ 7., 10.]])"
      ]
     },
     "execution_count": 70,
     "metadata": {},
     "output_type": "execute_result"
    }
   ],
   "source": [
    "np.linspace(1,10 , 4 ).reshape((2,2))"
   ]
  },
  {
   "cell_type": "code",
   "execution_count": 76,
   "id": "a94ee3c9",
   "metadata": {},
   "outputs": [
    {
     "data": {
      "text/plain": [
       "0.06859402708909346"
      ]
     },
     "execution_count": 76,
     "metadata": {},
     "output_type": "execute_result"
    }
   ],
   "source": [
    "np.random.random() # 0 ... 1 "
   ]
  },
  {
   "cell_type": "code",
   "execution_count": 102,
   "id": "6fa68149",
   "metadata": {},
   "outputs": [
    {
     "data": {
      "text/plain": [
       "array([[14,  3,  3,  7, 18],\n",
       "       [11,  2,  1, 18, 16],\n",
       "       [10,  1, 15,  1, 16],\n",
       "       [15,  5,  1, 17,  5],\n",
       "       [18,  4,  3,  8,  3]])"
      ]
     },
     "execution_count": 102,
     "metadata": {},
     "output_type": "execute_result"
    }
   ],
   "source": [
    "# np.random.randint(start,stop , (shape) )\n",
    "np.random.seed(123)\n",
    "data = np.random.randint(1 , 20 , (5,5))\n",
    "data"
   ]
  },
  {
   "cell_type": "code",
   "execution_count": 103,
   "id": "6079bb60",
   "metadata": {},
   "outputs": [
    {
     "data": {
      "text/plain": [
       "array([14,  3,  3,  7, 18])"
      ]
     },
     "execution_count": 103,
     "metadata": {},
     "output_type": "execute_result"
    }
   ],
   "source": [
    "data[0]"
   ]
  },
  {
   "cell_type": "code",
   "execution_count": 104,
   "id": "76a8748e",
   "metadata": {},
   "outputs": [
    {
     "data": {
      "text/plain": [
       "array([18,  4,  3,  8,  3])"
      ]
     },
     "execution_count": 104,
     "metadata": {},
     "output_type": "execute_result"
    }
   ],
   "source": [
    "data[-1]"
   ]
  },
  {
   "cell_type": "code",
   "execution_count": 105,
   "id": "c336cfb9",
   "metadata": {},
   "outputs": [
    {
     "data": {
      "text/plain": [
       "14"
      ]
     },
     "execution_count": 105,
     "metadata": {},
     "output_type": "execute_result"
    }
   ],
   "source": [
    "data[0][0]"
   ]
  },
  {
   "cell_type": "code",
   "execution_count": 106,
   "id": "fbbc4272",
   "metadata": {},
   "outputs": [],
   "source": [
    "# matrix[rows , cols]   matrix[ start : end , start : end]"
   ]
  },
  {
   "cell_type": "code",
   "execution_count": 107,
   "id": "af676585",
   "metadata": {},
   "outputs": [
    {
     "data": {
      "text/plain": [
       "array([[14,  3,  3,  7, 18],\n",
       "       [11,  2,  1, 18, 16],\n",
       "       [10,  1, 15,  1, 16],\n",
       "       [15,  5,  1, 17,  5],\n",
       "       [18,  4,  3,  8,  3]])"
      ]
     },
     "execution_count": 107,
     "metadata": {},
     "output_type": "execute_result"
    }
   ],
   "source": [
    "data"
   ]
  },
  {
   "cell_type": "code",
   "execution_count": 110,
   "id": "b863cf7e",
   "metadata": {},
   "outputs": [
    {
     "data": {
      "text/plain": [
       "array([[14,  3,  3,  7, 18],\n",
       "       [11,  2,  1, 18, 16]])"
      ]
     },
     "execution_count": 110,
     "metadata": {},
     "output_type": "execute_result"
    }
   ],
   "source": [
    "data[ 0 : 2 ]  # or data[ 0 : 2 , : ]"
   ]
  },
  {
   "cell_type": "code",
   "execution_count": 111,
   "id": "2107bef2",
   "metadata": {},
   "outputs": [
    {
     "data": {
      "text/plain": [
       "array([[11,  2,  1, 18, 16],\n",
       "       [10,  1, 15,  1, 16],\n",
       "       [15,  5,  1, 17,  5]])"
      ]
     },
     "execution_count": 111,
     "metadata": {},
     "output_type": "execute_result"
    }
   ],
   "source": [
    "data[1 : 4 ]"
   ]
  },
  {
   "cell_type": "code",
   "execution_count": 119,
   "id": "86b52889",
   "metadata": {},
   "outputs": [
    {
     "data": {
      "text/plain": [
       "array([[18,  4,  3,  8,  3],\n",
       "       [15,  5,  1, 17,  5],\n",
       "       [10,  1, 15,  1, 16]])"
      ]
     },
     "execution_count": 119,
     "metadata": {},
     "output_type": "execute_result"
    }
   ],
   "source": [
    "data[-1: -4 :-1]"
   ]
  },
  {
   "cell_type": "code",
   "execution_count": 117,
   "id": "fba0713f",
   "metadata": {},
   "outputs": [
    {
     "data": {
      "text/plain": [
       "array([[14,  3,  3,  7, 18],\n",
       "       [11,  2,  1, 18, 16],\n",
       "       [10,  1, 15,  1, 16],\n",
       "       [15,  5,  1, 17,  5],\n",
       "       [18,  4,  3,  8,  3]])"
      ]
     },
     "execution_count": 117,
     "metadata": {},
     "output_type": "execute_result"
    }
   ],
   "source": [
    "data"
   ]
  },
  {
   "cell_type": "code",
   "execution_count": 122,
   "id": "e9a56d02",
   "metadata": {},
   "outputs": [
    {
     "data": {
      "text/plain": [
       "array([[14],\n",
       "       [11],\n",
       "       [10],\n",
       "       [15],\n",
       "       [18]])"
      ]
     },
     "execution_count": 122,
     "metadata": {},
     "output_type": "execute_result"
    }
   ],
   "source": [
    "data[ : , 0:1]"
   ]
  },
  {
   "cell_type": "code",
   "execution_count": 123,
   "id": "b82e06ad",
   "metadata": {},
   "outputs": [
    {
     "data": {
      "text/plain": [
       "array([[18],\n",
       "       [16],\n",
       "       [16],\n",
       "       [ 5],\n",
       "       [ 3]])"
      ]
     },
     "execution_count": 123,
     "metadata": {},
     "output_type": "execute_result"
    }
   ],
   "source": [
    "data[ : , -1:]"
   ]
  },
  {
   "cell_type": "code",
   "execution_count": 125,
   "id": "eb940c4b",
   "metadata": {},
   "outputs": [
    {
     "data": {
      "text/plain": [
       "array([[ 2,  1, 18],\n",
       "       [ 1, 15,  1]])"
      ]
     },
     "execution_count": 125,
     "metadata": {},
     "output_type": "execute_result"
    }
   ],
   "source": [
    "data[1 : 3 , 1 : 4]"
   ]
  },
  {
   "cell_type": "code",
   "execution_count": 131,
   "id": "abff64f4",
   "metadata": {},
   "outputs": [
    {
     "data": {
      "text/plain": [
       "array([[0., 0., 0., 0., 0.],\n",
       "       [0., 0., 0., 0., 0.],\n",
       "       [0., 0., 0., 0., 0.],\n",
       "       [0., 0., 0., 0., 0.],\n",
       "       [0., 0., 0., 0., 0.]])"
      ]
     },
     "execution_count": 131,
     "metadata": {},
     "output_type": "execute_result"
    }
   ],
   "source": [
    "z = np.zeros((5,5))\n",
    "z"
   ]
  },
  {
   "cell_type": "code",
   "execution_count": 132,
   "id": "5ec4ad01",
   "metadata": {},
   "outputs": [
    {
     "data": {
      "text/plain": [
       "array([[0, 0, 0, 0, 0],\n",
       "       [0, 0, 0, 0, 0],\n",
       "       [0, 0, 0, 0, 0],\n",
       "       [0, 0, 0, 0, 0],\n",
       "       [0, 0, 0, 0, 0]])"
      ]
     },
     "execution_count": 132,
     "metadata": {},
     "output_type": "execute_result"
    }
   ],
   "source": [
    "z.astype(int)"
   ]
  },
  {
   "cell_type": "code",
   "execution_count": 130,
   "id": "078a2c55",
   "metadata": {},
   "outputs": [
    {
     "data": {
      "text/plain": [
       "array([[1., 1., 1., 1., 1.],\n",
       "       [1., 1., 1., 1., 1.],\n",
       "       [1., 1., 1., 1., 1.],\n",
       "       [1., 1., 1., 1., 1.],\n",
       "       [1., 1., 1., 1., 1.]])"
      ]
     },
     "execution_count": 130,
     "metadata": {},
     "output_type": "execute_result"
    }
   ],
   "source": [
    "np.ones((5,5) , dtype = float)"
   ]
  },
  {
   "cell_type": "code",
   "execution_count": 142,
   "id": "28c7a896",
   "metadata": {},
   "outputs": [
    {
     "data": {
      "text/plain": [
       "array([[0, 0, 0, 0, 0],\n",
       "       [0, 0, 0, 0, 0],\n",
       "       [0, 0, 0, 0, 0],\n",
       "       [0, 0, 0, 0, 0],\n",
       "       [0, 0, 0, 0, 0]])"
      ]
     },
     "execution_count": 142,
     "metadata": {},
     "output_type": "execute_result"
    }
   ],
   "source": [
    "np.full((5,5) , 0)"
   ]
  },
  {
   "cell_type": "code",
   "execution_count": null,
   "id": "b0cdedd5",
   "metadata": {},
   "outputs": [],
   "source": []
  }
 ],
 "metadata": {
  "kernelspec": {
   "display_name": "Python 3 (ipykernel)",
   "language": "python",
   "name": "python3"
  },
  "language_info": {
   "codemirror_mode": {
    "name": "ipython",
    "version": 3
   },
   "file_extension": ".py",
   "mimetype": "text/x-python",
   "name": "python",
   "nbconvert_exporter": "python",
   "pygments_lexer": "ipython3",
   "version": "3.10.9"
  }
 },
 "nbformat": 4,
 "nbformat_minor": 5
}
