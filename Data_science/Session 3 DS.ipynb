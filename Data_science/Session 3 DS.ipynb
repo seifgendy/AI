{
 "cells": [
  {
   "cell_type": "code",
   "execution_count": 5,
   "id": "84bd9df2",
   "metadata": {},
   "outputs": [],
   "source": [
    "# data ?\n",
    "# how to measure data?\n",
    "# mean \n",
    "# median \n",
    "# mode\n",
    "\n",
    "# variance \n",
    "# std\n",
    "\n",
    "# covraiance \n",
    "# correlation \n",
    "\n",
    "# quartilies\n",
    "# outliers \n",
    "\n",
    "# probability"
   ]
  },
  {
   "cell_type": "code",
   "execution_count": 1,
   "id": "fe6c8cbe",
   "metadata": {},
   "outputs": [],
   "source": [
    "import numpy as np "
   ]
  },
  {
   "cell_type": "code",
   "execution_count": 2,
   "id": "3f81b937",
   "metadata": {},
   "outputs": [],
   "source": [
    "np.random.seed(123)\n",
    "data = np.random.randint(1,100,(100 , 5))"
   ]
  },
  {
   "cell_type": "code",
   "execution_count": 4,
   "id": "a9850ec2",
   "metadata": {},
   "outputs": [],
   "source": [
    "# # data\n",
    "# x first four cols\n",
    "# y last col \n",
    "# x_train , x_test   (x) , y_train , y_test (y)"
   ]
  },
  {
   "cell_type": "code",
   "execution_count": 7,
   "id": "651c3e44",
   "metadata": {},
   "outputs": [],
   "source": [
    "def trin_test_split(data , perc = .5):\n",
    "    x = data[: , :-1]\n",
    "    y = data[: , -1]\n",
    "    n_rows  = int(len(data) * perc) \n",
    "    x_train , x_test = x[:n_rows , :] , x[n_rows: , :]\n",
    "    y_train , y_test = y[ 0 : n_rows] , y[ n_rows :  ]\n",
    "    return x_train , x_test , y_train , y_test "
   ]
  },
  {
   "cell_type": "code",
   "execution_count": 11,
   "id": "fb06f0ec",
   "metadata": {},
   "outputs": [],
   "source": [
    "x_train , x_test , y_train , y_test = trin_test_split(data , .7  )"
   ]
  },
  {
   "cell_type": "code",
   "execution_count": 12,
   "id": "89d316cf",
   "metadata": {},
   "outputs": [
    {
     "data": {
      "text/plain": [
       "(70, 4)"
      ]
     },
     "execution_count": 12,
     "metadata": {},
     "output_type": "execute_result"
    }
   ],
   "source": [
    "x_train.shape"
   ]
  },
  {
   "cell_type": "code",
   "execution_count": 13,
   "id": "c44bb93d",
   "metadata": {},
   "outputs": [
    {
     "data": {
      "text/plain": [
       "(30, 4)"
      ]
     },
     "execution_count": 13,
     "metadata": {},
     "output_type": "execute_result"
    }
   ],
   "source": [
    "x_test.shape"
   ]
  },
  {
   "cell_type": "code",
   "execution_count": 14,
   "id": "6d48a6fb",
   "metadata": {},
   "outputs": [],
   "source": [
    "from sklearn.model_selection import train_test_split"
   ]
  },
  {
   "cell_type": "code",
   "execution_count": 15,
   "id": "ee37b7f0",
   "metadata": {},
   "outputs": [],
   "source": [
    "x = data[: , 0:-1]\n",
    "y = data[: , -1]"
   ]
  },
  {
   "cell_type": "code",
   "execution_count": 20,
   "id": "258a15c4",
   "metadata": {},
   "outputs": [],
   "source": [
    "x_train_ , x_test , y_train , y_test = train_test_split(x , y , train_size=.8 )"
   ]
  },
  {
   "cell_type": "code",
   "execution_count": 21,
   "id": "82bc90b7",
   "metadata": {},
   "outputs": [
    {
     "data": {
      "text/plain": [
       "(80, 4)"
      ]
     },
     "execution_count": 21,
     "metadata": {},
     "output_type": "execute_result"
    }
   ],
   "source": [
    "x_train_.shape"
   ]
  },
  {
   "cell_type": "code",
   "execution_count": 24,
   "id": "1774d699",
   "metadata": {},
   "outputs": [
    {
     "data": {
      "text/plain": [
       "22.666666666666668"
      ]
     },
     "execution_count": 24,
     "metadata": {},
     "output_type": "execute_result"
    }
   ],
   "source": [
    "(20 + 25 + 23 ) / 3"
   ]
  },
  {
   "cell_type": "code",
   "execution_count": 25,
   "id": "9a72c7d4",
   "metadata": {},
   "outputs": [],
   "source": [
    "# 20 , 23 , 25 , 90   = (23 + 25) / 2   = 24 "
   ]
  },
  {
   "cell_type": "code",
   "execution_count": 27,
   "id": "733bca36",
   "metadata": {},
   "outputs": [
    {
     "data": {
      "text/plain": [
       "array([[1, 2, 3, 4, 3],\n",
       "       [2, 3, 4, 5, 6],\n",
       "       [3, 4, 5, 6, 7]])"
      ]
     },
     "execution_count": 27,
     "metadata": {},
     "output_type": "execute_result"
    }
   ],
   "source": [
    "matrix = np.array([ [1,2,3,4,3] , [2,3,4,5,6] , [3,4,5,6,7] ])\n",
    "matrix"
   ]
  },
  {
   "cell_type": "code",
   "execution_count": 28,
   "id": "38e9312a",
   "metadata": {},
   "outputs": [
    {
     "data": {
      "text/plain": [
       "3.8666666666666667"
      ]
     },
     "execution_count": 28,
     "metadata": {},
     "output_type": "execute_result"
    }
   ],
   "source": [
    "np.mean(matrix)"
   ]
  },
  {
   "cell_type": "code",
   "execution_count": 29,
   "id": "142e9a96",
   "metadata": {},
   "outputs": [
    {
     "data": {
      "text/plain": [
       "array([2.        , 3.        , 4.        , 5.        , 5.33333333])"
      ]
     },
     "execution_count": 29,
     "metadata": {},
     "output_type": "execute_result"
    }
   ],
   "source": [
    "np.mean(matrix , axis= 0 )  # axis = 0  >>  colsssss"
   ]
  },
  {
   "cell_type": "code",
   "execution_count": 30,
   "id": "5f7c1179",
   "metadata": {},
   "outputs": [
    {
     "data": {
      "text/plain": [
       "array([2.6, 4. , 5. ])"
      ]
     },
     "execution_count": 30,
     "metadata": {},
     "output_type": "execute_result"
    }
   ],
   "source": [
    "np.mean(matrix , axis= 1 )  # axis = 1  >>  rowssssss"
   ]
  },
  {
   "cell_type": "code",
   "execution_count": 33,
   "id": "d9647572",
   "metadata": {},
   "outputs": [
    {
     "data": {
      "text/plain": [
       "2.6"
      ]
     },
     "execution_count": 33,
     "metadata": {},
     "output_type": "execute_result"
    }
   ],
   "source": [
    "matrix[0].sum() / len(matrix[0])"
   ]
  },
  {
   "cell_type": "code",
   "execution_count": null,
   "id": "abd7096d",
   "metadata": {},
   "outputs": [],
   "source": []
  },
  {
   "cell_type": "code",
   "execution_count": 34,
   "id": "a1a496af",
   "metadata": {},
   "outputs": [
    {
     "data": {
      "text/plain": [
       "4.0"
      ]
     },
     "execution_count": 34,
     "metadata": {},
     "output_type": "execute_result"
    }
   ],
   "source": [
    "np.median(matrix)"
   ]
  },
  {
   "cell_type": "code",
   "execution_count": 36,
   "id": "ea5a04cb",
   "metadata": {},
   "outputs": [
    {
     "data": {
      "text/plain": [
       "array([2., 3., 4., 5., 6.])"
      ]
     },
     "execution_count": 36,
     "metadata": {},
     "output_type": "execute_result"
    }
   ],
   "source": [
    "np.median(matrix , axis= 0 )  # axis = 0  >>  colsssss"
   ]
  },
  {
   "cell_type": "code",
   "execution_count": 37,
   "id": "db9ce695",
   "metadata": {},
   "outputs": [
    {
     "data": {
      "text/plain": [
       "array([3., 4., 5.])"
      ]
     },
     "execution_count": 37,
     "metadata": {},
     "output_type": "execute_result"
    }
   ],
   "source": [
    "np.median(matrix , axis= 1 )  # axis = 1  >>  rowssssss"
   ]
  },
  {
   "cell_type": "code",
   "execution_count": 38,
   "id": "691374c0",
   "metadata": {},
   "outputs": [
    {
     "data": {
      "text/plain": [
       "array([[1, 2, 3, 4, 3],\n",
       "       [2, 3, 4, 5, 6],\n",
       "       [3, 4, 5, 6, 7]])"
      ]
     },
     "execution_count": 38,
     "metadata": {},
     "output_type": "execute_result"
    }
   ],
   "source": [
    "matrix"
   ]
  },
  {
   "cell_type": "code",
   "execution_count": 39,
   "id": "dedd0e47",
   "metadata": {},
   "outputs": [
    {
     "data": {
      "text/plain": [
       "2.648888888888889"
      ]
     },
     "execution_count": 39,
     "metadata": {},
     "output_type": "execute_result"
    }
   ],
   "source": [
    "np.var(matrix)"
   ]
  },
  {
   "cell_type": "code",
   "execution_count": 40,
   "id": "b09ec0fb",
   "metadata": {},
   "outputs": [
    {
     "data": {
      "text/plain": [
       "array([0.66666667, 0.66666667, 0.66666667, 0.66666667, 2.88888889])"
      ]
     },
     "execution_count": 40,
     "metadata": {},
     "output_type": "execute_result"
    }
   ],
   "source": [
    "np.var(matrix , axis = 0 )"
   ]
  },
  {
   "cell_type": "code",
   "execution_count": 41,
   "id": "c2b7a4da",
   "metadata": {},
   "outputs": [
    {
     "data": {
      "text/plain": [
       "array([1.04, 2.  , 2.  ])"
      ]
     },
     "execution_count": 41,
     "metadata": {},
     "output_type": "execute_result"
    }
   ],
   "source": [
    "np.var(matrix , axis = 1 )"
   ]
  },
  {
   "cell_type": "code",
   "execution_count": 42,
   "id": "20b88d78",
   "metadata": {},
   "outputs": [
    {
     "data": {
      "text/plain": [
       "1.6275407487644937"
      ]
     },
     "execution_count": 42,
     "metadata": {},
     "output_type": "execute_result"
    }
   ],
   "source": [
    "np.std(matrix )"
   ]
  },
  {
   "cell_type": "code",
   "execution_count": 43,
   "id": "a21c4706",
   "metadata": {},
   "outputs": [
    {
     "data": {
      "text/plain": [
       "array([0.81649658, 0.81649658, 0.81649658, 0.81649658, 1.69967317])"
      ]
     },
     "execution_count": 43,
     "metadata": {},
     "output_type": "execute_result"
    }
   ],
   "source": [
    "np.std(matrix , axis = 0)"
   ]
  },
  {
   "cell_type": "code",
   "execution_count": 44,
   "id": "54ab9007",
   "metadata": {},
   "outputs": [
    {
     "data": {
      "text/plain": [
       "array([1.0198039 , 1.41421356, 1.41421356])"
      ]
     },
     "execution_count": 44,
     "metadata": {},
     "output_type": "execute_result"
    }
   ],
   "source": [
    "np.std(matrix , axis = 1)"
   ]
  },
  {
   "cell_type": "code",
   "execution_count": 49,
   "id": "f4ff69a4",
   "metadata": {},
   "outputs": [
    {
     "data": {
      "text/plain": [
       "-7.5"
      ]
     },
     "execution_count": 49,
     "metadata": {},
     "output_type": "execute_result"
    }
   ],
   "source": [
    "x = np.array([1,2,3,4,5,6,7,8,9])\n",
    "y = np.array([9,8,7,6,5,4,3,2,1])\n",
    "np.cov(x,y)[0,1]"
   ]
  },
  {
   "cell_type": "code",
   "execution_count": 52,
   "id": "a639052a",
   "metadata": {},
   "outputs": [
    {
     "data": {
      "text/plain": [
       "-0.9941002434954167"
      ]
     },
     "execution_count": 52,
     "metadata": {},
     "output_type": "execute_result"
    }
   ],
   "source": [
    "x = np.array([1,2,3,4,5,6,7,8,8])\n",
    "y = np.array([9,8,7,6,5,4,3,2,1])\n",
    "np.corrcoef(x,y)[1,0]"
   ]
  },
  {
   "cell_type": "code",
   "execution_count": 53,
   "id": "673b1588",
   "metadata": {},
   "outputs": [],
   "source": [
    "d = np.array([5,40,45,46,48,50,55,500])"
   ]
  },
  {
   "cell_type": "code",
   "execution_count": 56,
   "id": "7195e8d2",
   "metadata": {},
   "outputs": [],
   "source": [
    "q1 = np.quantile(d , .25)\n",
    "q2 = np.quantile(d , .50)\n",
    "q3 = np.quantile(d , .75)"
   ]
  },
  {
   "cell_type": "code",
   "execution_count": 57,
   "id": "20b40696",
   "metadata": {},
   "outputs": [
    {
     "data": {
      "text/plain": [
       "7.5"
      ]
     },
     "execution_count": 57,
     "metadata": {},
     "output_type": "execute_result"
    }
   ],
   "source": [
    "IQR = q3 - q1 \n",
    "IQR"
   ]
  },
  {
   "cell_type": "code",
   "execution_count": 58,
   "id": "ade3bdec",
   "metadata": {},
   "outputs": [
    {
     "data": {
      "text/plain": [
       "32.5"
      ]
     },
     "execution_count": 58,
     "metadata": {},
     "output_type": "execute_result"
    }
   ],
   "source": [
    "lower = q1 - (1.5 * IQR)\n",
    "lower"
   ]
  },
  {
   "cell_type": "code",
   "execution_count": 59,
   "id": "61cb588f",
   "metadata": {},
   "outputs": [
    {
     "data": {
      "text/plain": [
       "62.5"
      ]
     },
     "execution_count": 59,
     "metadata": {},
     "output_type": "execute_result"
    }
   ],
   "source": [
    "upper = q3 + (1.5 * IQR)\n",
    "upper"
   ]
  },
  {
   "cell_type": "code",
   "execution_count": 60,
   "id": "b17f0173",
   "metadata": {},
   "outputs": [
    {
     "data": {
      "text/plain": [
       "array([ True,  True,  True,  True,  True,  True,  True, False])"
      ]
     },
     "execution_count": 60,
     "metadata": {},
     "output_type": "execute_result"
    }
   ],
   "source": [
    "d <= upper"
   ]
  },
  {
   "cell_type": "code",
   "execution_count": 61,
   "id": "d074660b",
   "metadata": {},
   "outputs": [
    {
     "data": {
      "text/plain": [
       "array([False,  True,  True,  True,  True,  True,  True,  True])"
      ]
     },
     "execution_count": 61,
     "metadata": {},
     "output_type": "execute_result"
    }
   ],
   "source": [
    "d >= lower"
   ]
  },
  {
   "cell_type": "code",
   "execution_count": 65,
   "id": "1d299dac",
   "metadata": {},
   "outputs": [
    {
     "data": {
      "text/plain": [
       "array([40, 45, 46, 48, 50, 55])"
      ]
     },
     "execution_count": 65,
     "metadata": {},
     "output_type": "execute_result"
    }
   ],
   "source": [
    "d[(d >= lower) & (d <= upper)]"
   ]
  },
  {
   "cell_type": "code",
   "execution_count": null,
   "id": "2ee65f41",
   "metadata": {},
   "outputs": [],
   "source": []
  }
 ],
 "metadata": {
  "kernelspec": {
   "display_name": "Python 3 (ipykernel)",
   "language": "python",
   "name": "python3"
  },
  "language_info": {
   "codemirror_mode": {
    "name": "ipython",
    "version": 3
   },
   "file_extension": ".py",
   "mimetype": "text/x-python",
   "name": "python",
   "nbconvert_exporter": "python",
   "pygments_lexer": "ipython3",
   "version": "3.10.9"
  }
 },
 "nbformat": 4,
 "nbformat_minor": 5
}
