{
 "cells": [
  {
   "cell_type": "markdown",
   "id": "93122368",
   "metadata": {},
   "source": [
    "# RandomOverSampler"
   ]
  },
  {
   "cell_type": "code",
   "execution_count": 19,
   "id": "10bd778b",
   "metadata": {},
   "outputs": [
    {
     "name": "stdout",
     "output_type": "stream",
     "text": [
      "Original dataset shape: Counter({0: 897, 1: 103})\n",
      "Resampled dataset shape: Counter({0: 897, 1: 897})\n"
     ]
    }
   ],
   "source": [
    "from imblearn.over_sampling import RandomOverSampler\n",
    "from collections import Counter\n",
    "from sklearn.datasets import make_classification\n",
    "\n",
    "\n",
    "# Generate a dataset\n",
    "X, y = make_classification(n_samples=1000, n_features=20, n_classes=2, weights=[0.9, 0.1], random_state=42)\n",
    "\n",
    "print('Original dataset shape:', Counter(y))\n",
    "\n",
    "# Apply Random UnderSampler\n",
    "rus = RandomOverSampler(random_state=42)\n",
    "X_res, y_res = rus.fit_resample(X, y)\n",
    "\n",
    "print('Resampled dataset shape:', Counter(y_res))"
   ]
  },
  {
   "cell_type": "code",
   "execution_count": null,
   "id": "18852b6e",
   "metadata": {},
   "outputs": [],
   "source": []
  },
  {
   "cell_type": "markdown",
   "id": "97ee84e6",
   "metadata": {},
   "source": [
    "# SMOTE"
   ]
  },
  {
   "cell_type": "code",
   "execution_count": 22,
   "id": "eb1afaa4",
   "metadata": {},
   "outputs": [
    {
     "name": "stdout",
     "output_type": "stream",
     "text": [
      "Original dataset shape: Counter({0: 897, 1: 103})\n",
      "Resampled dataset shape: Counter({0: 897, 1: 897})\n"
     ]
    }
   ],
   "source": [
    "from imblearn.over_sampling import SMOTE\n",
    "from collections import Counter\n",
    "from sklearn.datasets import make_classification\n",
    "\n",
    "# Generate a dataset\n",
    "X, y = make_classification(n_samples=1000, n_features=20, n_classes=2, weights=[0.9, 0.1], random_state=42)\n",
    "\n",
    "print('Original dataset shape:', Counter(y))\n",
    "\n",
    "# Apply SMOTE\n",
    "smote = SMOTE(random_state=42)\n",
    "X_res, y_res = smote.fit_resample(X, y)\n",
    "\n",
    "print('Resampled dataset shape:', Counter(y_res))\n"
   ]
  },
  {
   "cell_type": "markdown",
   "id": "1861d7eb",
   "metadata": {},
   "source": [
    "# RandomUnderSampler"
   ]
  },
  {
   "cell_type": "code",
   "execution_count": 10,
   "id": "6c686ce0",
   "metadata": {
    "scrolled": true
   },
   "outputs": [
    {
     "name": "stdout",
     "output_type": "stream",
     "text": [
      "Original dataset shape: Counter({0: 897, 1: 103})\n",
      "Resampled dataset shape: Counter({0: 103, 1: 103})\n"
     ]
    }
   ],
   "source": [
    "from imblearn.under_sampling import RandomUnderSampler\n",
    "\n",
    "# Generate a dataset\n",
    "X, y = make_classification(n_samples=1000, n_features=20, n_classes=2, weights=[0.9, 0.1], random_state=42)\n",
    "\n",
    "print('Original dataset shape:', Counter(y))\n",
    "\n",
    "# Apply Random UnderSampler\n",
    "rus = RandomUnderSampler(random_state=42)\n",
    "X_res, y_res = rus.fit_resample(X, y)\n",
    "\n",
    "print('Resampled dataset shape:', Counter(y_res))"
   ]
  },
  {
   "cell_type": "markdown",
   "id": "48db1e45",
   "metadata": {},
   "source": [
    "# TomekLinks"
   ]
  },
  {
   "cell_type": "code",
   "execution_count": 24,
   "id": "731b363a",
   "metadata": {},
   "outputs": [
    {
     "name": "stdout",
     "output_type": "stream",
     "text": [
      "Original dataset shape: Counter({0: 897, 1: 103})\n",
      "Resampled dataset shape: Counter({0: 886, 1: 103})\n"
     ]
    }
   ],
   "source": [
    "from imblearn.under_sampling import TomekLinks\n",
    "from sklearn.datasets import make_classification\n",
    "from collections import Counter\n",
    "\n",
    "# Generate a dataset\n",
    "X, y = make_classification(n_samples=1000, n_features=20, n_classes=2, weights=[0.9, 0.1], random_state=42)\n",
    "\n",
    "print('Original dataset shape:', Counter(y))\n",
    "\n",
    "# Apply Tomek Links\n",
    "tl = TomekLinks()\n",
    "X_res, y_res = tl.fit_resample(X, y)\n",
    "\n",
    "print('Resampled dataset shape:', Counter(y_res))\n"
   ]
  },
  {
   "cell_type": "markdown",
   "id": "eb0f3098",
   "metadata": {},
   "source": [
    "# SMOTETomek"
   ]
  },
  {
   "cell_type": "code",
   "execution_count": 25,
   "id": "11948bde",
   "metadata": {},
   "outputs": [
    {
     "name": "stdout",
     "output_type": "stream",
     "text": [
      "Original dataset shape: Counter({0: 699, 1: 301})\n",
      "Resampled dataset shape: Counter({1: 695, 0: 695})\n"
     ]
    }
   ],
   "source": [
    "from imblearn.combine import SMOTETomek\n",
    "\n",
    "# Generate a dataset\n",
    "X, y = make_classification(n_samples=1000, n_features=20, n_classes=2, weights=[0.7, 0.3], random_state=42)\n",
    "\n",
    "print('Original dataset shape:', Counter(y))\n",
    "\n",
    "# Apply SMOTE + Tomek links\n",
    "smt = SMOTETomek(random_state=42)\n",
    "X_res, y_res = smt.fit_resample(X, y)\n",
    "\n",
    "print('Resampled dataset shape:', Counter(y_res))"
   ]
  },
  {
   "cell_type": "code",
   "execution_count": null,
   "id": "8f3ecc68",
   "metadata": {},
   "outputs": [],
   "source": []
  }
 ],
 "metadata": {
  "kernelspec": {
   "display_name": "Python 3 (ipykernel)",
   "language": "python",
   "name": "python3"
  },
  "language_info": {
   "codemirror_mode": {
    "name": "ipython",
    "version": 3
   },
   "file_extension": ".py",
   "mimetype": "text/x-python",
   "name": "python",
   "nbconvert_exporter": "python",
   "pygments_lexer": "ipython3",
   "version": "3.10.9"
  }
 },
 "nbformat": 4,
 "nbformat_minor": 5
}
