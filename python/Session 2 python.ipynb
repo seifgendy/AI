{
 "cells": [
  {
   "cell_type": "code",
   "execution_count": 5,
   "id": "9cbe8348",
   "metadata": {},
   "outputs": [],
   "source": [
    "w = \"amit\"\n",
    "x = 10 \n",
    "y = 10.0\n",
    "z = True "
   ]
  },
  {
   "cell_type": "code",
   "execution_count": 9,
   "id": "75f4a0b6",
   "metadata": {},
   "outputs": [
    {
     "data": {
      "text/plain": [
       "str"
      ]
     },
     "execution_count": 9,
     "metadata": {},
     "output_type": "execute_result"
    }
   ],
   "source": [
    "type(w)"
   ]
  },
  {
   "cell_type": "code",
   "execution_count": 6,
   "id": "d3c99e2e",
   "metadata": {},
   "outputs": [
    {
     "data": {
      "text/plain": [
       "int"
      ]
     },
     "execution_count": 6,
     "metadata": {},
     "output_type": "execute_result"
    }
   ],
   "source": [
    "type(x)"
   ]
  },
  {
   "cell_type": "code",
   "execution_count": 7,
   "id": "d5fc6e26",
   "metadata": {},
   "outputs": [
    {
     "data": {
      "text/plain": [
       "float"
      ]
     },
     "execution_count": 7,
     "metadata": {},
     "output_type": "execute_result"
    }
   ],
   "source": [
    "type(y)"
   ]
  },
  {
   "cell_type": "code",
   "execution_count": 8,
   "id": "2c4c53d7",
   "metadata": {},
   "outputs": [
    {
     "data": {
      "text/plain": [
       "bool"
      ]
     },
     "execution_count": 8,
     "metadata": {},
     "output_type": "execute_result"
    }
   ],
   "source": [
    "type(z)"
   ]
  },
  {
   "cell_type": "code",
   "execution_count": 11,
   "id": "8322a39a",
   "metadata": {},
   "outputs": [
    {
     "name": "stdout",
     "output_type": "stream",
     "text": [
      "x\n"
     ]
    }
   ],
   "source": [
    "print(\"x\")"
   ]
  },
  {
   "cell_type": "code",
   "execution_count": 12,
   "id": "44531007",
   "metadata": {},
   "outputs": [
    {
     "name": "stdout",
     "output_type": "stream",
     "text": [
      "10\n"
     ]
    }
   ],
   "source": [
    "print(x)"
   ]
  },
  {
   "cell_type": "code",
   "execution_count": 18,
   "id": "acbc0144",
   "metadata": {},
   "outputs": [
    {
     "name": "stdout",
     "output_type": "stream",
     "text": [
      "10\n",
      "amit\n"
     ]
    }
   ],
   "source": [
    "print(x)\n",
    "# print(a)\n",
    "print(w)"
   ]
  },
  {
   "cell_type": "code",
   "execution_count": 24,
   "id": "bc2ccffe",
   "metadata": {},
   "outputs": [
    {
     "name": "stdout",
     "output_type": "stream",
     "text": [
      "Enter your name: amit\n"
     ]
    }
   ],
   "source": [
    "name = input(\"Enter your name: \")"
   ]
  },
  {
   "cell_type": "code",
   "execution_count": 25,
   "id": "3e51c589",
   "metadata": {},
   "outputs": [
    {
     "name": "stdout",
     "output_type": "stream",
     "text": [
      "amit\n"
     ]
    }
   ],
   "source": [
    "print(name)"
   ]
  },
  {
   "cell_type": "code",
   "execution_count": 28,
   "id": "ecabe670",
   "metadata": {},
   "outputs": [
    {
     "name": "stdout",
     "output_type": "stream",
     "text": [
      "Enter your age: 15\n"
     ]
    }
   ],
   "source": [
    "age = int(input(\"Enter your age: \"))"
   ]
  },
  {
   "cell_type": "code",
   "execution_count": 29,
   "id": "9fa27aed",
   "metadata": {},
   "outputs": [
    {
     "data": {
      "text/plain": [
       "int"
      ]
     },
     "execution_count": 29,
     "metadata": {},
     "output_type": "execute_result"
    }
   ],
   "source": [
    "type(age)"
   ]
  },
  {
   "cell_type": "code",
   "execution_count": 35,
   "id": "ef69a968",
   "metadata": {},
   "outputs": [
    {
     "data": {
      "text/plain": [
       "'amit learning'"
      ]
     },
     "execution_count": 35,
     "metadata": {},
     "output_type": "execute_result"
    }
   ],
   "source": [
    "name + \" \" + \"learning\""
   ]
  },
  {
   "cell_type": "code",
   "execution_count": 37,
   "id": "0f37a88e",
   "metadata": {},
   "outputs": [
    {
     "data": {
      "text/plain": [
       "'15 amit'"
      ]
     },
     "execution_count": 37,
     "metadata": {},
     "output_type": "execute_result"
    }
   ],
   "source": [
    "str(age) + \" amit\""
   ]
  },
  {
   "cell_type": "code",
   "execution_count": 38,
   "id": "a3ba8548",
   "metadata": {},
   "outputs": [
    {
     "data": {
      "text/plain": [
       "'amit'"
      ]
     },
     "execution_count": 38,
     "metadata": {},
     "output_type": "execute_result"
    }
   ],
   "source": [
    "name"
   ]
  },
  {
   "cell_type": "code",
   "execution_count": 39,
   "id": "4f05dadd",
   "metadata": {},
   "outputs": [
    {
     "data": {
      "text/plain": [
       "15"
      ]
     },
     "execution_count": 39,
     "metadata": {},
     "output_type": "execute_result"
    }
   ],
   "source": [
    "age"
   ]
  },
  {
   "cell_type": "code",
   "execution_count": 40,
   "id": "687aee72",
   "metadata": {},
   "outputs": [
    {
     "name": "stdout",
     "output_type": "stream",
     "text": [
      "My name is amit and my age is 15\n"
     ]
    }
   ],
   "source": [
    "print(\"My name is \" + name + \" and my age is \" + str(age))"
   ]
  },
  {
   "cell_type": "code",
   "execution_count": 41,
   "id": "7dddead4",
   "metadata": {},
   "outputs": [
    {
     "name": "stdout",
     "output_type": "stream",
     "text": [
      "My name is amit and my age is 15\n"
     ]
    }
   ],
   "source": [
    "print(\"My name is\" , name , \"and my age is\" ,age)"
   ]
  },
  {
   "cell_type": "code",
   "execution_count": 43,
   "id": "c68c60ee",
   "metadata": {},
   "outputs": [
    {
     "name": "stdout",
     "output_type": "stream",
     "text": [
      "My name is amit and my age is 15\n"
     ]
    }
   ],
   "source": [
    "print(\"My name is {} and my age is {}\".format(name , age))"
   ]
  },
  {
   "cell_type": "code",
   "execution_count": 46,
   "id": "156241e3",
   "metadata": {},
   "outputs": [
    {
     "name": "stdout",
     "output_type": "stream",
     "text": [
      "My name is amit and my age is 15\n"
     ]
    }
   ],
   "source": [
    "print(\"My name is {0} and my age is {1}\".format(name , age))"
   ]
  },
  {
   "cell_type": "code",
   "execution_count": 49,
   "id": "22712961",
   "metadata": {},
   "outputs": [
    {
     "name": "stdout",
     "output_type": "stream",
     "text": [
      "My name is amit and my age is 15\n"
     ]
    }
   ],
   "source": [
    "print(f\"My name is {name} and my age is {age}\")"
   ]
  },
  {
   "cell_type": "code",
   "execution_count": 53,
   "id": "9029b08d",
   "metadata": {},
   "outputs": [
    {
     "name": "stdout",
     "output_type": "stream",
     "text": [
      "amit\tlearning\n"
     ]
    }
   ],
   "source": [
    "print(\"amit\" , end = \"\\t\")   # \\n new line  , \\t tab \n",
    "print(\"learning\")"
   ]
  },
  {
   "cell_type": "code",
   "execution_count": 55,
   "id": "4bd1ec7f",
   "metadata": {},
   "outputs": [
    {
     "data": {
      "text/plain": [
       "13"
      ]
     },
     "execution_count": 55,
     "metadata": {},
     "output_type": "execute_result"
    }
   ],
   "source": [
    "x = \"amit learning\"\n",
    "len(x)"
   ]
  },
  {
   "cell_type": "code",
   "execution_count": 56,
   "id": "035d5f8e",
   "metadata": {},
   "outputs": [
    {
     "data": {
      "text/plain": [
       "str"
      ]
     },
     "execution_count": 56,
     "metadata": {},
     "output_type": "execute_result"
    }
   ],
   "source": [
    "type(x)"
   ]
  },
  {
   "cell_type": "code",
   "execution_count": 57,
   "id": "d88da4a2",
   "metadata": {},
   "outputs": [
    {
     "data": {
      "text/plain": [
       "'a'"
      ]
     },
     "execution_count": 57,
     "metadata": {},
     "output_type": "execute_result"
    }
   ],
   "source": [
    "x[0]"
   ]
  },
  {
   "cell_type": "code",
   "execution_count": 59,
   "id": "af67a4cd",
   "metadata": {},
   "outputs": [
    {
     "data": {
      "text/plain": [
       "'g'"
      ]
     },
     "execution_count": 59,
     "metadata": {},
     "output_type": "execute_result"
    }
   ],
   "source": [
    "x[12]"
   ]
  },
  {
   "cell_type": "code",
   "execution_count": 60,
   "id": "331b87b9",
   "metadata": {},
   "outputs": [
    {
     "data": {
      "text/plain": [
       "'g'"
      ]
     },
     "execution_count": 60,
     "metadata": {},
     "output_type": "execute_result"
    }
   ],
   "source": [
    "x[-1]"
   ]
  },
  {
   "cell_type": "code",
   "execution_count": 61,
   "id": "bcc68789",
   "metadata": {},
   "outputs": [
    {
     "data": {
      "text/plain": [
       "True"
      ]
     },
     "execution_count": 61,
     "metadata": {},
     "output_type": "execute_result"
    }
   ],
   "source": [
    "\"a\" in x"
   ]
  },
  {
   "cell_type": "code",
   "execution_count": 62,
   "id": "c5fd412a",
   "metadata": {},
   "outputs": [
    {
     "data": {
      "text/plain": [
       "False"
      ]
     },
     "execution_count": 62,
     "metadata": {},
     "output_type": "execute_result"
    }
   ],
   "source": [
    "\"w\" in x "
   ]
  },
  {
   "cell_type": "code",
   "execution_count": 63,
   "id": "8df46fbc",
   "metadata": {},
   "outputs": [
    {
     "data": {
      "text/plain": [
       "True"
      ]
     },
     "execution_count": 63,
     "metadata": {},
     "output_type": "execute_result"
    }
   ],
   "source": [
    "x.startswith(\"amit\")"
   ]
  },
  {
   "cell_type": "code",
   "execution_count": 64,
   "id": "c9d07225",
   "metadata": {},
   "outputs": [
    {
     "data": {
      "text/plain": [
       "False"
      ]
     },
     "execution_count": 64,
     "metadata": {},
     "output_type": "execute_result"
    }
   ],
   "source": [
    "x.startswith(\"Amit\")"
   ]
  },
  {
   "cell_type": "code",
   "execution_count": 65,
   "id": "2a001b3a",
   "metadata": {},
   "outputs": [
    {
     "data": {
      "text/plain": [
       "True"
      ]
     },
     "execution_count": 65,
     "metadata": {},
     "output_type": "execute_result"
    }
   ],
   "source": [
    "x.endswith(\"ing\")"
   ]
  },
  {
   "cell_type": "code",
   "execution_count": 66,
   "id": "af5d152f",
   "metadata": {},
   "outputs": [
    {
     "data": {
      "text/plain": [
       "False"
      ]
     },
     "execution_count": 66,
     "metadata": {},
     "output_type": "execute_result"
    }
   ],
   "source": [
    "url = \"www.google.com\"\n",
    "url.startswith(\"ww.\")"
   ]
  },
  {
   "cell_type": "code",
   "execution_count": 67,
   "id": "b584f815",
   "metadata": {},
   "outputs": [
    {
     "data": {
      "text/plain": [
       "True"
      ]
     },
     "execution_count": 67,
     "metadata": {},
     "output_type": "execute_result"
    }
   ],
   "source": [
    "url.endswith(\"com\")"
   ]
  },
  {
   "cell_type": "code",
   "execution_count": 70,
   "id": "c855bd8a",
   "metadata": {},
   "outputs": [],
   "source": [
    "url = url.upper()"
   ]
  },
  {
   "cell_type": "code",
   "execution_count": 71,
   "id": "2121e7d4",
   "metadata": {},
   "outputs": [
    {
     "data": {
      "text/plain": [
       "'WWW.GOOGLE.COM'"
      ]
     },
     "execution_count": 71,
     "metadata": {},
     "output_type": "execute_result"
    }
   ],
   "source": [
    "url"
   ]
  },
  {
   "cell_type": "code",
   "execution_count": 74,
   "id": "83794a7f",
   "metadata": {},
   "outputs": [],
   "source": [
    "url = url.lower()"
   ]
  },
  {
   "cell_type": "code",
   "execution_count": 75,
   "id": "d00c9fa3",
   "metadata": {},
   "outputs": [
    {
     "data": {
      "text/plain": [
       "'www.google.com'"
      ]
     },
     "execution_count": 75,
     "metadata": {},
     "output_type": "execute_result"
    }
   ],
   "source": [
    "url"
   ]
  },
  {
   "cell_type": "code",
   "execution_count": 76,
   "id": "9cf93732",
   "metadata": {},
   "outputs": [
    {
     "data": {
      "text/plain": [
       "'Www.google.com'"
      ]
     },
     "execution_count": 76,
     "metadata": {},
     "output_type": "execute_result"
    }
   ],
   "source": [
    "url.capitalize()"
   ]
  },
  {
   "cell_type": "code",
   "execution_count": 77,
   "id": "7104cb80",
   "metadata": {},
   "outputs": [
    {
     "data": {
      "text/plain": [
       "'Www.Google.Com'"
      ]
     },
     "execution_count": 77,
     "metadata": {},
     "output_type": "execute_result"
    }
   ],
   "source": [
    "url.title()"
   ]
  },
  {
   "cell_type": "code",
   "execution_count": 78,
   "id": "120aa250",
   "metadata": {},
   "outputs": [
    {
     "data": {
      "text/plain": [
       "'a'"
      ]
     },
     "execution_count": 78,
     "metadata": {},
     "output_type": "execute_result"
    }
   ],
   "source": [
    "x[0]"
   ]
  },
  {
   "cell_type": "code",
   "execution_count": 79,
   "id": "e16b604f",
   "metadata": {},
   "outputs": [
    {
     "data": {
      "text/plain": [
       "'amit learning'"
      ]
     },
     "execution_count": 79,
     "metadata": {},
     "output_type": "execute_result"
    }
   ],
   "source": [
    "x"
   ]
  },
  {
   "cell_type": "code",
   "execution_count": 80,
   "id": "3495df1a",
   "metadata": {},
   "outputs": [
    {
     "data": {
      "text/plain": [
       "'ami'"
      ]
     },
     "execution_count": 80,
     "metadata": {},
     "output_type": "execute_result"
    }
   ],
   "source": [
    "# x[start= 0 : stop -1  : step = 1] stop not included\n",
    "x[0 : 4 : 1]"
   ]
  },
  {
   "cell_type": "code",
   "execution_count": 81,
   "id": "80dd6c26",
   "metadata": {},
   "outputs": [
    {
     "data": {
      "text/plain": [
       "'ai erig'"
      ]
     },
     "execution_count": 81,
     "metadata": {},
     "output_type": "execute_result"
    }
   ],
   "source": [
    "x[ : : 2 ]"
   ]
  },
  {
   "cell_type": "code",
   "execution_count": 83,
   "id": "02eed0fe",
   "metadata": {},
   "outputs": [
    {
     "data": {
      "text/plain": [
       "'gninrael tima'"
      ]
     },
     "execution_count": 83,
     "metadata": {},
     "output_type": "execute_result"
    }
   ],
   "source": [
    "x[-1 : : -1]"
   ]
  },
  {
   "cell_type": "code",
   "execution_count": 84,
   "id": "0f155130",
   "metadata": {},
   "outputs": [
    {
     "data": {
      "text/plain": [
       "'gninrael tima'"
      ]
     },
     "execution_count": 84,
     "metadata": {},
     "output_type": "execute_result"
    }
   ],
   "source": [
    "x[ : : -1]"
   ]
  },
  {
   "cell_type": "code",
   "execution_count": 85,
   "id": "918ec316",
   "metadata": {},
   "outputs": [],
   "source": [
    "# python operators \n",
    "# if statement\n",
    "# list \n",
    "# tuple \n",
    "# set \n",
    "# dictionary "
   ]
  },
  {
   "cell_type": "code",
   "execution_count": 86,
   "id": "4d68b903",
   "metadata": {},
   "outputs": [],
   "source": [
    "# + - * /  // %  ** pow(,)"
   ]
  },
  {
   "cell_type": "code",
   "execution_count": 87,
   "id": "488b5985",
   "metadata": {},
   "outputs": [
    {
     "data": {
      "text/plain": [
       "20"
      ]
     },
     "execution_count": 87,
     "metadata": {},
     "output_type": "execute_result"
    }
   ],
   "source": [
    "10 + 10 "
   ]
  },
  {
   "cell_type": "code",
   "execution_count": 88,
   "id": "2c31eae9",
   "metadata": {},
   "outputs": [
    {
     "data": {
      "text/plain": [
       "4"
      ]
     },
     "execution_count": 88,
     "metadata": {},
     "output_type": "execute_result"
    }
   ],
   "source": [
    "10 - 6"
   ]
  },
  {
   "cell_type": "code",
   "execution_count": 90,
   "id": "be294bd3",
   "metadata": {},
   "outputs": [
    {
     "data": {
      "text/plain": [
       "100"
      ]
     },
     "execution_count": 90,
     "metadata": {},
     "output_type": "execute_result"
    }
   ],
   "source": [
    "10 * 10"
   ]
  },
  {
   "cell_type": "code",
   "execution_count": 92,
   "id": "9999d177",
   "metadata": {},
   "outputs": [
    {
     "data": {
      "text/plain": [
       "5.0"
      ]
     },
     "execution_count": 92,
     "metadata": {},
     "output_type": "execute_result"
    }
   ],
   "source": [
    "10 / 2   # / float "
   ]
  },
  {
   "cell_type": "code",
   "execution_count": 94,
   "id": "56f9348c",
   "metadata": {},
   "outputs": [
    {
     "data": {
      "text/plain": [
       "5"
      ]
     },
     "execution_count": 94,
     "metadata": {},
     "output_type": "execute_result"
    }
   ],
   "source": [
    "10 // 2  # // int "
   ]
  },
  {
   "cell_type": "code",
   "execution_count": 98,
   "id": "d3b10b8c",
   "metadata": {},
   "outputs": [
    {
     "data": {
      "text/plain": [
       "3.3"
      ]
     },
     "execution_count": 98,
     "metadata": {},
     "output_type": "execute_result"
    }
   ],
   "source": [
    "round((10 / 3) , 1 )"
   ]
  },
  {
   "cell_type": "code",
   "execution_count": 100,
   "id": "4444f6a3",
   "metadata": {},
   "outputs": [
    {
     "data": {
      "text/plain": [
       "1"
      ]
     },
     "execution_count": 100,
     "metadata": {},
     "output_type": "execute_result"
    }
   ],
   "source": [
    "10 % 3 "
   ]
  },
  {
   "cell_type": "code",
   "execution_count": 101,
   "id": "ce08cde8",
   "metadata": {},
   "outputs": [
    {
     "data": {
      "text/plain": [
       "2"
      ]
     },
     "execution_count": 101,
     "metadata": {},
     "output_type": "execute_result"
    }
   ],
   "source": [
    "11 % 3 "
   ]
  },
  {
   "cell_type": "code",
   "execution_count": 102,
   "id": "11efa2c3",
   "metadata": {},
   "outputs": [
    {
     "name": "stdout",
     "output_type": "stream",
     "text": [
      "9\n",
      "8\n"
     ]
    }
   ],
   "source": [
    "print(3 ** 2)    # 3 * 3 \n",
    "print(2 ** 3)    # 2 * 2 * 2 "
   ]
  },
  {
   "cell_type": "code",
   "execution_count": 104,
   "id": "378f3783",
   "metadata": {},
   "outputs": [
    {
     "name": "stdout",
     "output_type": "stream",
     "text": [
      "9\n",
      "8\n"
     ]
    }
   ],
   "source": [
    "print(pow(3 , 2 ))   # 3 * 3 \n",
    "print(pow(2 , 3 ))   # 2 * 2 * 2 "
   ]
  },
  {
   "cell_type": "code",
   "execution_count": 106,
   "id": "af519f21",
   "metadata": {},
   "outputs": [
    {
     "data": {
      "text/plain": [
       "2.5"
      ]
     },
     "execution_count": 106,
     "metadata": {},
     "output_type": "execute_result"
    }
   ],
   "source": [
    "x = 10 \n",
    "y = 15\n",
    "z = True \n",
    "(x + y) / ((z * False ) + (x * True))\n",
    "#  25   /      ( 0       +     10 )\n",
    "#  25   /                10 \n",
    "#       2.5"
   ]
  },
  {
   "cell_type": "code",
   "execution_count": 110,
   "id": "a1c28518",
   "metadata": {},
   "outputs": [],
   "source": [
    "# # x = from user\n",
    "# # y = from user\n",
    "# print(f\"result of addition {round(x + y , 2)}\")"
   ]
  },
  {
   "cell_type": "code",
   "execution_count": 113,
   "id": "7696cc81",
   "metadata": {},
   "outputs": [
    {
     "name": "stdout",
     "output_type": "stream",
     "text": [
      "Enter first num: 20\n",
      "Enter second num: 7\n"
     ]
    }
   ],
   "source": [
    "x = int(input(\"Enter first num: \"))\n",
    "y = int(input(\"Enter second num: \"))"
   ]
  },
  {
   "cell_type": "code",
   "execution_count": 118,
   "id": "b66973c0",
   "metadata": {},
   "outputs": [
    {
     "name": "stdout",
     "output_type": "stream",
     "text": [
      "div of 20 and 7 is 2.86\n"
     ]
    }
   ],
   "source": [
    "print(f\"div of {x} and {y} is {round(x / y , 2)}\")"
   ]
  },
  {
   "cell_type": "code",
   "execution_count": 119,
   "id": "8d44dc4f",
   "metadata": {},
   "outputs": [],
   "source": [
    "# > <  == !=   >= <=   bool (True or False )"
   ]
  },
  {
   "cell_type": "code",
   "execution_count": 120,
   "id": "81bd6d4e",
   "metadata": {},
   "outputs": [
    {
     "data": {
      "text/plain": [
       "True"
      ]
     },
     "execution_count": 120,
     "metadata": {},
     "output_type": "execute_result"
    }
   ],
   "source": [
    "x > y "
   ]
  },
  {
   "cell_type": "code",
   "execution_count": 121,
   "id": "33214bf5",
   "metadata": {},
   "outputs": [
    {
     "data": {
      "text/plain": [
       "False"
      ]
     },
     "execution_count": 121,
     "metadata": {},
     "output_type": "execute_result"
    }
   ],
   "source": [
    "x < y "
   ]
  },
  {
   "cell_type": "code",
   "execution_count": 122,
   "id": "cef539c1",
   "metadata": {},
   "outputs": [
    {
     "data": {
      "text/plain": [
       "20"
      ]
     },
     "execution_count": 122,
     "metadata": {},
     "output_type": "execute_result"
    }
   ],
   "source": [
    "x"
   ]
  },
  {
   "cell_type": "code",
   "execution_count": 123,
   "id": "9211f0d4",
   "metadata": {},
   "outputs": [
    {
     "data": {
      "text/plain": [
       "7"
      ]
     },
     "execution_count": 123,
     "metadata": {},
     "output_type": "execute_result"
    }
   ],
   "source": [
    "y"
   ]
  },
  {
   "cell_type": "code",
   "execution_count": 124,
   "id": "0b7076aa",
   "metadata": {},
   "outputs": [],
   "source": [
    "x = y "
   ]
  },
  {
   "cell_type": "code",
   "execution_count": 125,
   "id": "b1606bea",
   "metadata": {},
   "outputs": [
    {
     "data": {
      "text/plain": [
       "7"
      ]
     },
     "execution_count": 125,
     "metadata": {},
     "output_type": "execute_result"
    }
   ],
   "source": [
    "x"
   ]
  },
  {
   "cell_type": "code",
   "execution_count": 126,
   "id": "359a0bdf",
   "metadata": {},
   "outputs": [
    {
     "data": {
      "text/plain": [
       "7"
      ]
     },
     "execution_count": 126,
     "metadata": {},
     "output_type": "execute_result"
    }
   ],
   "source": [
    "y"
   ]
  },
  {
   "cell_type": "code",
   "execution_count": 127,
   "id": "00f036b4",
   "metadata": {},
   "outputs": [
    {
     "data": {
      "text/plain": [
       "True"
      ]
     },
     "execution_count": 127,
     "metadata": {},
     "output_type": "execute_result"
    }
   ],
   "source": [
    "x == y "
   ]
  },
  {
   "cell_type": "code",
   "execution_count": 128,
   "id": "158bcddc",
   "metadata": {},
   "outputs": [],
   "source": [
    "x , y = 10 , 11"
   ]
  },
  {
   "cell_type": "code",
   "execution_count": 129,
   "id": "f0ff0123",
   "metadata": {},
   "outputs": [
    {
     "data": {
      "text/plain": [
       "True"
      ]
     },
     "execution_count": 129,
     "metadata": {},
     "output_type": "execute_result"
    }
   ],
   "source": [
    "x != y "
   ]
  },
  {
   "cell_type": "code",
   "execution_count": 131,
   "id": "d2dab80e",
   "metadata": {},
   "outputs": [
    {
     "data": {
      "text/plain": [
       "True"
      ]
     },
     "execution_count": 131,
     "metadata": {},
     "output_type": "execute_result"
    }
   ],
   "source": [
    "10 >= 10 "
   ]
  },
  {
   "cell_type": "code",
   "execution_count": 132,
   "id": "89b5f0bf",
   "metadata": {},
   "outputs": [
    {
     "data": {
      "text/plain": [
       "True"
      ]
     },
     "execution_count": 132,
     "metadata": {},
     "output_type": "execute_result"
    }
   ],
   "source": [
    "10 <= 10"
   ]
  },
  {
   "cell_type": "code",
   "execution_count": 133,
   "id": "8b0be4ec",
   "metadata": {},
   "outputs": [],
   "source": [
    "# and , or , not \n",
    "#  *    +"
   ]
  },
  {
   "cell_type": "code",
   "execution_count": 135,
   "id": "5786740c",
   "metadata": {},
   "outputs": [
    {
     "data": {
      "text/plain": [
       "True"
      ]
     },
     "execution_count": 135,
     "metadata": {},
     "output_type": "execute_result"
    }
   ],
   "source": [
    "10 > 9   and   9 > 8 "
   ]
  },
  {
   "cell_type": "code",
   "execution_count": 136,
   "id": "6bd5019d",
   "metadata": {},
   "outputs": [
    {
     "data": {
      "text/plain": [
       "False"
      ]
     },
     "execution_count": 136,
     "metadata": {},
     "output_type": "execute_result"
    }
   ],
   "source": [
    "10 < 9   and   9 > 8 "
   ]
  },
  {
   "cell_type": "code",
   "execution_count": 137,
   "id": "64cc5626",
   "metadata": {},
   "outputs": [
    {
     "data": {
      "text/plain": [
       "0"
      ]
     },
     "execution_count": 137,
     "metadata": {},
     "output_type": "execute_result"
    }
   ],
   "source": [
    "False  * True "
   ]
  },
  {
   "cell_type": "code",
   "execution_count": 138,
   "id": "ae16b6f0",
   "metadata": {},
   "outputs": [
    {
     "data": {
      "text/plain": [
       "True"
      ]
     },
     "execution_count": 138,
     "metadata": {},
     "output_type": "execute_result"
    }
   ],
   "source": [
    "True and True "
   ]
  },
  {
   "cell_type": "code",
   "execution_count": 139,
   "id": "f6fdd1a2",
   "metadata": {},
   "outputs": [
    {
     "data": {
      "text/plain": [
       "False"
      ]
     },
     "execution_count": 139,
     "metadata": {},
     "output_type": "execute_result"
    }
   ],
   "source": [
    "True and False "
   ]
  },
  {
   "cell_type": "code",
   "execution_count": 140,
   "id": "7aa6ac72",
   "metadata": {},
   "outputs": [
    {
     "data": {
      "text/plain": [
       "False"
      ]
     },
     "execution_count": 140,
     "metadata": {},
     "output_type": "execute_result"
    }
   ],
   "source": [
    "False and True "
   ]
  },
  {
   "cell_type": "code",
   "execution_count": 141,
   "id": "c5982f71",
   "metadata": {},
   "outputs": [
    {
     "data": {
      "text/plain": [
       "False"
      ]
     },
     "execution_count": 141,
     "metadata": {},
     "output_type": "execute_result"
    }
   ],
   "source": [
    "False and False "
   ]
  },
  {
   "cell_type": "code",
   "execution_count": 142,
   "id": "aadea245",
   "metadata": {},
   "outputs": [
    {
     "data": {
      "text/plain": [
       "True"
      ]
     },
     "execution_count": 142,
     "metadata": {},
     "output_type": "execute_result"
    }
   ],
   "source": [
    "10 > 9 or 9 < 8 "
   ]
  },
  {
   "cell_type": "code",
   "execution_count": 143,
   "id": "4726d9d9",
   "metadata": {},
   "outputs": [
    {
     "data": {
      "text/plain": [
       "True"
      ]
     },
     "execution_count": 143,
     "metadata": {},
     "output_type": "execute_result"
    }
   ],
   "source": [
    "True or True "
   ]
  },
  {
   "cell_type": "code",
   "execution_count": 144,
   "id": "8311f45c",
   "metadata": {},
   "outputs": [
    {
     "data": {
      "text/plain": [
       "True"
      ]
     },
     "execution_count": 144,
     "metadata": {},
     "output_type": "execute_result"
    }
   ],
   "source": [
    "True or False "
   ]
  },
  {
   "cell_type": "code",
   "execution_count": 145,
   "id": "26c5a74a",
   "metadata": {},
   "outputs": [
    {
     "data": {
      "text/plain": [
       "True"
      ]
     },
     "execution_count": 145,
     "metadata": {},
     "output_type": "execute_result"
    }
   ],
   "source": [
    "False or True "
   ]
  },
  {
   "cell_type": "code",
   "execution_count": 146,
   "id": "d6c7e2a1",
   "metadata": {},
   "outputs": [
    {
     "data": {
      "text/plain": [
       "False"
      ]
     },
     "execution_count": 146,
     "metadata": {},
     "output_type": "execute_result"
    }
   ],
   "source": [
    "False or False"
   ]
  },
  {
   "cell_type": "code",
   "execution_count": 148,
   "id": "f8889bd6",
   "metadata": {},
   "outputs": [
    {
     "data": {
      "text/plain": [
       "True"
      ]
     },
     "execution_count": 148,
     "metadata": {},
     "output_type": "execute_result"
    }
   ],
   "source": [
    "not 10 < 9"
   ]
  },
  {
   "cell_type": "code",
   "execution_count": 149,
   "id": "8e568a67",
   "metadata": {},
   "outputs": [
    {
     "data": {
      "text/plain": [
       "False"
      ]
     },
     "execution_count": 149,
     "metadata": {},
     "output_type": "execute_result"
    }
   ],
   "source": [
    "not True "
   ]
  },
  {
   "cell_type": "code",
   "execution_count": 150,
   "id": "8f3bb266",
   "metadata": {},
   "outputs": [
    {
     "data": {
      "text/plain": [
       "True"
      ]
     },
     "execution_count": 150,
     "metadata": {},
     "output_type": "execute_result"
    }
   ],
   "source": [
    "not False"
   ]
  },
  {
   "cell_type": "code",
   "execution_count": 155,
   "id": "4a6bf2fb",
   "metadata": {},
   "outputs": [],
   "source": [
    "x = 10 \n",
    "x = x + 1 "
   ]
  },
  {
   "cell_type": "code",
   "execution_count": 156,
   "id": "5c861850",
   "metadata": {},
   "outputs": [
    {
     "data": {
      "text/plain": [
       "11"
      ]
     },
     "execution_count": 156,
     "metadata": {},
     "output_type": "execute_result"
    }
   ],
   "source": [
    "x"
   ]
  },
  {
   "cell_type": "code",
   "execution_count": 166,
   "id": "b3beccda",
   "metadata": {},
   "outputs": [],
   "source": [
    "x = 10 \n",
    "x += 2    # x = x + 1 "
   ]
  },
  {
   "cell_type": "code",
   "execution_count": 167,
   "id": "1693c9bc",
   "metadata": {},
   "outputs": [
    {
     "data": {
      "text/plain": [
       "12"
      ]
     },
     "execution_count": 167,
     "metadata": {},
     "output_type": "execute_result"
    }
   ],
   "source": [
    "x"
   ]
  },
  {
   "cell_type": "code",
   "execution_count": 168,
   "id": "0d58a019",
   "metadata": {},
   "outputs": [],
   "source": [
    "# if condition :\n",
    "#     statement ...\n",
    "#     .....\n",
    "#     .....\n",
    "#     ....\n",
    "#     ..."
   ]
  },
  {
   "cell_type": "code",
   "execution_count": 173,
   "id": "2a99eb0c",
   "metadata": {},
   "outputs": [
    {
     "name": "stdout",
     "output_type": "stream",
     "text": [
      "Even\n"
     ]
    }
   ],
   "source": [
    "x = 10 \n",
    "if x % 2 == 0 :\n",
    "    print(\"Even\")\n",
    "else:\n",
    "    print(\"Odd\")"
   ]
  },
  {
   "cell_type": "code",
   "execution_count": 169,
   "id": "765c7481",
   "metadata": {},
   "outputs": [
    {
     "data": {
      "text/plain": [
       "0"
      ]
     },
     "execution_count": 169,
     "metadata": {},
     "output_type": "execute_result"
    }
   ],
   "source": [
    "10 % 2 "
   ]
  },
  {
   "cell_type": "code",
   "execution_count": 174,
   "id": "7e15c045",
   "metadata": {},
   "outputs": [
    {
     "name": "stdout",
     "output_type": "stream",
     "text": [
      "Odd\n"
     ]
    }
   ],
   "source": [
    "x = 11 \n",
    "if x % 2 == 0 :\n",
    "    print(\"Even\")\n",
    "else:\n",
    "    print(\"Odd\")"
   ]
  },
  {
   "cell_type": "code",
   "execution_count": 176,
   "id": "a419ac4e",
   "metadata": {},
   "outputs": [
    {
     "data": {
      "text/plain": [
       "False"
      ]
     },
     "execution_count": 176,
     "metadata": {},
     "output_type": "execute_result"
    }
   ],
   "source": [
    "11 % 2  == 0"
   ]
  },
  {
   "cell_type": "code",
   "execution_count": 179,
   "id": "513be9c6",
   "metadata": {},
   "outputs": [
    {
     "name": "stdout",
     "output_type": "stream",
     "text": [
      "expected  salary 11000\n",
      "accept\n"
     ]
    }
   ],
   "source": [
    "salary = int(input(\"expected  salary \"))\n",
    "if salary > 10000 :\n",
    "    print(\"accept\")\n",
    "else:\n",
    "    print(\"not accept\")"
   ]
  },
  {
   "cell_type": "code",
   "execution_count": 184,
   "id": "f6922f42",
   "metadata": {},
   "outputs": [
    {
     "name": "stdout",
     "output_type": "stream",
     "text": [
      "Enter your grade: 101\n",
      "F\n"
     ]
    }
   ],
   "source": [
    "grade = int(input(\"Enter your grade: \"))\n",
    "if grade >= 90 and grade <= 100:\n",
    "    print(\"EX\")\n",
    "elif grade >= 80 and grade < 90 :\n",
    "    print(\"VG\")\n",
    "elif grade >= 70 and grade < 80 :\n",
    "    print(\"G\")\n",
    "else:\n",
    "    print(\"F\")"
   ]
  },
  {
   "cell_type": "code",
   "execution_count": 187,
   "id": "c5ee28a5",
   "metadata": {},
   "outputs": [
    {
     "name": "stdout",
     "output_type": "stream",
     "text": [
      "not acc\n"
     ]
    }
   ],
   "source": [
    "salary = 10000\n",
    "online = False \n",
    "if salary >= 10000 and online == True :\n",
    "    print(\"acc\")\n",
    "else:\n",
    "    print(\"not acc\")"
   ]
  },
  {
   "cell_type": "code",
   "execution_count": 188,
   "id": "2241dc87",
   "metadata": {},
   "outputs": [
    {
     "name": "stdout",
     "output_type": "stream",
     "text": [
      "Even\n"
     ]
    }
   ],
   "source": [
    "x = 10 \n",
    "print(\"Even\") if x % 2 == 0 else print(\"Odd\")"
   ]
  },
  {
   "cell_type": "code",
   "execution_count": 192,
   "id": "3c43690e",
   "metadata": {},
   "outputs": [],
   "source": [
    "x = 11\n",
    "y = \"Even\" if x % 2 == 0 else \"Odd\""
   ]
  },
  {
   "cell_type": "code",
   "execution_count": 193,
   "id": "3130a8e3",
   "metadata": {},
   "outputs": [
    {
     "data": {
      "text/plain": [
       "'Odd'"
      ]
     },
     "execution_count": 193,
     "metadata": {},
     "output_type": "execute_result"
    }
   ],
   "source": [
    "y"
   ]
  },
  {
   "cell_type": "code",
   "execution_count": 209,
   "id": "07be4b2c",
   "metadata": {},
   "outputs": [
    {
     "name": "stdout",
     "output_type": "stream",
     "text": [
      "Expected salary: 12000\n",
      "(1) online or (0) offline: 0\n",
      "Not acc becouse job is offline \n"
     ]
    }
   ],
   "source": [
    "salary = int(input(\"Expected salary: \"))\n",
    "online = bool(int(input(\"(1) online or (0) offline: \")))\n",
    "if salary >= 10000  :\n",
    "    if online :\n",
    "        print(\"Acc\")\n",
    "    else:\n",
    "        print(\"Not acc becouse job is offline \")\n",
    "else:\n",
    "    print(\"not acc becouse salary is less than 10000 \")"
   ]
  },
  {
   "cell_type": "code",
   "execution_count": 205,
   "id": "b1ceb78c",
   "metadata": {},
   "outputs": [
    {
     "data": {
      "text/plain": [
       "False"
      ]
     },
     "execution_count": 205,
     "metadata": {},
     "output_type": "execute_result"
    }
   ],
   "source": [
    "bool(int(\"0\"))"
   ]
  },
  {
   "cell_type": "code",
   "execution_count": 206,
   "id": "d8160683",
   "metadata": {},
   "outputs": [
    {
     "data": {
      "text/plain": [
       "False"
      ]
     },
     "execution_count": 206,
     "metadata": {},
     "output_type": "execute_result"
    }
   ],
   "source": [
    "bool(0)"
   ]
  },
  {
   "cell_type": "code",
   "execution_count": 213,
   "id": "c6752fbd",
   "metadata": {},
   "outputs": [
    {
     "data": {
      "text/plain": [
       "False"
      ]
     },
     "execution_count": 213,
     "metadata": {},
     "output_type": "execute_result"
    }
   ],
   "source": [
    "bool(0)"
   ]
  },
  {
   "cell_type": "code",
   "execution_count": 216,
   "id": "bbedd7db",
   "metadata": {},
   "outputs": [],
   "source": [
    "x = 10 \n",
    "y = 20 \n",
    "z = \"amit\""
   ]
  },
  {
   "cell_type": "code",
   "execution_count": 218,
   "id": "4373099a",
   "metadata": {},
   "outputs": [
    {
     "data": {
      "text/plain": [
       "list"
      ]
     },
     "execution_count": 218,
     "metadata": {},
     "output_type": "execute_result"
    }
   ],
   "source": [
    "# list\n",
    "lst = [1,2,3,4,5,5]   # or lst = list(seq)\n",
    "type(lst)"
   ]
  },
  {
   "cell_type": "code",
   "execution_count": 219,
   "id": "2b3735ca",
   "metadata": {},
   "outputs": [
    {
     "data": {
      "text/plain": [
       "6"
      ]
     },
     "execution_count": 219,
     "metadata": {},
     "output_type": "execute_result"
    }
   ],
   "source": [
    "len(lst)"
   ]
  },
  {
   "cell_type": "code",
   "execution_count": 220,
   "id": "2e9bb232",
   "metadata": {},
   "outputs": [
    {
     "data": {
      "text/plain": [
       "5"
      ]
     },
     "execution_count": 220,
     "metadata": {},
     "output_type": "execute_result"
    }
   ],
   "source": [
    "max(lst)"
   ]
  },
  {
   "cell_type": "code",
   "execution_count": 221,
   "id": "53c34cd2",
   "metadata": {},
   "outputs": [
    {
     "data": {
      "text/plain": [
       "1"
      ]
     },
     "execution_count": 221,
     "metadata": {},
     "output_type": "execute_result"
    }
   ],
   "source": [
    "min(lst)"
   ]
  },
  {
   "cell_type": "code",
   "execution_count": 222,
   "id": "f4c733f8",
   "metadata": {},
   "outputs": [
    {
     "data": {
      "text/plain": [
       "20"
      ]
     },
     "execution_count": 222,
     "metadata": {},
     "output_type": "execute_result"
    }
   ],
   "source": [
    "sum(lst)"
   ]
  },
  {
   "cell_type": "code",
   "execution_count": 228,
   "id": "1af43737",
   "metadata": {},
   "outputs": [],
   "source": [
    "# lst.append(value)\n",
    "lst.append(10)"
   ]
  },
  {
   "cell_type": "code",
   "execution_count": 224,
   "id": "1ee9eed2",
   "metadata": {},
   "outputs": [
    {
     "data": {
      "text/plain": [
       "[1, 2, 3, 4, 5, 5, 10]"
      ]
     },
     "execution_count": 224,
     "metadata": {},
     "output_type": "execute_result"
    }
   ],
   "source": [
    "lst"
   ]
  },
  {
   "cell_type": "code",
   "execution_count": 225,
   "id": "c01bf5b9",
   "metadata": {},
   "outputs": [],
   "source": [
    "# lst.insert(index , value)\n",
    "lst.insert(0 , 10)"
   ]
  },
  {
   "cell_type": "code",
   "execution_count": 226,
   "id": "b5aec57e",
   "metadata": {},
   "outputs": [
    {
     "data": {
      "text/plain": [
       "[10, 1, 2, 3, 4, 5, 5, 10]"
      ]
     },
     "execution_count": 226,
     "metadata": {},
     "output_type": "execute_result"
    }
   ],
   "source": [
    "lst"
   ]
  },
  {
   "cell_type": "code",
   "execution_count": 229,
   "id": "a52957fd",
   "metadata": {},
   "outputs": [],
   "source": [
    "lst.extend([20 , 30 , 40 ])"
   ]
  },
  {
   "cell_type": "code",
   "execution_count": 230,
   "id": "e60b4356",
   "metadata": {},
   "outputs": [
    {
     "data": {
      "text/plain": [
       "[10, 1, 2, 3, 4, 5, 5, 10, 20, 30, 40]"
      ]
     },
     "execution_count": 230,
     "metadata": {},
     "output_type": "execute_result"
    }
   ],
   "source": [
    "lst"
   ]
  },
  {
   "cell_type": "code",
   "execution_count": 231,
   "id": "bc56f736",
   "metadata": {},
   "outputs": [],
   "source": [
    "lst.sort()"
   ]
  },
  {
   "cell_type": "code",
   "execution_count": 232,
   "id": "8eb08811",
   "metadata": {},
   "outputs": [
    {
     "data": {
      "text/plain": [
       "[1, 2, 3, 4, 5, 5, 10, 10, 20, 30, 40]"
      ]
     },
     "execution_count": 232,
     "metadata": {},
     "output_type": "execute_result"
    }
   ],
   "source": [
    "lst"
   ]
  },
  {
   "cell_type": "code",
   "execution_count": 233,
   "id": "581bf3c2",
   "metadata": {},
   "outputs": [],
   "source": [
    "# lst.append(value)\n",
    "# lst.extend(seq)\n",
    "# lst.insert(index , value)"
   ]
  },
  {
   "cell_type": "code",
   "execution_count": 235,
   "id": "ffec19ba",
   "metadata": {},
   "outputs": [],
   "source": [
    "lst = [1, 2, 3, 4, 5, 5, 10, 10, 20, 30, 40]"
   ]
  },
  {
   "cell_type": "code",
   "execution_count": 236,
   "id": "69492248",
   "metadata": {},
   "outputs": [
    {
     "data": {
      "text/plain": [
       "[1, 2, 3, 4, 5, 5, 10, 10, 20, 30, 40]"
      ]
     },
     "execution_count": 236,
     "metadata": {},
     "output_type": "execute_result"
    }
   ],
   "source": [
    "lst"
   ]
  },
  {
   "cell_type": "code",
   "execution_count": 237,
   "id": "5fac3c96",
   "metadata": {},
   "outputs": [],
   "source": [
    "# lst.remove(value)\n",
    "lst.remove(10)"
   ]
  },
  {
   "cell_type": "code",
   "execution_count": 238,
   "id": "4af0faa3",
   "metadata": {},
   "outputs": [
    {
     "data": {
      "text/plain": [
       "[1, 2, 3, 4, 5, 5, 10, 20, 30, 40]"
      ]
     },
     "execution_count": 238,
     "metadata": {},
     "output_type": "execute_result"
    }
   ],
   "source": [
    "lst"
   ]
  },
  {
   "cell_type": "code",
   "execution_count": 240,
   "id": "ce2ec85d",
   "metadata": {},
   "outputs": [
    {
     "name": "stdout",
     "output_type": "stream",
     "text": [
      "Error: list.remove(x): x not in list\n"
     ]
    }
   ],
   "source": [
    "try:\n",
    "    lst.remove(100)\n",
    "except Exception as e :\n",
    "    print(\"Error:\" , e)"
   ]
  },
  {
   "cell_type": "code",
   "execution_count": 241,
   "id": "4f205ede",
   "metadata": {},
   "outputs": [
    {
     "data": {
      "text/plain": [
       "40"
      ]
     },
     "execution_count": 241,
     "metadata": {},
     "output_type": "execute_result"
    }
   ],
   "source": [
    "# lst.pop(index = -1)\n",
    "lst.pop()"
   ]
  },
  {
   "cell_type": "code",
   "execution_count": 242,
   "id": "38a22004",
   "metadata": {},
   "outputs": [
    {
     "data": {
      "text/plain": [
       "[1, 2, 3, 4, 5, 5, 10, 20, 30]"
      ]
     },
     "execution_count": 242,
     "metadata": {},
     "output_type": "execute_result"
    }
   ],
   "source": [
    "lst"
   ]
  },
  {
   "cell_type": "code",
   "execution_count": 243,
   "id": "e4c18bdb",
   "metadata": {},
   "outputs": [
    {
     "data": {
      "text/plain": [
       "5"
      ]
     },
     "execution_count": 243,
     "metadata": {},
     "output_type": "execute_result"
    }
   ],
   "source": [
    "lst.pop(4)"
   ]
  },
  {
   "cell_type": "code",
   "execution_count": 244,
   "id": "ef0b1f70",
   "metadata": {},
   "outputs": [
    {
     "data": {
      "text/plain": [
       "[1, 2, 3, 4, 5, 10, 20, 30]"
      ]
     },
     "execution_count": 244,
     "metadata": {},
     "output_type": "execute_result"
    }
   ],
   "source": [
    "lst"
   ]
  },
  {
   "cell_type": "code",
   "execution_count": 246,
   "id": "858e37e6",
   "metadata": {},
   "outputs": [
    {
     "data": {
      "text/plain": [
       "30"
      ]
     },
     "execution_count": 246,
     "metadata": {},
     "output_type": "execute_result"
    }
   ],
   "source": [
    "lst[-1]"
   ]
  },
  {
   "cell_type": "code",
   "execution_count": null,
   "id": "a4388955",
   "metadata": {},
   "outputs": [],
   "source": [
    "del lst[-1]"
   ]
  },
  {
   "cell_type": "code",
   "execution_count": 248,
   "id": "ce54c7d4",
   "metadata": {},
   "outputs": [
    {
     "data": {
      "text/plain": [
       "[1, 2, 3, 4, 5, 10, 20]"
      ]
     },
     "execution_count": 248,
     "metadata": {},
     "output_type": "execute_result"
    }
   ],
   "source": [
    "lst"
   ]
  },
  {
   "cell_type": "code",
   "execution_count": 249,
   "id": "11944faa",
   "metadata": {},
   "outputs": [],
   "source": [
    "# lst.remove(value)\n",
    "# lst.pop(index=-1)\n",
    "# del lst[index]"
   ]
  },
  {
   "cell_type": "code",
   "execution_count": 252,
   "id": "98745d1f",
   "metadata": {},
   "outputs": [
    {
     "data": {
      "text/plain": [
       "3"
      ]
     },
     "execution_count": 252,
     "metadata": {},
     "output_type": "execute_result"
    }
   ],
   "source": [
    "# lst.index(value)\n",
    "lst.index(4)"
   ]
  },
  {
   "cell_type": "code",
   "execution_count": 253,
   "id": "339b5e42",
   "metadata": {},
   "outputs": [],
   "source": [
    "lst.append(5)"
   ]
  },
  {
   "cell_type": "code",
   "execution_count": 254,
   "id": "cf74b5c6",
   "metadata": {},
   "outputs": [
    {
     "data": {
      "text/plain": [
       "[1, 2, 3, 4, 5, 10, 20, 5]"
      ]
     },
     "execution_count": 254,
     "metadata": {},
     "output_type": "execute_result"
    }
   ],
   "source": [
    "lst"
   ]
  },
  {
   "cell_type": "code",
   "execution_count": 255,
   "id": "5b38d21e",
   "metadata": {},
   "outputs": [
    {
     "data": {
      "text/plain": [
       "2"
      ]
     },
     "execution_count": 255,
     "metadata": {},
     "output_type": "execute_result"
    }
   ],
   "source": [
    "# lst.count(value)\n",
    "lst.count(5)"
   ]
  },
  {
   "cell_type": "code",
   "execution_count": 256,
   "id": "a30691ba",
   "metadata": {},
   "outputs": [],
   "source": [
    "lst2 = lst"
   ]
  },
  {
   "cell_type": "code",
   "execution_count": 257,
   "id": "a6f5c963",
   "metadata": {},
   "outputs": [
    {
     "data": {
      "text/plain": [
       "[1, 2, 3, 4, 5, 10, 20, 5]"
      ]
     },
     "execution_count": 257,
     "metadata": {},
     "output_type": "execute_result"
    }
   ],
   "source": [
    "lst2"
   ]
  },
  {
   "cell_type": "code",
   "execution_count": 258,
   "id": "65bf3105",
   "metadata": {},
   "outputs": [
    {
     "data": {
      "text/plain": [
       "[1, 2, 3, 4, 5, 10, 20, 5]"
      ]
     },
     "execution_count": 258,
     "metadata": {},
     "output_type": "execute_result"
    }
   ],
   "source": [
    "lst"
   ]
  },
  {
   "cell_type": "code",
   "execution_count": 259,
   "id": "5ff9a461",
   "metadata": {},
   "outputs": [],
   "source": [
    "lst2.remove(5)"
   ]
  },
  {
   "cell_type": "code",
   "execution_count": 260,
   "id": "e802aeb0",
   "metadata": {},
   "outputs": [
    {
     "data": {
      "text/plain": [
       "[1, 2, 3, 4, 10, 20, 5]"
      ]
     },
     "execution_count": 260,
     "metadata": {},
     "output_type": "execute_result"
    }
   ],
   "source": [
    "lst2"
   ]
  },
  {
   "cell_type": "code",
   "execution_count": 261,
   "id": "b4f25883",
   "metadata": {},
   "outputs": [
    {
     "data": {
      "text/plain": [
       "[1, 2, 3, 4, 10, 20, 5]"
      ]
     },
     "execution_count": 261,
     "metadata": {},
     "output_type": "execute_result"
    }
   ],
   "source": [
    "lst"
   ]
  },
  {
   "cell_type": "code",
   "execution_count": 262,
   "id": "30681e64",
   "metadata": {},
   "outputs": [],
   "source": [
    "lst2 = lst.copy()"
   ]
  },
  {
   "cell_type": "code",
   "execution_count": 263,
   "id": "e52a0df9",
   "metadata": {},
   "outputs": [
    {
     "data": {
      "text/plain": [
       "[1, 2, 3, 4, 10, 20, 5]"
      ]
     },
     "execution_count": 263,
     "metadata": {},
     "output_type": "execute_result"
    }
   ],
   "source": [
    "lst"
   ]
  },
  {
   "cell_type": "code",
   "execution_count": 264,
   "id": "7eeadd78",
   "metadata": {},
   "outputs": [
    {
     "data": {
      "text/plain": [
       "[1, 2, 3, 4, 10, 20, 5]"
      ]
     },
     "execution_count": 264,
     "metadata": {},
     "output_type": "execute_result"
    }
   ],
   "source": [
    "lst2"
   ]
  },
  {
   "cell_type": "code",
   "execution_count": 265,
   "id": "7a7d481a",
   "metadata": {},
   "outputs": [],
   "source": [
    "lst2.append(5)"
   ]
  },
  {
   "cell_type": "code",
   "execution_count": 266,
   "id": "a5627a2e",
   "metadata": {},
   "outputs": [
    {
     "data": {
      "text/plain": [
       "[1, 2, 3, 4, 10, 20, 5, 5]"
      ]
     },
     "execution_count": 266,
     "metadata": {},
     "output_type": "execute_result"
    }
   ],
   "source": [
    "lst2"
   ]
  },
  {
   "cell_type": "code",
   "execution_count": 267,
   "id": "75dafdba",
   "metadata": {},
   "outputs": [
    {
     "data": {
      "text/plain": [
       "[1, 2, 3, 4, 10, 20, 5]"
      ]
     },
     "execution_count": 267,
     "metadata": {},
     "output_type": "execute_result"
    }
   ],
   "source": [
    "lst"
   ]
  },
  {
   "cell_type": "code",
   "execution_count": 268,
   "id": "96800010",
   "metadata": {},
   "outputs": [],
   "source": [
    "lst2.clear()"
   ]
  },
  {
   "cell_type": "code",
   "execution_count": 269,
   "id": "151668af",
   "metadata": {},
   "outputs": [
    {
     "data": {
      "text/plain": [
       "[]"
      ]
     },
     "execution_count": 269,
     "metadata": {},
     "output_type": "execute_result"
    }
   ],
   "source": [
    "lst2"
   ]
  },
  {
   "cell_type": "code",
   "execution_count": 270,
   "id": "3fa95795",
   "metadata": {},
   "outputs": [],
   "source": [
    "del lst2"
   ]
  },
  {
   "cell_type": "code",
   "execution_count": 272,
   "id": "fcc8a413",
   "metadata": {},
   "outputs": [
    {
     "name": "stdout",
     "output_type": "stream",
     "text": [
      "Error: name 'lst2' is not defined\n"
     ]
    }
   ],
   "source": [
    "try:\n",
    "    print(lst2)\n",
    "except Exception as e :\n",
    "    print(\"Error:\" , e)"
   ]
  },
  {
   "cell_type": "code",
   "execution_count": 274,
   "id": "161e184d",
   "metadata": {},
   "outputs": [],
   "source": [
    "lst[0] = 10"
   ]
  },
  {
   "cell_type": "code",
   "execution_count": 275,
   "id": "2bb566cb",
   "metadata": {},
   "outputs": [
    {
     "data": {
      "text/plain": [
       "[10, 2, 3, 4, 10, 20, 5]"
      ]
     },
     "execution_count": 275,
     "metadata": {},
     "output_type": "execute_result"
    }
   ],
   "source": [
    "lst"
   ]
  },
  {
   "cell_type": "code",
   "execution_count": 276,
   "id": "7da3a084",
   "metadata": {},
   "outputs": [],
   "source": [
    "# immutable   >> tuple , int , float , ...str \n",
    "\n",
    "# mutable     >>  list , dict , set "
   ]
  },
  {
   "cell_type": "code",
   "execution_count": 277,
   "id": "095a5d84",
   "metadata": {},
   "outputs": [],
   "source": [
    "x = 10   "
   ]
  },
  {
   "cell_type": "code",
   "execution_count": 278,
   "id": "3786d2e8",
   "metadata": {},
   "outputs": [
    {
     "data": {
      "text/plain": [
       "2758874366480"
      ]
     },
     "execution_count": 278,
     "metadata": {},
     "output_type": "execute_result"
    }
   ],
   "source": [
    "id(x)"
   ]
  },
  {
   "cell_type": "code",
   "execution_count": 279,
   "id": "9d80e3e9",
   "metadata": {},
   "outputs": [],
   "source": [
    "x = 20 "
   ]
  },
  {
   "cell_type": "code",
   "execution_count": 280,
   "id": "7bf36ef4",
   "metadata": {},
   "outputs": [
    {
     "data": {
      "text/plain": [
       "2758874366800"
      ]
     },
     "execution_count": 280,
     "metadata": {},
     "output_type": "execute_result"
    }
   ],
   "source": [
    "id(x)"
   ]
  },
  {
   "cell_type": "code",
   "execution_count": null,
   "id": "cf2c522b",
   "metadata": {},
   "outputs": [],
   "source": []
  },
  {
   "cell_type": "code",
   "execution_count": 281,
   "id": "860c312e",
   "metadata": {},
   "outputs": [],
   "source": [
    "# # list\n",
    "# lst = [] or lst = list(seq)\n",
    "# type(lst)\n",
    "# len(lst)\n",
    "# max(lst)\n",
    "# min(lst)\n",
    "# sum(lst)\n",
    "# lst[index] = value\n",
    "# lst.append(value)\n",
    "# lst.insert(index , value)\n",
    "# lst.extend(seq)\n",
    "# lst.remove(value)\n",
    "# lst.pop(index=-1)\n",
    "# del lst[index]\n",
    "# lst2 = lst.copy()\n",
    "# lst.sort()\n",
    "# lst.clear()\n",
    "# lst.index(value)\n",
    "# lst.count(value)\n",
    "# del lst"
   ]
  },
  {
   "cell_type": "code",
   "execution_count": 297,
   "id": "fc013096",
   "metadata": {},
   "outputs": [
    {
     "data": {
      "text/plain": [
       "tuple"
      ]
     },
     "execution_count": 297,
     "metadata": {},
     "output_type": "execute_result"
    }
   ],
   "source": [
    "# tuple\n",
    "t = (1,2,3,4,5,5)   # or t = tuple(seq)\n",
    "type(t)"
   ]
  },
  {
   "cell_type": "code",
   "execution_count": 298,
   "id": "53682fc5",
   "metadata": {},
   "outputs": [
    {
     "data": {
      "text/plain": [
       "2758990654496"
      ]
     },
     "execution_count": 298,
     "metadata": {},
     "output_type": "execute_result"
    }
   ],
   "source": [
    "id(t)"
   ]
  },
  {
   "cell_type": "code",
   "execution_count": 299,
   "id": "ef197200",
   "metadata": {},
   "outputs": [
    {
     "data": {
      "text/plain": [
       "6"
      ]
     },
     "execution_count": 299,
     "metadata": {},
     "output_type": "execute_result"
    }
   ],
   "source": [
    "len(t)"
   ]
  },
  {
   "cell_type": "code",
   "execution_count": 300,
   "id": "7a7248c0",
   "metadata": {},
   "outputs": [
    {
     "data": {
      "text/plain": [
       "5"
      ]
     },
     "execution_count": 300,
     "metadata": {},
     "output_type": "execute_result"
    }
   ],
   "source": [
    "max(t)"
   ]
  },
  {
   "cell_type": "code",
   "execution_count": 301,
   "id": "44d12744",
   "metadata": {},
   "outputs": [
    {
     "data": {
      "text/plain": [
       "1"
      ]
     },
     "execution_count": 301,
     "metadata": {},
     "output_type": "execute_result"
    }
   ],
   "source": [
    "min(t)"
   ]
  },
  {
   "cell_type": "code",
   "execution_count": 302,
   "id": "1380f0bf",
   "metadata": {},
   "outputs": [
    {
     "data": {
      "text/plain": [
       "20"
      ]
     },
     "execution_count": 302,
     "metadata": {},
     "output_type": "execute_result"
    }
   ],
   "source": [
    "sum(t)"
   ]
  },
  {
   "cell_type": "code",
   "execution_count": 303,
   "id": "99bc8191",
   "metadata": {},
   "outputs": [
    {
     "data": {
      "text/plain": [
       "1"
      ]
     },
     "execution_count": 303,
     "metadata": {},
     "output_type": "execute_result"
    }
   ],
   "source": [
    "t[0]"
   ]
  },
  {
   "cell_type": "code",
   "execution_count": 304,
   "id": "9c9d30a7",
   "metadata": {},
   "outputs": [
    {
     "data": {
      "text/plain": [
       "5"
      ]
     },
     "execution_count": 304,
     "metadata": {},
     "output_type": "execute_result"
    }
   ],
   "source": [
    "t[-1]"
   ]
  },
  {
   "cell_type": "code",
   "execution_count": 305,
   "id": "ab40d8e3",
   "metadata": {},
   "outputs": [
    {
     "name": "stdout",
     "output_type": "stream",
     "text": [
      "Error: 'tuple' object does not support item assignment\n"
     ]
    }
   ],
   "source": [
    "try:\n",
    "    t[-1] = 10\n",
    "except Exception as e :\n",
    "    print(\"Error:\" ,e )"
   ]
  },
  {
   "cell_type": "code",
   "execution_count": 306,
   "id": "a994f928",
   "metadata": {},
   "outputs": [
    {
     "data": {
      "text/plain": [
       "[1, 2, 3, 4, 5, 5]"
      ]
     },
     "execution_count": 306,
     "metadata": {},
     "output_type": "execute_result"
    }
   ],
   "source": [
    "lst_t = list(t)\n",
    "lst_t"
   ]
  },
  {
   "cell_type": "code",
   "execution_count": 307,
   "id": "bdd9f2b4",
   "metadata": {},
   "outputs": [],
   "source": [
    "lst_t[-1] = 10 "
   ]
  },
  {
   "cell_type": "code",
   "execution_count": 308,
   "id": "b7115090",
   "metadata": {},
   "outputs": [
    {
     "data": {
      "text/plain": [
       "[1, 2, 3, 4, 5, 10]"
      ]
     },
     "execution_count": 308,
     "metadata": {},
     "output_type": "execute_result"
    }
   ],
   "source": [
    "lst_t"
   ]
  },
  {
   "cell_type": "code",
   "execution_count": 309,
   "id": "d900e5c9",
   "metadata": {},
   "outputs": [],
   "source": [
    "t = tuple(lst_t)"
   ]
  },
  {
   "cell_type": "code",
   "execution_count": 310,
   "id": "9b80d62a",
   "metadata": {},
   "outputs": [
    {
     "data": {
      "text/plain": [
       "(1, 2, 3, 4, 5, 10)"
      ]
     },
     "execution_count": 310,
     "metadata": {},
     "output_type": "execute_result"
    }
   ],
   "source": [
    "t"
   ]
  },
  {
   "cell_type": "code",
   "execution_count": 311,
   "id": "048d9017",
   "metadata": {},
   "outputs": [
    {
     "data": {
      "text/plain": [
       "2758990655840"
      ]
     },
     "execution_count": 311,
     "metadata": {},
     "output_type": "execute_result"
    }
   ],
   "source": [
    "id(t)"
   ]
  },
  {
   "cell_type": "code",
   "execution_count": 316,
   "id": "f8d65554",
   "metadata": {},
   "outputs": [],
   "source": [
    "t = t + (100,)"
   ]
  },
  {
   "cell_type": "code",
   "execution_count": 317,
   "id": "b44068ff",
   "metadata": {},
   "outputs": [
    {
     "data": {
      "text/plain": [
       "1"
      ]
     },
     "execution_count": 317,
     "metadata": {},
     "output_type": "execute_result"
    }
   ],
   "source": [
    "t.count(5)"
   ]
  },
  {
   "cell_type": "code",
   "execution_count": 319,
   "id": "a26e0af8",
   "metadata": {},
   "outputs": [
    {
     "data": {
      "text/plain": [
       "(1, 2, 3, 4, 5, 10, 100)"
      ]
     },
     "execution_count": 319,
     "metadata": {},
     "output_type": "execute_result"
    }
   ],
   "source": [
    "t"
   ]
  },
  {
   "cell_type": "code",
   "execution_count": 318,
   "id": "bb4b9ec5",
   "metadata": {},
   "outputs": [
    {
     "data": {
      "text/plain": [
       "6"
      ]
     },
     "execution_count": 318,
     "metadata": {},
     "output_type": "execute_result"
    }
   ],
   "source": [
    "t.index(100)"
   ]
  },
  {
   "cell_type": "code",
   "execution_count": 320,
   "id": "9f124f00",
   "metadata": {},
   "outputs": [
    {
     "data": {
      "text/plain": [
       "{1, 2, 3, 4, 5}"
      ]
     },
     "execution_count": 320,
     "metadata": {},
     "output_type": "execute_result"
    }
   ],
   "source": [
    "# set \n",
    "s = {1,2,3,4,5,5}   # s = set(seq)\n",
    "s"
   ]
  },
  {
   "cell_type": "code",
   "execution_count": 321,
   "id": "335a9328",
   "metadata": {},
   "outputs": [
    {
     "data": {
      "text/plain": [
       "set"
      ]
     },
     "execution_count": 321,
     "metadata": {},
     "output_type": "execute_result"
    }
   ],
   "source": [
    "type(s)"
   ]
  },
  {
   "cell_type": "code",
   "execution_count": 323,
   "id": "2ab26ec9",
   "metadata": {},
   "outputs": [
    {
     "data": {
      "text/plain": [
       "5"
      ]
     },
     "execution_count": 323,
     "metadata": {},
     "output_type": "execute_result"
    }
   ],
   "source": [
    "len(s)"
   ]
  },
  {
   "cell_type": "code",
   "execution_count": 324,
   "id": "4297e181",
   "metadata": {},
   "outputs": [
    {
     "data": {
      "text/plain": [
       "5"
      ]
     },
     "execution_count": 324,
     "metadata": {},
     "output_type": "execute_result"
    }
   ],
   "source": [
    "max(s)"
   ]
  },
  {
   "cell_type": "code",
   "execution_count": 325,
   "id": "66754197",
   "metadata": {},
   "outputs": [
    {
     "data": {
      "text/plain": [
       "1"
      ]
     },
     "execution_count": 325,
     "metadata": {},
     "output_type": "execute_result"
    }
   ],
   "source": [
    "min(s)"
   ]
  },
  {
   "cell_type": "code",
   "execution_count": 326,
   "id": "658a1594",
   "metadata": {},
   "outputs": [
    {
     "data": {
      "text/plain": [
       "15"
      ]
     },
     "execution_count": 326,
     "metadata": {},
     "output_type": "execute_result"
    }
   ],
   "source": [
    "sum(s)"
   ]
  },
  {
   "cell_type": "code",
   "execution_count": 327,
   "id": "88834180",
   "metadata": {},
   "outputs": [],
   "source": [
    "# s.add(value)\n",
    "s.add(100)"
   ]
  },
  {
   "cell_type": "code",
   "execution_count": 328,
   "id": "ab2901ac",
   "metadata": {},
   "outputs": [
    {
     "data": {
      "text/plain": [
       "{1, 2, 3, 4, 5, 100}"
      ]
     },
     "execution_count": 328,
     "metadata": {},
     "output_type": "execute_result"
    }
   ],
   "source": [
    "s"
   ]
  },
  {
   "cell_type": "code",
   "execution_count": 330,
   "id": "48355218",
   "metadata": {},
   "outputs": [],
   "source": [
    "# s[0]"
   ]
  },
  {
   "cell_type": "code",
   "execution_count": 331,
   "id": "b38d3f98",
   "metadata": {},
   "outputs": [
    {
     "data": {
      "text/plain": [
       "True"
      ]
     },
     "execution_count": 331,
     "metadata": {},
     "output_type": "execute_result"
    }
   ],
   "source": [
    "1 in s"
   ]
  },
  {
   "cell_type": "code",
   "execution_count": 332,
   "id": "3d7c6993",
   "metadata": {},
   "outputs": [
    {
     "data": {
      "text/plain": [
       "{1, 2, 3, 4, 5, 6, 7, 8, 100}"
      ]
     },
     "execution_count": 332,
     "metadata": {},
     "output_type": "execute_result"
    }
   ],
   "source": [
    "s2 = {5,6,7,8}\n",
    "# s.update(seq)   lst.extend(seq)\n",
    "s.update(s2)\n",
    "s"
   ]
  },
  {
   "cell_type": "code",
   "execution_count": 333,
   "id": "294cf751",
   "metadata": {},
   "outputs": [],
   "source": [
    "A = {1,2,3,4}\n",
    "B = {3,4,5,6}"
   ]
  },
  {
   "cell_type": "code",
   "execution_count": 334,
   "id": "fa19e411",
   "metadata": {},
   "outputs": [
    {
     "data": {
      "text/plain": [
       "{3, 4}"
      ]
     },
     "execution_count": 334,
     "metadata": {},
     "output_type": "execute_result"
    }
   ],
   "source": [
    "A.intersection(B)"
   ]
  },
  {
   "cell_type": "code",
   "execution_count": 335,
   "id": "43c49f3a",
   "metadata": {},
   "outputs": [
    {
     "data": {
      "text/plain": [
       "{1, 2, 3, 4, 5, 6}"
      ]
     },
     "execution_count": 335,
     "metadata": {},
     "output_type": "execute_result"
    }
   ],
   "source": [
    "A.union(B)"
   ]
  },
  {
   "cell_type": "code",
   "execution_count": 337,
   "id": "715bb71e",
   "metadata": {},
   "outputs": [
    {
     "data": {
      "text/plain": [
       "{1, 2}"
      ]
     },
     "execution_count": 337,
     "metadata": {},
     "output_type": "execute_result"
    }
   ],
   "source": [
    "A - B"
   ]
  },
  {
   "cell_type": "code",
   "execution_count": 338,
   "id": "1b333e00",
   "metadata": {},
   "outputs": [
    {
     "data": {
      "text/plain": [
       "{5, 6}"
      ]
     },
     "execution_count": 338,
     "metadata": {},
     "output_type": "execute_result"
    }
   ],
   "source": [
    "B - A"
   ]
  },
  {
   "cell_type": "code",
   "execution_count": 339,
   "id": "180f0ac4",
   "metadata": {},
   "outputs": [
    {
     "data": {
      "text/plain": [
       "{1, 2}"
      ]
     },
     "execution_count": 339,
     "metadata": {},
     "output_type": "execute_result"
    }
   ],
   "source": [
    "A.difference(B)"
   ]
  },
  {
   "cell_type": "code",
   "execution_count": 340,
   "id": "108a3ca2",
   "metadata": {},
   "outputs": [
    {
     "data": {
      "text/plain": [
       "{5, 6}"
      ]
     },
     "execution_count": 340,
     "metadata": {},
     "output_type": "execute_result"
    }
   ],
   "source": [
    "B.difference(A)"
   ]
  },
  {
   "cell_type": "code",
   "execution_count": 341,
   "id": "9a900d92",
   "metadata": {},
   "outputs": [
    {
     "data": {
      "text/plain": [
       "{1, 2, 3, 4}"
      ]
     },
     "execution_count": 341,
     "metadata": {},
     "output_type": "execute_result"
    }
   ],
   "source": [
    "A"
   ]
  },
  {
   "cell_type": "code",
   "execution_count": 342,
   "id": "c16ea6c9",
   "metadata": {},
   "outputs": [
    {
     "data": {
      "text/plain": [
       "{3, 4, 5, 6}"
      ]
     },
     "execution_count": 342,
     "metadata": {},
     "output_type": "execute_result"
    }
   ],
   "source": [
    "B"
   ]
  },
  {
   "cell_type": "code",
   "execution_count": 343,
   "id": "76a8b805",
   "metadata": {},
   "outputs": [],
   "source": [
    "A.intersection_update(B)"
   ]
  },
  {
   "cell_type": "code",
   "execution_count": 344,
   "id": "c1fd32a4",
   "metadata": {},
   "outputs": [
    {
     "data": {
      "text/plain": [
       "{3, 4}"
      ]
     },
     "execution_count": 344,
     "metadata": {},
     "output_type": "execute_result"
    }
   ],
   "source": [
    "A"
   ]
  },
  {
   "cell_type": "code",
   "execution_count": 345,
   "id": "b44cfbe3",
   "metadata": {},
   "outputs": [],
   "source": [
    "# B.discard(value)\n",
    "B.discard(5)"
   ]
  },
  {
   "cell_type": "code",
   "execution_count": 346,
   "id": "4971cae2",
   "metadata": {},
   "outputs": [
    {
     "data": {
      "text/plain": [
       "{3, 4, 6}"
      ]
     },
     "execution_count": 346,
     "metadata": {},
     "output_type": "execute_result"
    }
   ],
   "source": [
    "B"
   ]
  },
  {
   "cell_type": "code",
   "execution_count": 347,
   "id": "19fe63a5",
   "metadata": {},
   "outputs": [],
   "source": [
    "# B.add(value)\n",
    "# B.discard(value)\n",
    "# B.remove(value)"
   ]
  },
  {
   "cell_type": "code",
   "execution_count": 348,
   "id": "a611581e",
   "metadata": {},
   "outputs": [
    {
     "data": {
      "text/plain": [
       "{4, 6}"
      ]
     },
     "execution_count": 348,
     "metadata": {},
     "output_type": "execute_result"
    }
   ],
   "source": [
    "B"
   ]
  },
  {
   "cell_type": "code",
   "execution_count": 349,
   "id": "a3526b8d",
   "metadata": {},
   "outputs": [
    {
     "data": {
      "text/plain": [
       "{1, 2, 3, 4, 5, 6, 7, 8, 100}"
      ]
     },
     "execution_count": 349,
     "metadata": {},
     "output_type": "execute_result"
    }
   ],
   "source": [
    "s"
   ]
  },
  {
   "cell_type": "code",
   "execution_count": 350,
   "id": "acbee328",
   "metadata": {},
   "outputs": [
    {
     "name": "stdout",
     "output_type": "stream",
     "text": [
      "{1, 2, 3, 4, 5, 100, 6, 8, 7}\n"
     ]
    }
   ],
   "source": [
    "print(s)"
   ]
  },
  {
   "cell_type": "code",
   "execution_count": 351,
   "id": "bfe96956",
   "metadata": {},
   "outputs": [],
   "source": [
    "# dict\n",
    "# for loop \n",
    "# while loop\n",
    "# functions >> filter , map  lambda \n",
    "# scope \n",
    "# create module \n",
    "# random \n",
    "# file handling (.txt)\n"
   ]
  },
  {
   "cell_type": "code",
   "execution_count": null,
   "id": "a431b444",
   "metadata": {},
   "outputs": [],
   "source": []
  }
 ],
 "metadata": {
  "kernelspec": {
   "display_name": "Python 3 (ipykernel)",
   "language": "python",
   "name": "python3"
  },
  "language_info": {
   "codemirror_mode": {
    "name": "ipython",
    "version": 3
   },
   "file_extension": ".py",
   "mimetype": "text/x-python",
   "name": "python",
   "nbconvert_exporter": "python",
   "pygments_lexer": "ipython3",
   "version": "3.10.9"
  }
 },
 "nbformat": 4,
 "nbformat_minor": 5
}
