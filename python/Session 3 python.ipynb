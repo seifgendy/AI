{
 "cells": [
  {
   "cell_type": "code",
   "execution_count": null,
   "id": "768845bd",
   "metadata": {},
   "outputs": [],
   "source": [
    "# immutable >> float , int , bool , str , tuple \n",
    "# mutable   >> list , dict , set "
   ]
  },
  {
   "cell_type": "code",
   "execution_count": 1,
   "id": "fc1c94b3",
   "metadata": {},
   "outputs": [],
   "source": [
    "# dict \n",
    "# for loop , while loop \n",
    "# functions \n",
    "# scope \n",
    "# module \n",
    "# file handling .txt"
   ]
  },
  {
   "cell_type": "code",
   "execution_count": 5,
   "id": "93b0f621",
   "metadata": {},
   "outputs": [],
   "source": [
    "# x = 10 \n",
    "# x <<= 3 "
   ]
  },
  {
   "cell_type": "code",
   "execution_count": 22,
   "id": "74423338",
   "metadata": {},
   "outputs": [],
   "source": [
    "# dict\n",
    "# d = {\"key\" : value  , \"k2\": value} or d = dict([( , ) , ( , ) , ( , )]) \n",
    "d = {\"name\": \"amit\" , \"age\": 15  , \"name\" : \"Amit\"}"
   ]
  },
  {
   "cell_type": "code",
   "execution_count": 23,
   "id": "b5d2928e",
   "metadata": {},
   "outputs": [
    {
     "data": {
      "text/plain": [
       "dict"
      ]
     },
     "execution_count": 23,
     "metadata": {},
     "output_type": "execute_result"
    }
   ],
   "source": [
    "type(d)"
   ]
  },
  {
   "cell_type": "code",
   "execution_count": 24,
   "id": "74261d17",
   "metadata": {},
   "outputs": [
    {
     "data": {
      "text/plain": [
       "2"
      ]
     },
     "execution_count": 24,
     "metadata": {},
     "output_type": "execute_result"
    }
   ],
   "source": [
    "len(d)"
   ]
  },
  {
   "cell_type": "code",
   "execution_count": 25,
   "id": "a78cd805",
   "metadata": {},
   "outputs": [
    {
     "data": {
      "text/plain": [
       "2"
      ]
     },
     "execution_count": 25,
     "metadata": {},
     "output_type": "execute_result"
    }
   ],
   "source": [
    "lst = [2,3,4,5,6]\n",
    "lst[0]"
   ]
  },
  {
   "cell_type": "code",
   "execution_count": 26,
   "id": "c8ada6fb",
   "metadata": {},
   "outputs": [
    {
     "data": {
      "text/plain": [
       "'Amit'"
      ]
     },
     "execution_count": 26,
     "metadata": {},
     "output_type": "execute_result"
    }
   ],
   "source": [
    "d[\"name\"]"
   ]
  },
  {
   "cell_type": "code",
   "execution_count": 27,
   "id": "7667e81b",
   "metadata": {},
   "outputs": [
    {
     "data": {
      "text/plain": [
       "15"
      ]
     },
     "execution_count": 27,
     "metadata": {},
     "output_type": "execute_result"
    }
   ],
   "source": [
    "d[\"age\"]"
   ]
  },
  {
   "cell_type": "code",
   "execution_count": 28,
   "id": "89526ee5",
   "metadata": {},
   "outputs": [],
   "source": [
    "d[\"address\"] = 123"
   ]
  },
  {
   "cell_type": "code",
   "execution_count": 29,
   "id": "c4baf139",
   "metadata": {},
   "outputs": [
    {
     "data": {
      "text/plain": [
       "{'name': 'Amit', 'age': 15, 'address': 123}"
      ]
     },
     "execution_count": 29,
     "metadata": {},
     "output_type": "execute_result"
    }
   ],
   "source": [
    "d"
   ]
  },
  {
   "cell_type": "code",
   "execution_count": 30,
   "id": "0532a8d6",
   "metadata": {},
   "outputs": [],
   "source": [
    "d[\"age\"] = 20"
   ]
  },
  {
   "cell_type": "code",
   "execution_count": 31,
   "id": "71a2ca2e",
   "metadata": {},
   "outputs": [
    {
     "data": {
      "text/plain": [
       "{'name': 'Amit', 'age': 20, 'address': 123}"
      ]
     },
     "execution_count": 31,
     "metadata": {},
     "output_type": "execute_result"
    }
   ],
   "source": [
    "d"
   ]
  },
  {
   "cell_type": "code",
   "execution_count": 32,
   "id": "25838d03",
   "metadata": {},
   "outputs": [
    {
     "data": {
      "text/plain": [
       "'Amit'"
      ]
     },
     "execution_count": 32,
     "metadata": {},
     "output_type": "execute_result"
    }
   ],
   "source": [
    "d.get(\"name\")"
   ]
  },
  {
   "cell_type": "code",
   "execution_count": 33,
   "id": "b27ee6e7",
   "metadata": {},
   "outputs": [],
   "source": [
    "d1 = {\"n_students\" : 1000}"
   ]
  },
  {
   "cell_type": "code",
   "execution_count": 34,
   "id": "80e72039",
   "metadata": {},
   "outputs": [],
   "source": [
    "d.update(d1)   # lst.extend(seq)"
   ]
  },
  {
   "cell_type": "code",
   "execution_count": 35,
   "id": "ad6d2bcd",
   "metadata": {},
   "outputs": [
    {
     "data": {
      "text/plain": [
       "{'name': 'Amit', 'age': 20, 'address': 123, 'n_students': 1000}"
      ]
     },
     "execution_count": 35,
     "metadata": {},
     "output_type": "execute_result"
    }
   ],
   "source": [
    "d"
   ]
  },
  {
   "cell_type": "code",
   "execution_count": 36,
   "id": "05b8ada9",
   "metadata": {},
   "outputs": [
    {
     "data": {
      "text/plain": [
       "dict_keys(['name', 'age', 'address', 'n_students'])"
      ]
     },
     "execution_count": 36,
     "metadata": {},
     "output_type": "execute_result"
    }
   ],
   "source": [
    "d.keys()"
   ]
  },
  {
   "cell_type": "code",
   "execution_count": 37,
   "id": "9aeacf6f",
   "metadata": {},
   "outputs": [
    {
     "data": {
      "text/plain": [
       "dict_values(['Amit', 20, 123, 1000])"
      ]
     },
     "execution_count": 37,
     "metadata": {},
     "output_type": "execute_result"
    }
   ],
   "source": [
    "d.values()"
   ]
  },
  {
   "cell_type": "code",
   "execution_count": 38,
   "id": "5f3fba23",
   "metadata": {},
   "outputs": [
    {
     "data": {
      "text/plain": [
       "dict_items([('name', 'Amit'), ('age', 20), ('address', 123), ('n_students', 1000)])"
      ]
     },
     "execution_count": 38,
     "metadata": {},
     "output_type": "execute_result"
    }
   ],
   "source": [
    "d.items()"
   ]
  },
  {
   "cell_type": "code",
   "execution_count": 74,
   "id": "66574ec3",
   "metadata": {},
   "outputs": [],
   "source": [
    "data = {\"k1\":{\"k2\":[1,2,3,4] , \"k3\":[3,4,5,6,{\"k4\":[\"amit\" , \"learning\" , \"machine learning\",\"deep learning  \"]}]}}"
   ]
  },
  {
   "cell_type": "code",
   "execution_count": 75,
   "id": "661d2158",
   "metadata": {},
   "outputs": [
    {
     "data": {
      "text/plain": [
       "{'k1': {'k2': [1, 2, 3, 4],\n",
       "  'k3': [3,\n",
       "   4,\n",
       "   5,\n",
       "   6,\n",
       "   {'k4': ['amit', 'learning', 'machine learning', 'deep learning  ']}]}}"
      ]
     },
     "execution_count": 75,
     "metadata": {},
     "output_type": "execute_result"
    }
   ],
   "source": [
    "data"
   ]
  },
  {
   "cell_type": "code",
   "execution_count": 76,
   "id": "fe65009b",
   "metadata": {},
   "outputs": [
    {
     "data": {
      "text/plain": [
       "'MACHINE LEARNING'"
      ]
     },
     "execution_count": 76,
     "metadata": {},
     "output_type": "execute_result"
    }
   ],
   "source": [
    "data[\"k1\"][\"k3\"][4][\"k4\"][2].upper()"
   ]
  },
  {
   "cell_type": "code",
   "execution_count": 77,
   "id": "26de1a5d",
   "metadata": {},
   "outputs": [],
   "source": [
    "data[\"k1\"][\"k3\"][4][\"k4\"][2]   = data[\"k1\"][\"k3\"][4][\"k4\"][2].upper()"
   ]
  },
  {
   "cell_type": "code",
   "execution_count": 78,
   "id": "9022d6e8",
   "metadata": {},
   "outputs": [
    {
     "data": {
      "text/plain": [
       "{'k1': {'k2': [1, 2, 3, 4],\n",
       "  'k3': [3,\n",
       "   4,\n",
       "   5,\n",
       "   6,\n",
       "   {'k4': ['amit', 'learning', 'MACHINE LEARNING', 'deep learning  ']}]}}"
      ]
     },
     "execution_count": 78,
     "metadata": {},
     "output_type": "execute_result"
    }
   ],
   "source": [
    "data"
   ]
  },
  {
   "cell_type": "code",
   "execution_count": 69,
   "id": "674d1b81",
   "metadata": {},
   "outputs": [
    {
     "data": {
      "text/plain": [
       "[2, 3, 4, 5, 6]"
      ]
     },
     "execution_count": 69,
     "metadata": {},
     "output_type": "execute_result"
    }
   ],
   "source": [
    "lst"
   ]
  },
  {
   "cell_type": "code",
   "execution_count": 70,
   "id": "01059776",
   "metadata": {},
   "outputs": [],
   "source": [
    "lst[0] = 10 "
   ]
  },
  {
   "cell_type": "code",
   "execution_count": 71,
   "id": "bde18ae7",
   "metadata": {},
   "outputs": [
    {
     "data": {
      "text/plain": [
       "[10, 3, 4, 5, 6]"
      ]
     },
     "execution_count": 71,
     "metadata": {},
     "output_type": "execute_result"
    }
   ],
   "source": [
    "lst"
   ]
  },
  {
   "cell_type": "code",
   "execution_count": 84,
   "id": "bbba2bfd",
   "metadata": {},
   "outputs": [
    {
     "data": {
      "text/plain": [
       "' amit  \\t \\n     '"
      ]
     },
     "execution_count": 84,
     "metadata": {},
     "output_type": "execute_result"
    }
   ],
   "source": [
    "x = \" amit  \\t \\n     \"\n",
    "x"
   ]
  },
  {
   "cell_type": "code",
   "execution_count": 85,
   "id": "d5869e36",
   "metadata": {},
   "outputs": [],
   "source": [
    "x = x.strip()"
   ]
  },
  {
   "cell_type": "code",
   "execution_count": 86,
   "id": "d4202005",
   "metadata": {},
   "outputs": [
    {
     "data": {
      "text/plain": [
       "'amit'"
      ]
     },
     "execution_count": 86,
     "metadata": {},
     "output_type": "execute_result"
    }
   ],
   "source": [
    "x"
   ]
  },
  {
   "cell_type": "code",
   "execution_count": 104,
   "id": "9f17a839",
   "metadata": {},
   "outputs": [],
   "source": [
    "# def DecimalToBinary(num):\n",
    "     \n",
    "#     if num >= 1:\n",
    "#         DecimalToBinary(num // 2)\n",
    "#     print(num % 2, end = '')\n",
    "\n",
    "     \n",
    "# # decimal value\n",
    "# dec_val = 16\n",
    "\n",
    "# # Calling function\n",
    "# DecimalToBinary(dec_val)"
   ]
  },
  {
   "cell_type": "code",
   "execution_count": 105,
   "id": "bbd962e8",
   "metadata": {},
   "outputs": [],
   "source": [
    "# x = 1 \n",
    "# x <<= 4 "
   ]
  },
  {
   "cell_type": "code",
   "execution_count": 108,
   "id": "4ab27411",
   "metadata": {},
   "outputs": [
    {
     "data": {
      "text/plain": [
       "{'k1': {'k2': [1, 2, 3, 4],\n",
       "  'k3': [3,\n",
       "   4,\n",
       "   5,\n",
       "   6,\n",
       "   {'k4': ['amit', 'learning', 'MACHINE LEARNING', 'deep learning  ']}]}}"
      ]
     },
     "execution_count": 108,
     "metadata": {},
     "output_type": "execute_result"
    }
   ],
   "source": [
    "data"
   ]
  },
  {
   "cell_type": "code",
   "execution_count": 116,
   "id": "e2459dfd",
   "metadata": {},
   "outputs": [],
   "source": [
    "deep = data[\"k1\"][\"k3\"][-1][\"k4\"][-1].strip()"
   ]
  },
  {
   "cell_type": "code",
   "execution_count": 117,
   "id": "1bf1014a",
   "metadata": {},
   "outputs": [],
   "source": [
    "data[\"k1\"][\"k3\"][-1][\"k4\"][-1] = deep"
   ]
  },
  {
   "cell_type": "code",
   "execution_count": 118,
   "id": "64847721",
   "metadata": {},
   "outputs": [
    {
     "data": {
      "text/plain": [
       "{'k1': {'k2': [1, 2, 3, 4],\n",
       "  'k3': [3,\n",
       "   4,\n",
       "   5,\n",
       "   6,\n",
       "   {'k4': ['amit', 'learning', 'MACHINE LEARNING', 'deep learning']}]}}"
      ]
     },
     "execution_count": 118,
     "metadata": {},
     "output_type": "execute_result"
    }
   ],
   "source": [
    "data"
   ]
  },
  {
   "cell_type": "code",
   "execution_count": 119,
   "id": "d5e4b05a",
   "metadata": {},
   "outputs": [
    {
     "data": {
      "text/plain": [
       "'deep learning'"
      ]
     },
     "execution_count": 119,
     "metadata": {},
     "output_type": "execute_result"
    }
   ],
   "source": [
    "deep"
   ]
  },
  {
   "cell_type": "code",
   "execution_count": 120,
   "id": "6b5ce85b",
   "metadata": {},
   "outputs": [],
   "source": [
    "lst[-1] = deep"
   ]
  },
  {
   "cell_type": "code",
   "execution_count": 121,
   "id": "a2316b81",
   "metadata": {},
   "outputs": [
    {
     "data": {
      "text/plain": [
       "[10, 3, 4, 5, 'deep learning']"
      ]
     },
     "execution_count": 121,
     "metadata": {},
     "output_type": "execute_result"
    }
   ],
   "source": [
    "lst"
   ]
  },
  {
   "cell_type": "code",
   "execution_count": 122,
   "id": "b603d77e",
   "metadata": {},
   "outputs": [],
   "source": [
    "# dict\n",
    "# d = {\"k\" : value} or dict([(,) , (,)])\n",
    "# type(d)\n",
    "# len(d)\n",
    "# d[\"key\"] >> value \n",
    "# d[\"key\"] = new_value\n",
    "# d[\"new_key\"] = new_value\n",
    "# d.get(\"key\") >> value\n",
    "# d.update(d2)\n",
    "# d.keys()   >> list from keys \n",
    "# d.values() >> list from values\n",
    "# d.items()  >> list from tuple (tuple(\"key\", value))"
   ]
  },
  {
   "cell_type": "code",
   "execution_count": 123,
   "id": "6238c34f",
   "metadata": {},
   "outputs": [],
   "source": [
    "data.get(\"k4\")"
   ]
  },
  {
   "cell_type": "code",
   "execution_count": 125,
   "id": "df6721b0",
   "metadata": {},
   "outputs": [
    {
     "data": {
      "text/plain": [
       "{'k1': {'k2': [1, 2, 3, 4],\n",
       "  'k3': [3,\n",
       "   4,\n",
       "   5,\n",
       "   6,\n",
       "   {'k4': ['amit', 'learning', 'MACHINE LEARNING', 'deep learning']}]}}"
      ]
     },
     "execution_count": 125,
     "metadata": {},
     "output_type": "execute_result"
    }
   ],
   "source": [
    "data"
   ]
  },
  {
   "cell_type": "code",
   "execution_count": 126,
   "id": "5ff63af9",
   "metadata": {},
   "outputs": [],
   "source": [
    "# # for loop , while loop \n",
    "# for i in seq :\n",
    "#     statements.....\n",
    "#     .......\n",
    "#     ...."
   ]
  },
  {
   "cell_type": "code",
   "execution_count": 127,
   "id": "75d4d994",
   "metadata": {},
   "outputs": [],
   "source": [
    "lst = [2,3,4,5,4,5,6,7,8]"
   ]
  },
  {
   "cell_type": "code",
   "execution_count": 130,
   "id": "9b5d0553",
   "metadata": {},
   "outputs": [
    {
     "name": "stdout",
     "output_type": "stream",
     "text": [
      "2 **\n",
      "3 ***\n",
      "4 ****\n",
      "5 *****\n",
      "4 ****\n",
      "5 *****\n",
      "6 ******\n",
      "7 *******\n",
      "8 ********\n"
     ]
    }
   ],
   "source": [
    "for i in lst :\n",
    "    print(i , end = \" \")\n",
    "    print(\"*\" * i )"
   ]
  },
  {
   "cell_type": "code",
   "execution_count": 132,
   "id": "5849d3c4",
   "metadata": {},
   "outputs": [
    {
     "name": "stdout",
     "output_type": "stream",
     "text": [
      "a m i t "
     ]
    }
   ],
   "source": [
    "for i in \"amit\":\n",
    "    print(i ,end = \" \" )"
   ]
  },
  {
   "cell_type": "code",
   "execution_count": 137,
   "id": "af3f0a18",
   "metadata": {},
   "outputs": [
    {
     "name": "stdout",
     "output_type": "stream",
     "text": [
      "amit learning\n"
     ]
    }
   ],
   "source": [
    "print(\"amit\" , end = \" \")\n",
    "print(\"learning\")"
   ]
  },
  {
   "cell_type": "code",
   "execution_count": 138,
   "id": "431e72d0",
   "metadata": {},
   "outputs": [
    {
     "data": {
      "text/plain": [
       "[2, 3, 4, 5, 4, 5, 6, 7, 8]"
      ]
     },
     "execution_count": 138,
     "metadata": {},
     "output_type": "execute_result"
    }
   ],
   "source": [
    "lst"
   ]
  },
  {
   "cell_type": "code",
   "execution_count": 139,
   "id": "81dc2467",
   "metadata": {},
   "outputs": [
    {
     "data": {
      "text/plain": [
       "[2, 3, 4, 5, 4, 5, 6, 7, 8, 2, 3, 4, 5, 4, 5, 6, 7, 8]"
      ]
     },
     "execution_count": 139,
     "metadata": {},
     "output_type": "execute_result"
    }
   ],
   "source": [
    "lst * 2 "
   ]
  },
  {
   "cell_type": "code",
   "execution_count": 141,
   "id": "f6d506c2",
   "metadata": {},
   "outputs": [
    {
     "name": "stdout",
     "output_type": "stream",
     "text": [
      "4 6 8 10 8 10 12 14 16 "
     ]
    }
   ],
   "source": [
    "for i in lst:\n",
    "    print(i * 2  , end = \" \")"
   ]
  },
  {
   "cell_type": "code",
   "execution_count": 142,
   "id": "afba0b0e",
   "metadata": {},
   "outputs": [
    {
     "name": "stdout",
     "output_type": "stream",
     "text": [
      "[4, 6, 8, 10, 8, 10, 12, 14, 16]\n"
     ]
    }
   ],
   "source": [
    "new_lst = []\n",
    "for i in lst:\n",
    "    new_lst.append(i * 2 )\n",
    "print(new_lst)"
   ]
  },
  {
   "cell_type": "code",
   "execution_count": 146,
   "id": "54efbb23",
   "metadata": {},
   "outputs": [
    {
     "name": "stdout",
     "output_type": "stream",
     "text": [
      "{2: 4, 3: 6, 4: 8, 5: 10, 6: 12, 7: 14, 8: 16}\n"
     ]
    }
   ],
   "source": [
    "new_d = {}\n",
    "for i in lst:\n",
    "    new_d[i] = i*2\n",
    "print(new_d)"
   ]
  },
  {
   "cell_type": "code",
   "execution_count": 150,
   "id": "1ef290bb",
   "metadata": {},
   "outputs": [
    {
     "name": "stdout",
     "output_type": "stream",
     "text": [
      "{2: 4, 3: 6, 4: 8, 5: 10, 6: 12, 7: 14, 8: 16}\n"
     ]
    }
   ],
   "source": [
    "new_d = {}\n",
    "for i in lst:\n",
    "    new_d.update({i : i*2})\n",
    "print(new_d)"
   ]
  },
  {
   "cell_type": "code",
   "execution_count": 151,
   "id": "6e857073",
   "metadata": {},
   "outputs": [
    {
     "data": {
      "text/plain": [
       "{'name': 'Amit', 'age': 20, 'address': 123, 'n_students': 1000}"
      ]
     },
     "execution_count": 151,
     "metadata": {},
     "output_type": "execute_result"
    }
   ],
   "source": [
    "d"
   ]
  },
  {
   "cell_type": "code",
   "execution_count": 152,
   "id": "ab7a90a3",
   "metadata": {},
   "outputs": [
    {
     "name": "stdout",
     "output_type": "stream",
     "text": [
      "name\n",
      "age\n",
      "address\n",
      "n_students\n"
     ]
    }
   ],
   "source": [
    "for i in d:\n",
    "    print(i)"
   ]
  },
  {
   "cell_type": "code",
   "execution_count": 153,
   "id": "9722b36e",
   "metadata": {},
   "outputs": [
    {
     "data": {
      "text/plain": [
       "dict_keys(['name', 'age', 'address', 'n_students'])"
      ]
     },
     "execution_count": 153,
     "metadata": {},
     "output_type": "execute_result"
    }
   ],
   "source": [
    "d.keys()"
   ]
  },
  {
   "cell_type": "code",
   "execution_count": 154,
   "id": "2e746af8",
   "metadata": {},
   "outputs": [
    {
     "name": "stdout",
     "output_type": "stream",
     "text": [
      "name\n",
      "age\n",
      "address\n",
      "n_students\n"
     ]
    }
   ],
   "source": [
    "for i in d.keys():\n",
    "    print(i)"
   ]
  },
  {
   "cell_type": "code",
   "execution_count": 155,
   "id": "66880150",
   "metadata": {},
   "outputs": [
    {
     "data": {
      "text/plain": [
       "dict_items([('name', 'Amit'), ('age', 20), ('address', 123), ('n_students', 1000)])"
      ]
     },
     "execution_count": 155,
     "metadata": {},
     "output_type": "execute_result"
    }
   ],
   "source": [
    "d.items()"
   ]
  },
  {
   "cell_type": "code",
   "execution_count": 160,
   "id": "70e603cf",
   "metadata": {},
   "outputs": [
    {
     "name": "stdout",
     "output_type": "stream",
     "text": [
      "name\n",
      "age\n",
      "address\n",
      "n_students\n"
     ]
    }
   ],
   "source": [
    "for i in d.items():\n",
    "    print(i[0])"
   ]
  },
  {
   "cell_type": "code",
   "execution_count": 157,
   "id": "fdbfeef8",
   "metadata": {},
   "outputs": [],
   "source": [
    "i = (\"name\" , \"Amit\")\n",
    "i2 = (\"age\" , 20)\n"
   ]
  },
  {
   "cell_type": "code",
   "execution_count": 158,
   "id": "53a4f370",
   "metadata": {},
   "outputs": [
    {
     "data": {
      "text/plain": [
       "'name'"
      ]
     },
     "execution_count": 158,
     "metadata": {},
     "output_type": "execute_result"
    }
   ],
   "source": [
    "i[0]"
   ]
  },
  {
   "cell_type": "code",
   "execution_count": 159,
   "id": "ff83c288",
   "metadata": {},
   "outputs": [
    {
     "data": {
      "text/plain": [
       "'age'"
      ]
     },
     "execution_count": 159,
     "metadata": {},
     "output_type": "execute_result"
    }
   ],
   "source": [
    "i2[0]"
   ]
  },
  {
   "cell_type": "code",
   "execution_count": 164,
   "id": "dad96bf3",
   "metadata": {},
   "outputs": [
    {
     "name": "stdout",
     "output_type": "stream",
     "text": [
      "Amit\n",
      "20\n",
      "123\n",
      "1000\n"
     ]
    }
   ],
   "source": [
    "for i in d.items():\n",
    "    print(i[1])"
   ]
  },
  {
   "cell_type": "code",
   "execution_count": 165,
   "id": "6f406590",
   "metadata": {},
   "outputs": [
    {
     "name": "stdout",
     "output_type": "stream",
     "text": [
      "Amit\n",
      "20\n",
      "123\n",
      "1000\n"
     ]
    }
   ],
   "source": [
    "for i in d.values():\n",
    "    print(i)"
   ]
  },
  {
   "cell_type": "code",
   "execution_count": 168,
   "id": "4b935c71",
   "metadata": {},
   "outputs": [
    {
     "name": "stdout",
     "output_type": "stream",
     "text": [
      "Amit\n",
      "20\n",
      "123\n",
      "1000\n"
     ]
    }
   ],
   "source": [
    "for i in d :\n",
    "    print(d[i])"
   ]
  },
  {
   "cell_type": "code",
   "execution_count": 167,
   "id": "8044843e",
   "metadata": {},
   "outputs": [
    {
     "data": {
      "text/plain": [
       "'Amit'"
      ]
     },
     "execution_count": 167,
     "metadata": {},
     "output_type": "execute_result"
    }
   ],
   "source": [
    "d[\"name\"]"
   ]
  },
  {
   "cell_type": "code",
   "execution_count": 173,
   "id": "90ca64d1",
   "metadata": {},
   "outputs": [
    {
     "data": {
      "text/plain": [
       "dict_items([('name', 'Amit'), ('age', 20), ('address', 123), ('n_students', 1000)])"
      ]
     },
     "execution_count": 173,
     "metadata": {},
     "output_type": "execute_result"
    }
   ],
   "source": [
    "items = d.items()\n",
    "items"
   ]
  },
  {
   "cell_type": "code",
   "execution_count": 172,
   "id": "462660e8",
   "metadata": {},
   "outputs": [
    {
     "name": "stdout",
     "output_type": "stream",
     "text": [
      "name\n",
      "Amit\n",
      "age\n",
      "20\n",
      "address\n",
      "123\n",
      "n_students\n",
      "1000\n"
     ]
    }
   ],
   "source": [
    "for i in items:\n",
    "    for j in i : \n",
    "        print(j)"
   ]
  },
  {
   "cell_type": "code",
   "execution_count": 174,
   "id": "133683c2",
   "metadata": {},
   "outputs": [
    {
     "data": {
      "text/plain": [
       "[2, 3, 4, 5, 4, 5, 6, 7, 8]"
      ]
     },
     "execution_count": 174,
     "metadata": {},
     "output_type": "execute_result"
    }
   ],
   "source": [
    "lst"
   ]
  },
  {
   "cell_type": "code",
   "execution_count": 175,
   "id": "4b23d407",
   "metadata": {},
   "outputs": [
    {
     "name": "stdout",
     "output_type": "stream",
     "text": [
      "2 >> Even \n",
      "3 >> Odd\n",
      "4 >> Even \n",
      "5 >> Odd\n",
      "4 >> Even \n",
      "5 >> Odd\n",
      "6 >> Even \n",
      "7 >> Odd\n",
      "8 >> Even \n"
     ]
    }
   ],
   "source": [
    "for i in lst:\n",
    "    if i % 2 == 0 :\n",
    "        print(f\"{i} >> Even \")\n",
    "    else:\n",
    "        print(f\"{i} >> Odd\")"
   ]
  },
  {
   "cell_type": "code",
   "execution_count": 178,
   "id": "38c87f52",
   "metadata": {},
   "outputs": [
    {
     "data": {
      "text/plain": [
       "[4, 6, 8, 10, 8, 10, 12, 14, 16]"
      ]
     },
     "execution_count": 178,
     "metadata": {},
     "output_type": "execute_result"
    }
   ],
   "source": [
    "[ i * 2  for i in lst]"
   ]
  },
  {
   "cell_type": "code",
   "execution_count": 179,
   "id": "8d96066d",
   "metadata": {},
   "outputs": [
    {
     "name": "stdout",
     "output_type": "stream",
     "text": [
      "[4, 6, 8, 10, 8, 10, 12, 14, 16]\n"
     ]
    }
   ],
   "source": [
    "new_lst = []\n",
    "for i in lst:\n",
    "    new_lst.append(i * 2 )\n",
    "print(new_lst)"
   ]
  },
  {
   "cell_type": "code",
   "execution_count": 182,
   "id": "825ac3f9",
   "metadata": {},
   "outputs": [
    {
     "data": {
      "text/plain": [
       "'Odd'"
      ]
     },
     "execution_count": 182,
     "metadata": {},
     "output_type": "execute_result"
    }
   ],
   "source": [
    "num = 11\n",
    "\"Even\" if num % 2 == 0 else \"Odd\""
   ]
  },
  {
   "cell_type": "code",
   "execution_count": 185,
   "id": "66328dc1",
   "metadata": {},
   "outputs": [
    {
     "data": {
      "text/plain": [
       "['2 >> Even',\n",
       " '3 >> Odd',\n",
       " '4 >> Even',\n",
       " '5 >> Odd',\n",
       " '4 >> Even',\n",
       " '5 >> Odd',\n",
       " '6 >> Even',\n",
       " '7 >> Odd',\n",
       " '8 >> Even']"
      ]
     },
     "execution_count": 185,
     "metadata": {},
     "output_type": "execute_result"
    }
   ],
   "source": [
    "[ f\"{i} >> Even\" if i % 2 == 0 else  f\"{i} >> Odd\"  for i in lst ]"
   ]
  },
  {
   "cell_type": "code",
   "execution_count": 186,
   "id": "c954b30d",
   "metadata": {},
   "outputs": [
    {
     "data": {
      "text/plain": [
       "[2, 4, 4, 6, 8]"
      ]
     },
     "execution_count": 186,
     "metadata": {},
     "output_type": "execute_result"
    }
   ],
   "source": [
    "[ i  for i in lst if i % 2 == 0 ]"
   ]
  },
  {
   "cell_type": "code",
   "execution_count": 187,
   "id": "1d5558f0",
   "metadata": {},
   "outputs": [
    {
     "data": {
      "text/plain": [
       "[3, 5, 5, 7]"
      ]
     },
     "execution_count": 187,
     "metadata": {},
     "output_type": "execute_result"
    }
   ],
   "source": [
    "[ i  for i in lst if i % 2 != 0 ]"
   ]
  },
  {
   "cell_type": "code",
   "execution_count": 188,
   "id": "a2a7ac43",
   "metadata": {},
   "outputs": [
    {
     "data": {
      "text/plain": [
       "[2, 3, 4, 5, 4, 5, 6, 7, 8]"
      ]
     },
     "execution_count": 188,
     "metadata": {},
     "output_type": "execute_result"
    }
   ],
   "source": [
    "lst"
   ]
  },
  {
   "cell_type": "code",
   "execution_count": 189,
   "id": "cb444ee9",
   "metadata": {},
   "outputs": [],
   "source": [
    "# [\"Even\" , \"Odd\" , \"Even\"......]"
   ]
  },
  {
   "cell_type": "code",
   "execution_count": 190,
   "id": "80aaf5b3",
   "metadata": {},
   "outputs": [
    {
     "data": {
      "text/plain": [
       "['Even', 'Odd', 'Even', 'Odd', 'Even', 'Odd', 'Even', 'Odd', 'Even']"
      ]
     },
     "execution_count": 190,
     "metadata": {},
     "output_type": "execute_result"
    }
   ],
   "source": [
    "[\"Even\" if i % 2 == 0 else \"Odd\"  for i in lst ]"
   ]
  },
  {
   "cell_type": "code",
   "execution_count": 191,
   "id": "cf86f9be",
   "metadata": {},
   "outputs": [],
   "source": [
    "# x = 0 \n",
    "# while condition== True :\n",
    "#     statements.....\n",
    "#     ......\n",
    "#     .......\n",
    "#     .....\n",
    "#     counter + = 1 "
   ]
  },
  {
   "cell_type": "code",
   "execution_count": 192,
   "id": "15b48765",
   "metadata": {},
   "outputs": [
    {
     "name": "stdout",
     "output_type": "stream",
     "text": [
      "0 \n",
      "1 *\n",
      "2 **\n",
      "3 ***\n",
      "4 ****\n",
      "5 *****\n",
      "6 ******\n",
      "7 *******\n",
      "8 ********\n",
      "9 *********\n",
      "10 **********\n"
     ]
    }
   ],
   "source": [
    "x = 0 \n",
    "while x <= 10 :\n",
    "    print(x , \"*\" * x)\n",
    "    x += 1 "
   ]
  },
  {
   "cell_type": "code",
   "execution_count": 193,
   "id": "0f42aea9",
   "metadata": {},
   "outputs": [
    {
     "data": {
      "text/plain": [
       "11"
      ]
     },
     "execution_count": 193,
     "metadata": {},
     "output_type": "execute_result"
    }
   ],
   "source": [
    "x"
   ]
  },
  {
   "cell_type": "code",
   "execution_count": 194,
   "id": "7d66143b",
   "metadata": {
    "scrolled": true
   },
   "outputs": [
    {
     "data": {
      "text/plain": [
       "[2, 3, 4, 5, 4, 5, 6, 7, 8]"
      ]
     },
     "execution_count": 194,
     "metadata": {},
     "output_type": "execute_result"
    }
   ],
   "source": [
    "lst"
   ]
  },
  {
   "cell_type": "code",
   "execution_count": 198,
   "id": "1a81c71c",
   "metadata": {},
   "outputs": [
    {
     "data": {
      "text/plain": [
       "9"
      ]
     },
     "execution_count": 198,
     "metadata": {},
     "output_type": "execute_result"
    }
   ],
   "source": [
    "len(lst)"
   ]
  },
  {
   "cell_type": "code",
   "execution_count": 202,
   "id": "94a0d367",
   "metadata": {},
   "outputs": [
    {
     "name": "stdout",
     "output_type": "stream",
     "text": [
      "2\n",
      "3\n",
      "4\n",
      "5\n",
      "4\n",
      "5\n",
      "6\n",
      "7\n",
      "8\n"
     ]
    }
   ],
   "source": [
    "i = 0 \n",
    "while i < len(lst) :\n",
    "    print(lst[i])\n",
    "    i += 1 "
   ]
  },
  {
   "cell_type": "code",
   "execution_count": 200,
   "id": "286f0ab1",
   "metadata": {},
   "outputs": [
    {
     "data": {
      "text/plain": [
       "9"
      ]
     },
     "execution_count": 200,
     "metadata": {},
     "output_type": "execute_result"
    }
   ],
   "source": [
    "i"
   ]
  },
  {
   "cell_type": "code",
   "execution_count": 203,
   "id": "a289607e",
   "metadata": {},
   "outputs": [],
   "source": [
    "# while True :  "
   ]
  },
  {
   "cell_type": "code",
   "execution_count": 204,
   "id": "d76252b1",
   "metadata": {},
   "outputs": [],
   "source": [
    "# break \n",
    "# continue\n",
    "# pass"
   ]
  },
  {
   "cell_type": "code",
   "execution_count": 206,
   "id": "6686929e",
   "metadata": {},
   "outputs": [
    {
     "name": "stdout",
     "output_type": "stream",
     "text": [
      "1\n",
      "2\n"
     ]
    }
   ],
   "source": [
    "lst = [1,2,3,4,5,6]\n",
    "for i in lst :\n",
    "    if i == 3 :\n",
    "        break \n",
    "    else:\n",
    "        print(i)"
   ]
  },
  {
   "cell_type": "code",
   "execution_count": 208,
   "id": "74adda11",
   "metadata": {},
   "outputs": [
    {
     "name": "stdout",
     "output_type": "stream",
     "text": [
      "1\n",
      "2\n",
      "4\n",
      "5\n",
      "6\n"
     ]
    }
   ],
   "source": [
    "lst = [1,2,3,4,5,6]\n",
    "for i in lst :\n",
    "    if i == 3 :\n",
    "        continue \n",
    "        print(i)\n",
    "    else:\n",
    "        print(i)"
   ]
  },
  {
   "cell_type": "code",
   "execution_count": 211,
   "id": "7d95daf5",
   "metadata": {},
   "outputs": [
    {
     "name": "stdout",
     "output_type": "stream",
     "text": [
      "1\n",
      "2\n",
      "3\n",
      "4\n",
      "5\n",
      "6\n"
     ]
    }
   ],
   "source": [
    "lst = [1,2,3,4,5,6]\n",
    "for i in lst :\n",
    "    if i == 3 :\n",
    "        pass\n",
    "        print(i)\n",
    "    else:\n",
    "        print(i)"
   ]
  },
  {
   "cell_type": "code",
   "execution_count": 213,
   "id": "109235d0",
   "metadata": {},
   "outputs": [],
   "source": [
    "if 10 == 10 :\n",
    "    pass"
   ]
  },
  {
   "cell_type": "code",
   "execution_count": 216,
   "id": "78c39fe1",
   "metadata": {},
   "outputs": [
    {
     "name": "stdout",
     "output_type": "stream",
     "text": [
      "10\n"
     ]
    }
   ],
   "source": [
    "if 10 == 10 :\n",
    "#     pass\n",
    "    print(\"10\")"
   ]
  },
  {
   "cell_type": "code",
   "execution_count": 219,
   "id": "b77f2ddb",
   "metadata": {},
   "outputs": [
    {
     "name": "stdout",
     "output_type": "stream",
     "text": [
      "Enter your option: 1\n",
      "Well Done!\n",
      "Enter your option: 0\n",
      "Good Job\n",
      "Enter your option: 2\n",
      "Goodbye!\n"
     ]
    }
   ],
   "source": [
    "while True :\n",
    "    option = int(input(\"Enter your option: \"))\n",
    "    if option == 0 :\n",
    "        print(\"Good Job\")\n",
    "    elif option == 1 :\n",
    "        print(\"Well Done!\")\n",
    "    else:\n",
    "        print(\"Goodbye!\")\n",
    "        break"
   ]
  },
  {
   "cell_type": "code",
   "execution_count": 4,
   "id": "8b19919e",
   "metadata": {},
   "outputs": [
    {
     "name": "stdout",
     "output_type": "stream",
     "text": [
      "Enter your option: 1\n",
      "Well Done\n"
     ]
    }
   ],
   "source": [
    "while True :\n",
    "    option = int(input(\"Enter your option: \"))\n",
    "    print(\"Good Job\") if option == 0 else  print(\"Well Done\") if option == 1 else print(\"good\") \n",
    "    break"
   ]
  },
  {
   "cell_type": "code",
   "execution_count": 5,
   "id": "94e228a0",
   "metadata": {},
   "outputs": [],
   "source": [
    "# expr1 if condition1 else expr2 if condition2 else expr3"
   ]
  },
  {
   "cell_type": "code",
   "execution_count": 6,
   "id": "603f6a6e",
   "metadata": {},
   "outputs": [],
   "source": [
    "# functions"
   ]
  },
  {
   "cell_type": "code",
   "execution_count": 7,
   "id": "18b57af0",
   "metadata": {},
   "outputs": [],
   "source": [
    "# len(seq)\n",
    "# type()\n",
    "# print()\n",
    "# input()\n",
    "# sum()\n",
    "# max()\n",
    "# min()\n",
    "# round( , )\n",
    "# pow(,) \n",
    "# ....."
   ]
  },
  {
   "cell_type": "code",
   "execution_count": 11,
   "id": "f7734397",
   "metadata": {},
   "outputs": [],
   "source": [
    "# add(12,12) Error"
   ]
  },
  {
   "cell_type": "code",
   "execution_count": 12,
   "id": "023135a1",
   "metadata": {},
   "outputs": [],
   "source": [
    "# check(23) Error"
   ]
  },
  {
   "cell_type": "code",
   "execution_count": 13,
   "id": "88a575bb",
   "metadata": {},
   "outputs": [],
   "source": [
    "# def function_name(args):\n",
    "#     statements...\n",
    "#     .......\n",
    "#     return result"
   ]
  },
  {
   "cell_type": "code",
   "execution_count": 15,
   "id": "eab6148a",
   "metadata": {},
   "outputs": [],
   "source": [
    "# call function \n",
    "# function_name(args)"
   ]
  },
  {
   "cell_type": "code",
   "execution_count": 33,
   "id": "2d137880",
   "metadata": {},
   "outputs": [],
   "source": [
    "def add(n1 , n2  , n3 ):\n",
    "    s = n1 + n2 + n3\n",
    "    return s"
   ]
  },
  {
   "cell_type": "code",
   "execution_count": 36,
   "id": "aaf16f91",
   "metadata": {},
   "outputs": [
    {
     "data": {
      "text/plain": [
       "37"
      ]
     },
     "execution_count": 36,
     "metadata": {},
     "output_type": "execute_result"
    }
   ],
   "source": [
    "add(12,12,13)"
   ]
  },
  {
   "cell_type": "code",
   "execution_count": 24,
   "id": "5b5b3453",
   "metadata": {},
   "outputs": [
    {
     "data": {
      "text/plain": [
       "58"
      ]
     },
     "execution_count": 24,
     "metadata": {},
     "output_type": "execute_result"
    }
   ],
   "source": [
    "add(12,12 , 34)"
   ]
  },
  {
   "cell_type": "code",
   "execution_count": 25,
   "id": "cc6a54d3",
   "metadata": {},
   "outputs": [
    {
     "data": {
      "text/plain": [
       "36"
      ]
     },
     "execution_count": 25,
     "metadata": {},
     "output_type": "execute_result"
    }
   ],
   "source": [
    "add(12,12,12)"
   ]
  },
  {
   "cell_type": "code",
   "execution_count": 37,
   "id": "6566a549",
   "metadata": {},
   "outputs": [],
   "source": [
    "def add_(*n):   # n (12,23,34 ,45)\n",
    "    return sum(n)"
   ]
  },
  {
   "cell_type": "code",
   "execution_count": 42,
   "id": "12a4c232",
   "metadata": {},
   "outputs": [
    {
     "data": {
      "text/plain": [
       "170"
      ]
     },
     "execution_count": 42,
     "metadata": {},
     "output_type": "execute_result"
    }
   ],
   "source": [
    "add_(12,23,34,45,56)"
   ]
  },
  {
   "cell_type": "code",
   "execution_count": 53,
   "id": "fa96eb90",
   "metadata": {},
   "outputs": [],
   "source": [
    "def add(*n):\n",
    "    s = 0\n",
    "    for i in n :\n",
    "        s += i   # s = s + i\n",
    "    return  s "
   ]
  },
  {
   "cell_type": "code",
   "execution_count": 54,
   "id": "6bc5ded8",
   "metadata": {},
   "outputs": [],
   "source": [
    "x = add(12,23,34,56,768)"
   ]
  },
  {
   "cell_type": "code",
   "execution_count": 55,
   "id": "34abdd38",
   "metadata": {},
   "outputs": [
    {
     "data": {
      "text/plain": [
       "893"
      ]
     },
     "execution_count": 55,
     "metadata": {},
     "output_type": "execute_result"
    }
   ],
   "source": [
    "x"
   ]
  },
  {
   "cell_type": "code",
   "execution_count": 56,
   "id": "053d6e8b",
   "metadata": {},
   "outputs": [],
   "source": [
    "lst = [\"amit learning\" , \"machine learning\" , \"deep learning\" , \"pandas\"]"
   ]
  },
  {
   "cell_type": "code",
   "execution_count": 57,
   "id": "5208f57a",
   "metadata": {},
   "outputs": [],
   "source": [
    "def len_word(L):\n",
    "    for word in L:\n",
    "        print(f\"{word} >> len >> {len(word)}\")"
   ]
  },
  {
   "cell_type": "code",
   "execution_count": 58,
   "id": "adeca111",
   "metadata": {},
   "outputs": [
    {
     "name": "stdout",
     "output_type": "stream",
     "text": [
      "amit learning >> len >> 13\n",
      "machine learning >> len >> 16\n",
      "deep learning >> len >> 13\n",
      "pandas >> len >> 6\n"
     ]
    }
   ],
   "source": [
    "len_word(lst)"
   ]
  },
  {
   "cell_type": "code",
   "execution_count": 59,
   "id": "d73315ec",
   "metadata": {},
   "outputs": [],
   "source": [
    "def max_len(L):\n",
    "    max_l = 0\n",
    "    w     = \"\"\n",
    "    for word in L :\n",
    "        if max_l <= len(word):\n",
    "            max_l = len(word)\n",
    "            w     = word\n",
    "    return f\"the word of the max len is {w} and len is {max_l}\""
   ]
  },
  {
   "cell_type": "code",
   "execution_count": 60,
   "id": "d639616d",
   "metadata": {},
   "outputs": [
    {
     "data": {
      "text/plain": [
       "'the word of the max len is machine learning and len is 16'"
      ]
     },
     "execution_count": 60,
     "metadata": {},
     "output_type": "execute_result"
    }
   ],
   "source": [
    "max_len(lst)"
   ]
  },
  {
   "cell_type": "code",
   "execution_count": 63,
   "id": "dc220b44",
   "metadata": {},
   "outputs": [],
   "source": [
    "def max_len(L):\n",
    "    word  = \"\"\n",
    "    max_l = 0\n",
    "    for i in L:\n",
    "        if len(i) >= max_l :\n",
    "            max_l = len(i)\n",
    "            word  = i \n",
    "    print(\"max word\", word , \"len\" , max_l) \n",
    "lst = [\"amit learning\" , \"machine learning\" , \"deep learning\" , \"pandas\"]            "
   ]
  },
  {
   "cell_type": "code",
   "execution_count": 64,
   "id": "66551785",
   "metadata": {},
   "outputs": [
    {
     "name": "stdout",
     "output_type": "stream",
     "text": [
      "max word machine learning len 16\n"
     ]
    }
   ],
   "source": [
    "max_len(lst)"
   ]
  },
  {
   "cell_type": "code",
   "execution_count": 65,
   "id": "f359c87d",
   "metadata": {},
   "outputs": [],
   "source": [
    "# list(map(fun , seq))\n",
    "def check(num):\n",
    "    if num % 2 == 0 :\n",
    "        return \"Even\"\n",
    "    else:\n",
    "        return \"Odd\""
   ]
  },
  {
   "cell_type": "code",
   "execution_count": 66,
   "id": "be3b52fa",
   "metadata": {},
   "outputs": [
    {
     "data": {
      "text/plain": [
       "'Even'"
      ]
     },
     "execution_count": 66,
     "metadata": {},
     "output_type": "execute_result"
    }
   ],
   "source": [
    "check(12)"
   ]
  },
  {
   "cell_type": "code",
   "execution_count": 67,
   "id": "c5960ea3",
   "metadata": {},
   "outputs": [
    {
     "data": {
      "text/plain": [
       "'Odd'"
      ]
     },
     "execution_count": 67,
     "metadata": {},
     "output_type": "execute_result"
    }
   ],
   "source": [
    "check(13)"
   ]
  },
  {
   "cell_type": "code",
   "execution_count": 68,
   "id": "03c860ab",
   "metadata": {},
   "outputs": [
    {
     "data": {
      "text/plain": [
       "['Odd', 'Even', 'Odd', 'Even', 'Odd', 'Even', 'Odd', 'Even', 'Odd']"
      ]
     },
     "execution_count": 68,
     "metadata": {},
     "output_type": "execute_result"
    }
   ],
   "source": [
    "list(map(check , [1,2,3,4,3,4,5,6,7]))"
   ]
  },
  {
   "cell_type": "code",
   "execution_count": 69,
   "id": "0e0421c4",
   "metadata": {},
   "outputs": [
    {
     "data": {
      "text/plain": [
       "[2, 4, 4, 6]"
      ]
     },
     "execution_count": 69,
     "metadata": {},
     "output_type": "execute_result"
    }
   ],
   "source": [
    "def even(num):\n",
    "    if num % 2 == 0 :\n",
    "        return True \n",
    "    else:\n",
    "        return False \n",
    "    \n",
    "list(filter(even , [1,2,3,4,3,4,5,6,7]))"
   ]
  },
  {
   "cell_type": "code",
   "execution_count": 70,
   "id": "17546abd",
   "metadata": {},
   "outputs": [
    {
     "data": {
      "text/plain": [
       "[1, 3, 3, 5, 7]"
      ]
     },
     "execution_count": 70,
     "metadata": {},
     "output_type": "execute_result"
    }
   ],
   "source": [
    "def odd(num):\n",
    "    if num % 2 != 0 :\n",
    "        return True \n",
    "    else:\n",
    "        return False \n",
    "    \n",
    "list(filter(odd , [1,2,3,4,3,4,5,6,7]))"
   ]
  },
  {
   "cell_type": "code",
   "execution_count": 71,
   "id": "c3ad18fe",
   "metadata": {},
   "outputs": [],
   "source": [
    "function = lambda x  , y : x * y "
   ]
  },
  {
   "cell_type": "code",
   "execution_count": 72,
   "id": "01fe898f",
   "metadata": {},
   "outputs": [
    {
     "data": {
      "text/plain": [
       "100"
      ]
     },
     "execution_count": 72,
     "metadata": {},
     "output_type": "execute_result"
    }
   ],
   "source": [
    "function(10, 10 )"
   ]
  },
  {
   "cell_type": "code",
   "execution_count": 73,
   "id": "e3d4af32",
   "metadata": {},
   "outputs": [
    {
     "data": {
      "text/plain": [
       "[2, 4, 4, 6]"
      ]
     },
     "execution_count": 73,
     "metadata": {},
     "output_type": "execute_result"
    }
   ],
   "source": [
    "list(filter(lambda x : x % 2 == 0  , [1,2,3,4,3,4,5,6,7]))"
   ]
  },
  {
   "cell_type": "code",
   "execution_count": 74,
   "id": "c47000ed",
   "metadata": {},
   "outputs": [
    {
     "data": {
      "text/plain": [
       "[1, 3, 3, 5, 7]"
      ]
     },
     "execution_count": 74,
     "metadata": {},
     "output_type": "execute_result"
    }
   ],
   "source": [
    "list(filter(lambda x : x % 2 != 0  , [1,2,3,4,3,4,5,6,7]))"
   ]
  },
  {
   "cell_type": "code",
   "execution_count": 77,
   "id": "2a8b5791",
   "metadata": {},
   "outputs": [
    {
     "data": {
      "text/plain": [
       "6"
      ]
     },
     "execution_count": 77,
     "metadata": {},
     "output_type": "execute_result"
    }
   ],
   "source": [
    "hof = lambda x , function1 : x + function1(2)   # function1 = lambda i : i * i == 4 \n",
    "hof(2 , lambda i : i * i )"
   ]
  },
  {
   "cell_type": "code",
   "execution_count": 79,
   "id": "e9b8b329",
   "metadata": {},
   "outputs": [],
   "source": [
    "# function1 = lambda i : i * i\n",
    "# function1(2)"
   ]
  },
  {
   "cell_type": "code",
   "execution_count": 80,
   "id": "dabf8e2d",
   "metadata": {},
   "outputs": [],
   "source": [
    "# scope \n",
    "# module \n",
    "# file handling \n",
    "# oop "
   ]
  },
  {
   "cell_type": "code",
   "execution_count": null,
   "id": "e020491f",
   "metadata": {},
   "outputs": [],
   "source": []
  }
 ],
 "metadata": {
  "kernelspec": {
   "display_name": "Python 3 (ipykernel)",
   "language": "python",
   "name": "python3"
  },
  "language_info": {
   "codemirror_mode": {
    "name": "ipython",
    "version": 3
   },
   "file_extension": ".py",
   "mimetype": "text/x-python",
   "name": "python",
   "nbconvert_exporter": "python",
   "pygments_lexer": "ipython3",
   "version": "3.10.9"
  }
 },
 "nbformat": 4,
 "nbformat_minor": 5
}
