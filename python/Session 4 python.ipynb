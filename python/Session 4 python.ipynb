{
 "cells": [
  {
   "cell_type": "code",
   "execution_count": 2,
   "id": "f632be3e",
   "metadata": {},
   "outputs": [],
   "source": [
    "# scopes\n",
    "# file handling txt\n",
    "# module \n",
    "# oop "
   ]
  },
  {
   "cell_type": "code",
   "execution_count": 16,
   "id": "56876701",
   "metadata": {},
   "outputs": [],
   "source": [
    "def add(n1 , n2 ):\n",
    "    s = n1 + n2 \n",
    "    return s"
   ]
  },
  {
   "cell_type": "code",
   "execution_count": 17,
   "id": "c2dfe895",
   "metadata": {},
   "outputs": [
    {
     "data": {
      "text/plain": [
       "40"
      ]
     },
     "execution_count": 17,
     "metadata": {},
     "output_type": "execute_result"
    }
   ],
   "source": [
    "add(10 , 30 )"
   ]
  },
  {
   "cell_type": "code",
   "execution_count": 18,
   "id": "a28979d9",
   "metadata": {},
   "outputs": [
    {
     "data": {
      "text/plain": [
       "20"
      ]
     },
     "execution_count": 18,
     "metadata": {},
     "output_type": "execute_result"
    }
   ],
   "source": [
    "add(10, 10 )"
   ]
  },
  {
   "cell_type": "code",
   "execution_count": 19,
   "id": "f8d817d3",
   "metadata": {},
   "outputs": [],
   "source": [
    "# print(s)   # NameError: name 's' is not defined"
   ]
  },
  {
   "cell_type": "code",
   "execution_count": 20,
   "id": "0b71a4fe",
   "metadata": {},
   "outputs": [
    {
     "name": "stdout",
     "output_type": "stream",
     "text": [
      "local\n",
      "global\n"
     ]
    }
   ],
   "source": [
    "x = \"global\"\n",
    "def outer():\n",
    "    x = \"local\"\n",
    "    print(x)\n",
    "outer() # local\n",
    "print(x) # global"
   ]
  },
  {
   "cell_type": "code",
   "execution_count": 29,
   "id": "5ab0e8a6",
   "metadata": {},
   "outputs": [
    {
     "name": "stdout",
     "output_type": "stream",
     "text": [
      "local\n",
      "local\n"
     ]
    }
   ],
   "source": [
    "x = \"global\"\n",
    "def outer():\n",
    "    global x \n",
    "    x = \"local\"\n",
    "    print(x) \n",
    "outer() # local\n",
    "print(x) # local"
   ]
  },
  {
   "cell_type": "code",
   "execution_count": 30,
   "id": "0261fdad",
   "metadata": {},
   "outputs": [
    {
     "name": "stdout",
     "output_type": "stream",
     "text": [
      "inner\n",
      "local\n",
      "global\n"
     ]
    }
   ],
   "source": [
    "x = \"global\"\n",
    "def outer():\n",
    "    x = \"local\"\n",
    "    ###############\n",
    "    def inner():\n",
    "        x = \"inner\"\n",
    "        print(x)\n",
    "     ##############   \n",
    "    inner() # inner\n",
    "    print(x) # local\n",
    "outer() \n",
    "print(x) #global"
   ]
  },
  {
   "cell_type": "code",
   "execution_count": 31,
   "id": "cd00c227",
   "metadata": {},
   "outputs": [
    {
     "name": "stdout",
     "output_type": "stream",
     "text": [
      "inner\n",
      "inner\n",
      "global\n"
     ]
    }
   ],
   "source": [
    "x = \"global\"\n",
    "def outer():\n",
    "    x = \"local\"\n",
    "    ###############\n",
    "    def inner():\n",
    "        nonlocal x\n",
    "        x = \"inner\"\n",
    "        print(x)\n",
    "     ##############   \n",
    "    inner() # inner\n",
    "    print(x) # inner\n",
    "outer() \n",
    "print(x) #global"
   ]
  },
  {
   "cell_type": "code",
   "execution_count": 33,
   "id": "906b4ee6",
   "metadata": {},
   "outputs": [
    {
     "name": "stdout",
     "output_type": "stream",
     "text": [
      "inner\n",
      "local\n",
      "inner\n"
     ]
    }
   ],
   "source": [
    "x = \"global\"\n",
    "def outer():\n",
    "    x = \"local\"\n",
    "    ###############\n",
    "    def inner():\n",
    "        global x\n",
    "        x = \"inner\"\n",
    "        print(x)\n",
    "     ##############   \n",
    "    inner() # inner\n",
    "    print(x) # local\n",
    "outer() \n",
    "print(x) #inner"
   ]
  },
  {
   "cell_type": "code",
   "execution_count": null,
   "id": "1a9d1b27",
   "metadata": {},
   "outputs": [],
   "source": [
    "!5 = 4 * 3 * 2 * 1 "
   ]
  },
  {
   "cell_type": "code",
   "execution_count": 36,
   "id": "b3076b08",
   "metadata": {},
   "outputs": [
    {
     "data": {
      "text/plain": [
       "120"
      ]
     },
     "execution_count": 36,
     "metadata": {},
     "output_type": "execute_result"
    }
   ],
   "source": [
    "5 * 4 * 3 * 2 * 1 "
   ]
  },
  {
   "cell_type": "code",
   "execution_count": 37,
   "id": "b4588e2a",
   "metadata": {},
   "outputs": [],
   "source": [
    "def f(num):\n",
    "    if num == 1 :\n",
    "        return 1 \n",
    "    else :\n",
    "         return num * f(num -1)   #4 * f(3)\n",
    "#                                  4 * (3  * f(2))\n",
    "#                                  4 * (3 *  2* (f(1)))\n",
    "#                                  4 * (3 * (2 * (1)))"
   ]
  },
  {
   "cell_type": "code",
   "execution_count": 40,
   "id": "3cab43b0",
   "metadata": {},
   "outputs": [
    {
     "data": {
      "text/plain": [
       "24"
      ]
     },
     "execution_count": 40,
     "metadata": {},
     "output_type": "execute_result"
    }
   ],
   "source": [
    "f(4)"
   ]
  },
  {
   "cell_type": "code",
   "execution_count": 49,
   "id": "9c076a2b",
   "metadata": {},
   "outputs": [],
   "source": [
    "def f(n):\n",
    "    if n == 1 :\n",
    "        return  1 \n",
    "    else:\n",
    "        return n * f(n-1)"
   ]
  },
  {
   "cell_type": "code",
   "execution_count": 50,
   "id": "0fc6d8fa",
   "metadata": {},
   "outputs": [
    {
     "data": {
      "text/plain": [
       "120"
      ]
     },
     "execution_count": 50,
     "metadata": {},
     "output_type": "execute_result"
    }
   ],
   "source": [
    "f(5)"
   ]
  },
  {
   "cell_type": "code",
   "execution_count": 51,
   "id": "7b1127b7",
   "metadata": {},
   "outputs": [],
   "source": [
    "# file handling "
   ]
  },
  {
   "cell_type": "code",
   "execution_count": 52,
   "id": "cbdb5cdd",
   "metadata": {},
   "outputs": [],
   "source": [
    "# open(\"path.txt\" ,mode  )  = \"r\" read , \"w\" creat and  write , 'x' = create or error , 'a' append or create     "
   ]
  },
  {
   "cell_type": "code",
   "execution_count": 55,
   "id": "04d93ef7",
   "metadata": {},
   "outputs": [],
   "source": [
    "f = open(\"test.txt\" , 'w')"
   ]
  },
  {
   "cell_type": "code",
   "execution_count": 56,
   "id": "65903c0d",
   "metadata": {},
   "outputs": [],
   "source": [
    "f.close()"
   ]
  },
  {
   "cell_type": "code",
   "execution_count": 57,
   "id": "42ad092e",
   "metadata": {},
   "outputs": [],
   "source": [
    "f = open(\"test.txt\" , 'w')"
   ]
  },
  {
   "cell_type": "code",
   "execution_count": 58,
   "id": "cb1c5af9",
   "metadata": {},
   "outputs": [
    {
     "data": {
      "text/plain": [
       "12"
      ]
     },
     "execution_count": 58,
     "metadata": {},
     "output_type": "execute_result"
    }
   ],
   "source": [
    "f.write(\"my age is 15\")"
   ]
  },
  {
   "cell_type": "code",
   "execution_count": 59,
   "id": "c6f825c0",
   "metadata": {},
   "outputs": [],
   "source": [
    "f.close()"
   ]
  },
  {
   "cell_type": "code",
   "execution_count": 69,
   "id": "f6a68c70",
   "metadata": {},
   "outputs": [],
   "source": [
    "f = open(\"test2.txt\" , 'w') #create and write()"
   ]
  },
  {
   "cell_type": "code",
   "execution_count": 70,
   "id": "de734627",
   "metadata": {},
   "outputs": [
    {
     "data": {
      "text/plain": [
       "15"
      ]
     },
     "execution_count": 70,
     "metadata": {},
     "output_type": "execute_result"
    }
   ],
   "source": [
    "f.write(\"my name is amit\")"
   ]
  },
  {
   "cell_type": "code",
   "execution_count": 71,
   "id": "0db7ac45",
   "metadata": {},
   "outputs": [],
   "source": [
    "f.close()"
   ]
  },
  {
   "cell_type": "code",
   "execution_count": 66,
   "id": "812d673a",
   "metadata": {},
   "outputs": [],
   "source": [
    "f = open(\"test2.txt\" , 'r')"
   ]
  },
  {
   "cell_type": "code",
   "execution_count": 68,
   "id": "f1776b9f",
   "metadata": {},
   "outputs": [
    {
     "data": {
      "text/plain": [
       "'my age is 30 my name is amit'"
      ]
     },
     "execution_count": 68,
     "metadata": {},
     "output_type": "execute_result"
    }
   ],
   "source": [
    "f.read()"
   ]
  },
  {
   "cell_type": "code",
   "execution_count": 76,
   "id": "c000e7c8",
   "metadata": {},
   "outputs": [],
   "source": [
    "f = open(\"task.txt\" , 'x')"
   ]
  },
  {
   "cell_type": "code",
   "execution_count": 77,
   "id": "3bd61f98",
   "metadata": {},
   "outputs": [],
   "source": [
    "f = open(\"task.txt\" , 'a')"
   ]
  },
  {
   "cell_type": "code",
   "execution_count": 78,
   "id": "d78a852c",
   "metadata": {},
   "outputs": [
    {
     "data": {
      "text/plain": [
       "14"
      ]
     },
     "execution_count": 78,
     "metadata": {},
     "output_type": "execute_result"
    }
   ],
   "source": [
    "f.write(\" my age is 15 \")"
   ]
  },
  {
   "cell_type": "code",
   "execution_count": 79,
   "id": "44bb6112",
   "metadata": {},
   "outputs": [],
   "source": [
    "f.close()"
   ]
  },
  {
   "cell_type": "code",
   "execution_count": 80,
   "id": "d3d8d581",
   "metadata": {},
   "outputs": [],
   "source": [
    "f = open(\"task.txt\" , 'r+') # r+ read , write"
   ]
  },
  {
   "cell_type": "code",
   "execution_count": 81,
   "id": "f9c9c7c3",
   "metadata": {},
   "outputs": [
    {
     "data": {
      "text/plain": [
       "'my name is amit  my age is 15 '"
      ]
     },
     "execution_count": 81,
     "metadata": {},
     "output_type": "execute_result"
    }
   ],
   "source": [
    "f.read()"
   ]
  },
  {
   "cell_type": "code",
   "execution_count": 82,
   "id": "e24a2e3e",
   "metadata": {},
   "outputs": [
    {
     "data": {
      "text/plain": [
       "27"
      ]
     },
     "execution_count": 82,
     "metadata": {},
     "output_type": "execute_result"
    }
   ],
   "source": [
    "f.write(\" number of students is 1000\")"
   ]
  },
  {
   "cell_type": "code",
   "execution_count": 83,
   "id": "6e8267ce",
   "metadata": {},
   "outputs": [],
   "source": [
    "f.close()"
   ]
  },
  {
   "cell_type": "code",
   "execution_count": 84,
   "id": "79ed4009",
   "metadata": {},
   "outputs": [],
   "source": [
    "f = open(\"task2.txt\" , 'a')"
   ]
  },
  {
   "cell_type": "code",
   "execution_count": 89,
   "id": "8e02987d",
   "metadata": {},
   "outputs": [],
   "source": [
    "txt = open(\"task.txt\" , 'w')"
   ]
  },
  {
   "cell_type": "code",
   "execution_count": 90,
   "id": "d510825b",
   "metadata": {},
   "outputs": [
    {
     "data": {
      "text/plain": [
       "20"
      ]
     },
     "execution_count": 90,
     "metadata": {},
     "output_type": "execute_result"
    }
   ],
   "source": [
    "txt.write(\"my name is hamadaaaa\")"
   ]
  },
  {
   "cell_type": "code",
   "execution_count": 91,
   "id": "fe999bf7",
   "metadata": {},
   "outputs": [],
   "source": [
    "txt.close()"
   ]
  },
  {
   "cell_type": "code",
   "execution_count": 92,
   "id": "36d90dce",
   "metadata": {},
   "outputs": [],
   "source": [
    "# name =  \n",
    "# age = \n",
    "# write >> my name is name and my age is age\n",
    "# student_info "
   ]
  },
  {
   "cell_type": "code",
   "execution_count": 93,
   "id": "876a7504",
   "metadata": {},
   "outputs": [
    {
     "name": "stdout",
     "output_type": "stream",
     "text": [
      "Enter your name: Ahmed\n",
      "Enter your age: 30\n"
     ]
    }
   ],
   "source": [
    "name = input(\"Enter your name: \")\n",
    "age = int(input(\"Enter your age: \"))\n",
    "f = open(\"student_info.txt\" , 'w')\n",
    "f.write(f\"student name is {name}\\nstudent age is {age} \")\n",
    "f.close()"
   ]
  },
  {
   "cell_type": "code",
   "execution_count": 101,
   "id": "cfcdb6fc",
   "metadata": {},
   "outputs": [
    {
     "name": "stdout",
     "output_type": "stream",
     "text": [
      "['student name is احمد \\n', 'student age is 30 \\n']\n"
     ]
    }
   ],
   "source": [
    "with open(\"student_info.txt\" , encoding = 'utf-8') as f :\n",
    "    print(f.readlines())"
   ]
  },
  {
   "cell_type": "code",
   "execution_count": 97,
   "id": "2f63eb23",
   "metadata": {},
   "outputs": [],
   "source": [
    "f = open(\"student_info.txt\" , encoding = 'utf-8')"
   ]
  },
  {
   "cell_type": "code",
   "execution_count": 98,
   "id": "ce688447",
   "metadata": {},
   "outputs": [
    {
     "data": {
      "text/plain": [
       "'student name is احمد \\nstudent age is 30 \\n'"
      ]
     },
     "execution_count": 98,
     "metadata": {},
     "output_type": "execute_result"
    }
   ],
   "source": [
    "f.read()"
   ]
  },
  {
   "cell_type": "code",
   "execution_count": 1,
   "id": "3292263c",
   "metadata": {},
   "outputs": [],
   "source": [
    "# restart your kernel "
   ]
  },
  {
   "cell_type": "code",
   "execution_count": null,
   "id": "5e306cc3",
   "metadata": {},
   "outputs": [],
   "source": [
    "# import modulename\n",
    "# import modulename as md \n",
    "# from modulename import method1 , method2....\n",
    "# from modulename import * "
   ]
  },
  {
   "cell_type": "code",
   "execution_count": 1,
   "id": "9c67f74f",
   "metadata": {},
   "outputs": [],
   "source": [
    "import module"
   ]
  },
  {
   "cell_type": "code",
   "execution_count": 2,
   "id": "3056da98",
   "metadata": {},
   "outputs": [],
   "source": [
    "# dir(module)"
   ]
  },
  {
   "cell_type": "code",
   "execution_count": 3,
   "id": "b3247966",
   "metadata": {},
   "outputs": [
    {
     "data": {
      "text/plain": [
       "0"
      ]
     },
     "execution_count": 3,
     "metadata": {},
     "output_type": "execute_result"
    }
   ],
   "source": [
    "module.add()"
   ]
  },
  {
   "cell_type": "code",
   "execution_count": 4,
   "id": "07c27ff2",
   "metadata": {},
   "outputs": [
    {
     "data": {
      "text/plain": [
       "24"
      ]
     },
     "execution_count": 4,
     "metadata": {},
     "output_type": "execute_result"
    }
   ],
   "source": [
    "module.add(12 ,12)"
   ]
  },
  {
   "cell_type": "code",
   "execution_count": 5,
   "id": "3b752f48",
   "metadata": {},
   "outputs": [
    {
     "data": {
      "text/plain": [
       "'Even'"
      ]
     },
     "execution_count": 5,
     "metadata": {},
     "output_type": "execute_result"
    }
   ],
   "source": [
    "module.check(12)"
   ]
  },
  {
   "cell_type": "code",
   "execution_count": 6,
   "id": "23b012bf",
   "metadata": {},
   "outputs": [
    {
     "data": {
      "text/plain": [
       "['Odd', 'Odd', 'Odd', 'Even', 'Odd', 'Even', 'Odd', 'Even']"
      ]
     },
     "execution_count": 6,
     "metadata": {},
     "output_type": "execute_result"
    }
   ],
   "source": [
    "lst = [1,1,1,2,3,4,5,4]\n",
    "list(map( module.check ,  lst))"
   ]
  },
  {
   "cell_type": "code",
   "execution_count": 7,
   "id": "72ce6e1b",
   "metadata": {},
   "outputs": [
    {
     "data": {
      "text/plain": [
       "True"
      ]
     },
     "execution_count": 7,
     "metadata": {},
     "output_type": "execute_result"
    }
   ],
   "source": [
    "module.even(10)"
   ]
  },
  {
   "cell_type": "code",
   "execution_count": 8,
   "id": "a5ee8972",
   "metadata": {},
   "outputs": [
    {
     "data": {
      "text/plain": [
       "False"
      ]
     },
     "execution_count": 8,
     "metadata": {},
     "output_type": "execute_result"
    }
   ],
   "source": [
    "module.even(11)"
   ]
  },
  {
   "cell_type": "code",
   "execution_count": 9,
   "id": "4f3c5d02",
   "metadata": {},
   "outputs": [
    {
     "data": {
      "text/plain": [
       "False"
      ]
     },
     "execution_count": 9,
     "metadata": {},
     "output_type": "execute_result"
    }
   ],
   "source": [
    "module.even(11)"
   ]
  },
  {
   "cell_type": "code",
   "execution_count": 10,
   "id": "d3e150b4",
   "metadata": {},
   "outputs": [
    {
     "data": {
      "text/plain": [
       "[2, 4, 4]"
      ]
     },
     "execution_count": 10,
     "metadata": {},
     "output_type": "execute_result"
    }
   ],
   "source": [
    "lst = [1,1,1,2,3,4,5,4]\n",
    "list(filter(module.even , lst))"
   ]
  },
  {
   "cell_type": "code",
   "execution_count": 11,
   "id": "2e82bbf6",
   "metadata": {},
   "outputs": [
    {
     "data": {
      "text/plain": [
       "[1, 1, 1, 3, 5]"
      ]
     },
     "execution_count": 11,
     "metadata": {},
     "output_type": "execute_result"
    }
   ],
   "source": [
    "lst = [1,1,1,2,3,4,5,4]\n",
    "list(filter(module.odd , lst))"
   ]
  },
  {
   "cell_type": "code",
   "execution_count": 12,
   "id": "ef6ed49b",
   "metadata": {},
   "outputs": [],
   "source": [
    "import module as md "
   ]
  },
  {
   "cell_type": "code",
   "execution_count": 14,
   "id": "fe7404cf",
   "metadata": {},
   "outputs": [],
   "source": [
    "# dir(md)"
   ]
  },
  {
   "cell_type": "code",
   "execution_count": 15,
   "id": "af576bff",
   "metadata": {},
   "outputs": [
    {
     "data": {
      "text/plain": [
       "66"
      ]
     },
     "execution_count": 15,
     "metadata": {},
     "output_type": "execute_result"
    }
   ],
   "source": [
    "md.add(12,12,12,12,12,2,4)"
   ]
  },
  {
   "cell_type": "code",
   "execution_count": 19,
   "id": "c060fb09",
   "metadata": {},
   "outputs": [],
   "source": [
    "from module import add , check"
   ]
  },
  {
   "cell_type": "code",
   "execution_count": 20,
   "id": "52b0ef20",
   "metadata": {},
   "outputs": [
    {
     "data": {
      "text/plain": [
       "48"
      ]
     },
     "execution_count": 20,
     "metadata": {},
     "output_type": "execute_result"
    }
   ],
   "source": [
    "add(12,12,12,12)"
   ]
  },
  {
   "cell_type": "code",
   "execution_count": 21,
   "id": "95d401af",
   "metadata": {},
   "outputs": [
    {
     "data": {
      "text/plain": [
       "'Even'"
      ]
     },
     "execution_count": 21,
     "metadata": {},
     "output_type": "execute_result"
    }
   ],
   "source": [
    "check(12)"
   ]
  },
  {
   "cell_type": "code",
   "execution_count": 22,
   "id": "a7bb13d3",
   "metadata": {},
   "outputs": [],
   "source": [
    "from module import *"
   ]
  },
  {
   "cell_type": "code",
   "execution_count": 23,
   "id": "2720ad15",
   "metadata": {},
   "outputs": [
    {
     "data": {
      "text/plain": [
       "True"
      ]
     },
     "execution_count": 23,
     "metadata": {},
     "output_type": "execute_result"
    }
   ],
   "source": [
    "odd(13)"
   ]
  },
  {
   "cell_type": "code",
   "execution_count": null,
   "id": "8409edf0",
   "metadata": {},
   "outputs": [],
   "source": [
    "import random as rn "
   ]
  },
  {
   "cell_type": "code",
   "execution_count": 26,
   "id": "323a41f4",
   "metadata": {},
   "outputs": [],
   "source": [
    "# dir(rn)"
   ]
  },
  {
   "cell_type": "code",
   "execution_count": 32,
   "id": "e772ec97",
   "metadata": {},
   "outputs": [
    {
     "data": {
      "text/plain": [
       "0.6471554265947721"
      ]
     },
     "execution_count": 32,
     "metadata": {},
     "output_type": "execute_result"
    }
   ],
   "source": [
    "rn.random()"
   ]
  },
  {
   "cell_type": "code",
   "execution_count": 39,
   "id": "670e4c34",
   "metadata": {},
   "outputs": [
    {
     "name": "stdout",
     "output_type": "stream",
     "text": [
      "5\n",
      "7\n",
      "7\n",
      "5\n",
      "10\n",
      "8\n",
      "2\n",
      "9\n",
      "7\n",
      "8\n"
     ]
    }
   ],
   "source": [
    "for i in range(10):\n",
    "    print(rn.randint(0 , 10 ))"
   ]
  },
  {
   "cell_type": "code",
   "execution_count": 48,
   "id": "0cba5026",
   "metadata": {
    "scrolled": true
   },
   "outputs": [
    {
     "name": "stdout",
     "output_type": "stream",
     "text": [
      "5\n",
      "3\n"
     ]
    }
   ],
   "source": [
    "print(rn.randrange(0 , 10 ))   #start included  , end not included\n",
    "print(rn.randint(0 , 10 ))     #start included  , end     included"
   ]
  },
  {
   "cell_type": "code",
   "execution_count": null,
   "id": "69703db8",
   "metadata": {},
   "outputs": [],
   "source": [
    "print(\"a\")"
   ]
  },
  {
   "cell_type": "code",
   "execution_count": null,
   "id": "c1f530d5",
   "metadata": {},
   "outputs": [],
   "source": []
  }
 ],
 "metadata": {
  "kernelspec": {
   "display_name": "Python 3 (ipykernel)",
   "language": "python",
   "name": "python3"
  },
  "language_info": {
   "codemirror_mode": {
    "name": "ipython",
    "version": 3
   },
   "file_extension": ".py",
   "mimetype": "text/x-python",
   "name": "python",
   "nbconvert_exporter": "python",
   "pygments_lexer": "ipython3",
   "version": "3.10.9"
  }
 },
 "nbformat": 4,
 "nbformat_minor": 5
}
