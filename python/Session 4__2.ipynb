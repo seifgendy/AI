{
  "nbformat": 4,
  "nbformat_minor": 0,
  "metadata": {
    "colab": {
      "provenance": []
    },
    "kernelspec": {
      "name": "python3",
      "display_name": "Python 3"
    },
    "language_info": {
      "name": "python"
    }
  },
  "cells": [
    {
      "cell_type": "code",
      "execution_count": 1,
      "metadata": {
        "id": "z1lr_D0yJPMk"
      },
      "outputs": [],
      "source": [
        "# bmw_model = \"bmw1\"\n",
        "# bmw_color = \"red\"\n",
        "# bmw_speed = 250\n",
        "# bmw_year = 2010\n",
        "\n",
        "# bmw_model = \"bmw1\"\n",
        "# bmw_color = \"red\"\n",
        "# bmw_speed = 250\n",
        "# bmw_year = 2010\n",
        "\n",
        "# bmw_model = \"bmw1\"\n",
        "# bmw_color = \"red\"\n",
        "# bmw_speed = 250\n",
        "# bmw_year = 2010\n",
        "\n",
        "# bmw_model = \"bmw1\"\n",
        "# bmw_color = \"red\"\n",
        "# bmw_speed = 250\n",
        "# bmw_year = 2010\n",
        "\n",
        "# bmw_model = \"bmw1\"\n",
        "# bmw_color = \"red\"\n",
        "# bmw_speed = 250\n",
        "# bmw_year = 2010"
      ]
    },
    {
      "cell_type": "code",
      "source": [
        "#Create Class\n",
        "class ClassName:\n",
        "  pass"
      ],
      "metadata": {
        "id": "0khecWu_Lcnk"
      },
      "execution_count": 2,
      "outputs": []
    },
    {
      "cell_type": "code",
      "source": [
        "# create object\n",
        "object1 = ClassName()"
      ],
      "metadata": {
        "id": "DgEWA0MSL2Em"
      },
      "execution_count": 3,
      "outputs": []
    },
    {
      "cell_type": "code",
      "source": [
        "isinstance(object1 , ClassName)"
      ],
      "metadata": {
        "colab": {
          "base_uri": "https://localhost:8080/"
        },
        "id": "sRZA3yQoMFhi",
        "outputId": "562a3037-9daf-4def-ddb4-990a98d84948"
      },
      "execution_count": 4,
      "outputs": [
        {
          "output_type": "execute_result",
          "data": {
            "text/plain": [
              "True"
            ]
          },
          "metadata": {},
          "execution_count": 4
        }
      ]
    },
    {
      "cell_type": "code",
      "source": [
        "isinstance(\"amit\" , str)"
      ],
      "metadata": {
        "colab": {
          "base_uri": "https://localhost:8080/"
        },
        "id": "Pcngqo-xMegF",
        "outputId": "2410ca57-1e2e-4b80-d2ed-1a49d97b3868"
      },
      "execution_count": 5,
      "outputs": [
        {
          "output_type": "execute_result",
          "data": {
            "text/plain": [
              "True"
            ]
          },
          "metadata": {},
          "execution_count": 5
        }
      ]
    },
    {
      "cell_type": "code",
      "source": [
        "isinstance(\"amit\" , int)"
      ],
      "metadata": {
        "colab": {
          "base_uri": "https://localhost:8080/"
        },
        "id": "H95ZP4fTMkr2",
        "outputId": "9937414d-0658-425f-a9b6-ab8baca9c72d"
      },
      "execution_count": 6,
      "outputs": [
        {
          "output_type": "execute_result",
          "data": {
            "text/plain": [
              "False"
            ]
          },
          "metadata": {},
          "execution_count": 6
        }
      ]
    },
    {
      "cell_type": "code",
      "source": [
        "class Cars:\n",
        "  #class attribute\n",
        "  counter = 0\n",
        "  def __init__(self , name , year , color , speed):\n",
        "    #instance attribute\n",
        "    self.namee = name\n",
        "    self.yearr  = year\n",
        "    self.colorr = color\n",
        "    self.speedd = speed\n",
        "    # classname.attributename\n",
        "    Cars.counter += 1\n",
        "  # instance method (function)\n",
        "  def info(self):\n",
        "    print(f\"Car name is : {self.namee}\")\n",
        "    print(f\"Car speed is: {self.speedd}\")\n",
        "    print(f\"Car color is: {self.colorr}\")\n",
        "    print(f\"Car year is : {self.yearr}\")"
      ],
      "metadata": {
        "id": "hWUdb2mcMnfS"
      },
      "execution_count": 28,
      "outputs": []
    },
    {
      "cell_type": "code",
      "source": [
        "bmw = Cars(\"BMW\" , 2010 , \"red\" , 250)\n",
        "fiat = Cars(\"FIAT\" , 2000 , \"black\" , 20)\n",
        "toyota = Cars(\"TOYOTA\" , 2010 , \"blue\" , 200)"
      ],
      "metadata": {
        "id": "YWjS4PW7NuBR"
      },
      "execution_count": 29,
      "outputs": []
    },
    {
      "cell_type": "code",
      "source": [
        "print(Cars.counter)\n",
        "print(bmw.counter)"
      ],
      "metadata": {
        "colab": {
          "base_uri": "https://localhost:8080/"
        },
        "id": "ZUvfUYLPRI2-",
        "outputId": "b48a7ca4-3e1e-4044-be20-e914d3994c7e"
      },
      "execution_count": 31,
      "outputs": [
        {
          "output_type": "stream",
          "name": "stdout",
          "text": [
            "3\n",
            "3\n"
          ]
        }
      ]
    },
    {
      "cell_type": "code",
      "source": [
        "isinstance(bmw , Cars)"
      ],
      "metadata": {
        "colab": {
          "base_uri": "https://localhost:8080/"
        },
        "id": "vn5jm1wzNxux",
        "outputId": "c52a311e-63ac-4455-a8f0-269a38876ced"
      },
      "execution_count": 23,
      "outputs": [
        {
          "output_type": "execute_result",
          "data": {
            "text/plain": [
              "True"
            ]
          },
          "metadata": {},
          "execution_count": 23
        }
      ]
    },
    {
      "cell_type": "code",
      "source": [
        "bmw.namee"
      ],
      "metadata": {
        "colab": {
          "base_uri": "https://localhost:8080/",
          "height": 36
        },
        "id": "94rSh6YLOAI8",
        "outputId": "490719ec-ad32-490a-bd95-fcca2abc055b"
      },
      "execution_count": 24,
      "outputs": [
        {
          "output_type": "execute_result",
          "data": {
            "text/plain": [
              "'BMW'"
            ],
            "application/vnd.google.colaboratory.intrinsic+json": {
              "type": "string"
            }
          },
          "metadata": {},
          "execution_count": 24
        }
      ]
    },
    {
      "cell_type": "code",
      "source": [
        "fiat.namee"
      ],
      "metadata": {
        "colab": {
          "base_uri": "https://localhost:8080/",
          "height": 36
        },
        "id": "2UfGy0ysOS0E",
        "outputId": "bad81006-f7a2-4b34-db09-fe8bc307929d"
      },
      "execution_count": 25,
      "outputs": [
        {
          "output_type": "execute_result",
          "data": {
            "text/plain": [
              "'FIAT'"
            ],
            "application/vnd.google.colaboratory.intrinsic+json": {
              "type": "string"
            }
          },
          "metadata": {},
          "execution_count": 25
        }
      ]
    },
    {
      "cell_type": "code",
      "source": [
        "fiat.info()"
      ],
      "metadata": {
        "colab": {
          "base_uri": "https://localhost:8080/"
        },
        "id": "IWkwHPaROVlo",
        "outputId": "96b2e09a-6e11-4c03-e935-d554281e6252"
      },
      "execution_count": 26,
      "outputs": [
        {
          "output_type": "stream",
          "name": "stdout",
          "text": [
            "Car name is : FIAT\n",
            "Car speed is: 20\n",
            "Car color is: black\n",
            "Car year is : 2000\n"
          ]
        }
      ]
    },
    {
      "cell_type": "code",
      "source": [
        "bmw.info()"
      ],
      "metadata": {
        "colab": {
          "base_uri": "https://localhost:8080/"
        },
        "id": "omxd-ZZhPoQN",
        "outputId": "4b3bd393-f175-4ed3-fe12-ed5d1812807d"
      },
      "execution_count": 27,
      "outputs": [
        {
          "output_type": "stream",
          "name": "stdout",
          "text": [
            "Car name is : BMW\n",
            "Car speed is: 250\n",
            "Car color is: red\n",
            "Car year is : 2010\n"
          ]
        }
      ]
    },
    {
      "cell_type": "code",
      "source": [
        "# from inspect import Attribute\n",
        "# Students:\n",
        "#   instance Attribute\n",
        "#     s_name\n",
        "#     s_age\n",
        "#     s_n_courses\n",
        "#   instnce method\n",
        "#     show(self)\n",
        "\n"
      ],
      "metadata": {
        "id": "wx3y5HAXPxyZ"
      },
      "execution_count": 32,
      "outputs": []
    },
    {
      "cell_type": "code",
      "source": [
        "s1 = Students( , , , , , )\n",
        "s2 = Students( , , ,, ,)"
      ],
      "metadata": {
        "id": "D22ZsduHSVvo"
      },
      "execution_count": null,
      "outputs": []
    }
  ]
}