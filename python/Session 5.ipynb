{
 "cells": [
  {
   "cell_type": "code",
   "execution_count": 59,
   "id": "d72cdd02",
   "metadata": {},
   "outputs": [],
   "source": [
    "lst2 = [11,5,17,18,23,50]\n",
    "d = lst2[1:5]"
   ]
  },
  {
   "cell_type": "code",
   "execution_count": 60,
   "id": "1da8580c",
   "metadata": {},
   "outputs": [
    {
     "name": "stdout",
     "output_type": "stream",
     "text": [
      "[11, 50]\n"
     ]
    }
   ],
   "source": [
    "for i in d:\n",
    "    if i in lst2:\n",
    "        lst2.remove(i)\n",
    "print(lst2)"
   ]
  },
  {
   "cell_type": "code",
   "execution_count": 62,
   "id": "fa11b3d3",
   "metadata": {},
   "outputs": [],
   "source": [
    "class Dogs:\n",
    "    pass"
   ]
  },
  {
   "cell_type": "code",
   "execution_count": 63,
   "id": "dce5fd4a",
   "metadata": {},
   "outputs": [],
   "source": [
    "d1 = Dogs()"
   ]
  },
  {
   "cell_type": "code",
   "execution_count": 64,
   "id": "67f457dc",
   "metadata": {},
   "outputs": [
    {
     "data": {
      "text/plain": [
       "True"
      ]
     },
     "execution_count": 64,
     "metadata": {},
     "output_type": "execute_result"
    }
   ],
   "source": [
    "isinstance(d1,Dogs)"
   ]
  },
  {
   "cell_type": "code",
   "execution_count": 85,
   "id": "7105a495",
   "metadata": {},
   "outputs": [],
   "source": [
    "class Dogs:\n",
    "    def __init__(self,name , age):\n",
    "#     instance attribute\n",
    "        self.name = name\n",
    "        self.age  = age \n",
    "#     instance method\n",
    "    def info(self):\n",
    "        print(f\"Dog name is {self.name}\")\n",
    "        print(f\"Dog age is {self.age}\")"
   ]
  },
  {
   "cell_type": "code",
   "execution_count": 86,
   "id": "eb50a440",
   "metadata": {},
   "outputs": [],
   "source": [
    "d1 = Dogs(\"jack1\" , 2 )\n",
    "d2 = Dogs(\"jack2\" , 2 )"
   ]
  },
  {
   "cell_type": "code",
   "execution_count": 90,
   "id": "8fbb817c",
   "metadata": {},
   "outputs": [
    {
     "data": {
      "text/plain": [
       "'Jack1'"
      ]
     },
     "execution_count": 90,
     "metadata": {},
     "output_type": "execute_result"
    }
   ],
   "source": [
    "d1.name = \"Jack1\"\n",
    "d1.name"
   ]
  },
  {
   "cell_type": "code",
   "execution_count": 88,
   "id": "4efa20e1",
   "metadata": {},
   "outputs": [
    {
     "data": {
      "text/plain": [
       "'jack2'"
      ]
     },
     "execution_count": 88,
     "metadata": {},
     "output_type": "execute_result"
    }
   ],
   "source": [
    "d2.name"
   ]
  },
  {
   "cell_type": "code",
   "execution_count": 80,
   "id": "39ec2ab4",
   "metadata": {},
   "outputs": [
    {
     "name": "stdout",
     "output_type": "stream",
     "text": [
      "Dog name is Jack1\n",
      "Dog age is 2\n"
     ]
    }
   ],
   "source": [
    "d1.info()"
   ]
  },
  {
   "cell_type": "code",
   "execution_count": 78,
   "id": "ec90cbe9",
   "metadata": {},
   "outputs": [
    {
     "name": "stdout",
     "output_type": "stream",
     "text": [
      "Dog name is jack2\n",
      "Dog age is 2\n"
     ]
    }
   ],
   "source": [
    "d2.info()"
   ]
  },
  {
   "cell_type": "code",
   "execution_count": null,
   "id": "1bf2d911",
   "metadata": {},
   "outputs": [],
   "source": []
  },
  {
   "cell_type": "code",
   "execution_count": null,
   "id": "ef924e9d",
   "metadata": {},
   "outputs": [],
   "source": []
  },
  {
   "cell_type": "code",
   "execution_count": 91,
   "id": "82c8e591",
   "metadata": {},
   "outputs": [],
   "source": [
    "class Dogs:\n",
    "    def __init__(self,name , age):\n",
    "#     instance attribute\n",
    "        self.__name = name\n",
    "        self.__age  = age \n",
    "#     instance method\n",
    "    def info(self):\n",
    "        print(f\"Dog name is {self.__name}\")\n",
    "        print(f\"Dog age is {self.__age}\")"
   ]
  },
  {
   "cell_type": "code",
   "execution_count": 92,
   "id": "f97254db",
   "metadata": {},
   "outputs": [],
   "source": [
    "d1 = Dogs(\"jack1\" , 2 )\n",
    "d2 = Dogs(\"jack2\" , 2 )"
   ]
  },
  {
   "cell_type": "code",
   "execution_count": 106,
   "id": "43837712",
   "metadata": {},
   "outputs": [
    {
     "name": "stdout",
     "output_type": "stream",
     "text": [
      "Error 'Dogs' object has no attribute '__name'\n"
     ]
    }
   ],
   "source": [
    "try:\n",
    "    d1.__name \n",
    "except Exception as e :\n",
    "    print(\"Error\" , e)"
   ]
  },
  {
   "cell_type": "code",
   "execution_count": 98,
   "id": "4b40deac",
   "metadata": {},
   "outputs": [
    {
     "data": {
      "text/plain": [
       "'Hamadaa'"
      ]
     },
     "execution_count": 98,
     "metadata": {},
     "output_type": "execute_result"
    }
   ],
   "source": [
    "d2.name = \"Hamadaa\"\n",
    "d2.name"
   ]
  },
  {
   "cell_type": "code",
   "execution_count": 80,
   "id": "c4e24981",
   "metadata": {},
   "outputs": [
    {
     "name": "stdout",
     "output_type": "stream",
     "text": [
      "Dog name is Jack1\n",
      "Dog age is 2\n"
     ]
    }
   ],
   "source": [
    "d1.info()"
   ]
  },
  {
   "cell_type": "code",
   "execution_count": 96,
   "id": "5a7caba0",
   "metadata": {},
   "outputs": [
    {
     "name": "stdout",
     "output_type": "stream",
     "text": [
      "Dog name is jack2\n",
      "Dog age is 2\n"
     ]
    }
   ],
   "source": [
    "d2.info()"
   ]
  },
  {
   "cell_type": "code",
   "execution_count": 105,
   "id": "9f5df1de",
   "metadata": {},
   "outputs": [
    {
     "name": "stdout",
     "output_type": "stream",
     "text": [
      "Error 'Dogs' object has no attribute 'name'\n"
     ]
    }
   ],
   "source": [
    "try:\n",
    "    d1.name \n",
    "except Exception as e :\n",
    "    print(\"Error\" , e)"
   ]
  },
  {
   "cell_type": "code",
   "execution_count": 102,
   "id": "28f75f36",
   "metadata": {},
   "outputs": [],
   "source": [
    "# d1._Dogs__name = \"123\""
   ]
  },
  {
   "cell_type": "code",
   "execution_count": 104,
   "id": "3d7f0d79",
   "metadata": {},
   "outputs": [],
   "source": [
    "# d1.info()"
   ]
  },
  {
   "cell_type": "code",
   "execution_count": 107,
   "id": "13f7101e",
   "metadata": {},
   "outputs": [],
   "source": [
    "class Cars:\n",
    "    def __init__(self , name, age):\n",
    "        self.name = name\n",
    "        self.age  = age\n",
    "    def show(self):\n",
    "        print(\"Car name is\" , self.name)\n",
    "        print(\"Car age is\", self.age)"
   ]
  },
  {
   "cell_type": "code",
   "execution_count": 108,
   "id": "4064c500",
   "metadata": {},
   "outputs": [],
   "source": [
    "BMW = Cars(\"BMW\" , 3)"
   ]
  },
  {
   "cell_type": "code",
   "execution_count": 109,
   "id": "9ded44c4",
   "metadata": {},
   "outputs": [
    {
     "name": "stdout",
     "output_type": "stream",
     "text": [
      "Car name is BMW\n",
      "Car age is 3\n"
     ]
    }
   ],
   "source": [
    "BMW.show()"
   ]
  },
  {
   "cell_type": "code",
   "execution_count": 110,
   "id": "3e637fe5",
   "metadata": {},
   "outputs": [],
   "source": [
    "class BMW(Cars):\n",
    "    pass"
   ]
  },
  {
   "cell_type": "code",
   "execution_count": 114,
   "id": "8a3e93ac",
   "metadata": {},
   "outputs": [],
   "source": [
    "BMW1 = BMW(\"bwm1\" , 5)"
   ]
  },
  {
   "cell_type": "code",
   "execution_count": 115,
   "id": "fb2871e1",
   "metadata": {
    "scrolled": true
   },
   "outputs": [
    {
     "name": "stdout",
     "output_type": "stream",
     "text": [
      "Car name is bwm1\n",
      "Car age is 5\n"
     ]
    }
   ],
   "source": [
    "BMW1.show()"
   ]
  },
  {
   "cell_type": "code",
   "execution_count": 116,
   "id": "1bdbc62b",
   "metadata": {},
   "outputs": [],
   "source": [
    "#############################################"
   ]
  },
  {
   "cell_type": "code",
   "execution_count": 117,
   "id": "4a2cabe9",
   "metadata": {},
   "outputs": [],
   "source": [
    "#############################################"
   ]
  },
  {
   "cell_type": "code",
   "execution_count": 118,
   "id": "2b72c901",
   "metadata": {},
   "outputs": [],
   "source": [
    "class Cars:\n",
    "    def __init__(self , name, age):\n",
    "        self.name = name\n",
    "        self.age  = age\n",
    "    def show(self):\n",
    "        print(\"Car name is\" , self.name)\n",
    "        print(\"Car age is\", self.age)"
   ]
  },
  {
   "cell_type": "code",
   "execution_count": 119,
   "id": "17ab259a",
   "metadata": {},
   "outputs": [],
   "source": [
    "BMW = Cars(\"BMW\" , 3)"
   ]
  },
  {
   "cell_type": "code",
   "execution_count": 120,
   "id": "749771cd",
   "metadata": {},
   "outputs": [
    {
     "name": "stdout",
     "output_type": "stream",
     "text": [
      "Car name is BMW\n",
      "Car age is 3\n"
     ]
    }
   ],
   "source": [
    "BMW.show()"
   ]
  },
  {
   "cell_type": "code",
   "execution_count": 121,
   "id": "acc1f457",
   "metadata": {},
   "outputs": [],
   "source": [
    "class BMW(Cars):\n",
    "    pass"
   ]
  },
  {
   "cell_type": "code",
   "execution_count": 114,
   "id": "0f97120d",
   "metadata": {},
   "outputs": [],
   "source": [
    "BMW1 = BMW(\"bwm1\" , 5)"
   ]
  },
  {
   "cell_type": "code",
   "execution_count": 115,
   "id": "f58f1369",
   "metadata": {},
   "outputs": [
    {
     "name": "stdout",
     "output_type": "stream",
     "text": [
      "Car name is bwm1\n",
      "Car age is 5\n"
     ]
    }
   ],
   "source": [
    "BMW1.show()"
   ]
  },
  {
   "cell_type": "code",
   "execution_count": null,
   "id": "cb25289f",
   "metadata": {},
   "outputs": [],
   "source": []
  },
  {
   "cell_type": "code",
   "execution_count": 122,
   "id": "b5972a4f",
   "metadata": {},
   "outputs": [],
   "source": [
    "class Cars:\n",
    "    def __init__(self , name, age):\n",
    "        self.name = name\n",
    "        self.age  = age\n",
    "    def show(self):\n",
    "        print(\"Car name is\" , self.name)\n",
    "        print(\"Car age is\", self.age)"
   ]
  },
  {
   "cell_type": "code",
   "execution_count": 123,
   "id": "151717b4",
   "metadata": {},
   "outputs": [],
   "source": [
    "BMW = Cars(\"BMW\" , 3)"
   ]
  },
  {
   "cell_type": "code",
   "execution_count": 124,
   "id": "98ea9464",
   "metadata": {},
   "outputs": [
    {
     "name": "stdout",
     "output_type": "stream",
     "text": [
      "Car name is BMW\n",
      "Car age is 3\n"
     ]
    }
   ],
   "source": [
    "BMW.show()"
   ]
  },
  {
   "cell_type": "code",
   "execution_count": 136,
   "id": "7b9ac3a4",
   "metadata": {},
   "outputs": [],
   "source": [
    "class BMW(Cars):\n",
    "    def __init__(self , name , age , model):\n",
    "        Cars.__init__(self, name , age)\n",
    "        self.model = model\n",
    "    def show_BMW(self):\n",
    "        print(\"Car name is\" , self.name)\n",
    "        print(\"Car age is\", self.age)\n",
    "        print(\"Car model is\", self.model)"
   ]
  },
  {
   "cell_type": "code",
   "execution_count": 137,
   "id": "745121f9",
   "metadata": {},
   "outputs": [],
   "source": [
    "BMW1 = BMW(\"bwm1\" , 5 , \"123\")"
   ]
  },
  {
   "cell_type": "code",
   "execution_count": 138,
   "id": "f164ec19",
   "metadata": {},
   "outputs": [
    {
     "name": "stdout",
     "output_type": "stream",
     "text": [
      "Car name is bwm1\n",
      "Car age is 5\n"
     ]
    }
   ],
   "source": [
    "BMW1.show()"
   ]
  },
  {
   "cell_type": "code",
   "execution_count": 139,
   "id": "378e75b7",
   "metadata": {},
   "outputs": [
    {
     "data": {
      "text/plain": [
       "'123'"
      ]
     },
     "execution_count": 139,
     "metadata": {},
     "output_type": "execute_result"
    }
   ],
   "source": [
    "BMW1.model"
   ]
  },
  {
   "cell_type": "code",
   "execution_count": 140,
   "id": "8ef40eaa",
   "metadata": {},
   "outputs": [
    {
     "name": "stdout",
     "output_type": "stream",
     "text": [
      "Car name is bwm1\n",
      "Car age is 5\n",
      "Car model is 123\n"
     ]
    }
   ],
   "source": [
    "BMW1.show_BMW()"
   ]
  },
  {
   "cell_type": "code",
   "execution_count": 141,
   "id": "fae2f2e0",
   "metadata": {},
   "outputs": [],
   "source": [
    "############################"
   ]
  },
  {
   "cell_type": "code",
   "execution_count": 186,
   "id": "99818a5e",
   "metadata": {},
   "outputs": [],
   "source": [
    "class Cars:\n",
    "#     class attribute\n",
    "    count = 0 \n",
    "    def __init__(self , name, age):\n",
    "#         instance attribute\n",
    "        self.name = name\n",
    "        self.age  = age\n",
    "        Cars.count += 1 \n",
    "#         instance method\n",
    "    def show(self):\n",
    "        print(\"Car name is\" , self.name)\n",
    "        print(\"Car age is\", self.age)\n",
    "    #class method\n",
    "    @classmethod\n",
    "    def n_cars(cls):\n",
    "        print(\"Number of cars is:\" , cls.count)\n",
    "    #static method\n",
    "    @staticmethod\n",
    "    def calc_time(distance , speed):\n",
    "        print(\"Time =\", round(distance/speed  , 2),\"h\")"
   ]
  },
  {
   "cell_type": "code",
   "execution_count": 187,
   "id": "3f62c76f",
   "metadata": {},
   "outputs": [],
   "source": [
    "c1 = Cars(\"BMW\" , 5)\n",
    "c2 = Cars(\"FIAT\" , 10)\n",
    "c3 = Cars(\"BMW1\" , 15)\n",
    "c4 = Cars(\"FIAT1\" , 20)"
   ]
  },
  {
   "cell_type": "code",
   "execution_count": 188,
   "id": "231ad2bd",
   "metadata": {},
   "outputs": [
    {
     "data": {
      "text/plain": [
       "'BMW'"
      ]
     },
     "execution_count": 188,
     "metadata": {},
     "output_type": "execute_result"
    }
   ],
   "source": [
    "c1.name"
   ]
  },
  {
   "cell_type": "code",
   "execution_count": 189,
   "id": "d3e5e306",
   "metadata": {},
   "outputs": [
    {
     "data": {
      "text/plain": [
       "'FIAT'"
      ]
     },
     "execution_count": 189,
     "metadata": {},
     "output_type": "execute_result"
    }
   ],
   "source": [
    "c2.name"
   ]
  },
  {
   "cell_type": "code",
   "execution_count": 190,
   "id": "c76f0419",
   "metadata": {},
   "outputs": [
    {
     "name": "stdout",
     "output_type": "stream",
     "text": [
      "Number of cars is: 4\n"
     ]
    }
   ],
   "source": [
    "Cars.n_cars()"
   ]
  },
  {
   "cell_type": "code",
   "execution_count": 192,
   "id": "d77e74d7",
   "metadata": {},
   "outputs": [
    {
     "name": "stdout",
     "output_type": "stream",
     "text": [
      "Time = 10.0 h\n"
     ]
    }
   ],
   "source": [
    "c1.calc_time(1000 , 100)"
   ]
  },
  {
   "cell_type": "code",
   "execution_count": 193,
   "id": "53f5b7af",
   "metadata": {},
   "outputs": [],
   "source": [
    "# class ShoppingCart:\n",
    "# # instance attribute\n",
    "# self.items = []\n",
    "# # instance method\n",
    "# p1.add_item(\"item\" , price) Done! # after adding items =[ (\"item\" , value) , (\"item2\" , value2)]\n",
    "# p1.remove_item(\"item\") Done!  # items =[(\"item2\" , value2)]\n",
    "# p1.total_price() return sum of prices\n",
    "# p1.show() return items , values\n",
    "# #class method\n",
    "# p1.n_visitor()\n",
    "# # static method\n",
    "# p1.calc_price(20 , 40 , 50 )"
   ]
  },
  {
   "cell_type": "code",
   "execution_count": 309,
   "id": "e99bce3c",
   "metadata": {},
   "outputs": [],
   "source": [
    "class ShoppingCart:\n",
    "    #class attribute\n",
    "    n_visitors = 0\n",
    "    def __init__(self):\n",
    "        #instance attribute\n",
    "        self.items = [ ]\n",
    "        ShoppingCart.n_visitors += 1\n",
    "    #instance method\n",
    "    def add_items(self , item , price):\n",
    "        self.items.append((item , price))\n",
    "        print(self.items)\n",
    "        print(\"Done!\")\n",
    "    #instance method\n",
    "    def remove_item(self, item):\n",
    "        for i in self.items:\n",
    "            if i[0] == item:\n",
    "                self.items.remove(i)\n",
    "                print(\"Done!\")\n",
    "                break\n",
    "    #instance method\n",
    "    def total_price(self):\n",
    "        s = 0 \n",
    "        for i in self.items:\n",
    "            s = s + i[1] \n",
    "        return f\"total price = {s}\"\n",
    "    #instance method\n",
    "    def show(self):\n",
    "        for i in self.items:\n",
    "            print(\"Item name:\",i[0] , \", price:\" , i[1])\n",
    "    #class method\n",
    "    @classmethod\n",
    "    def n_visitor(cls):\n",
    "        print(\"Number of visitors is:\" , cls.n_visitors)\n",
    "    #static method\n",
    "    @staticmethod\n",
    "    def calc_price(*n):\n",
    "        return f\"Total price is = {sum(n)}\""
   ]
  },
  {
   "cell_type": "code",
   "execution_count": 310,
   "id": "c86ecbae",
   "metadata": {},
   "outputs": [],
   "source": [
    "p1 = ShoppingCart()\n",
    "p2 = ShoppingCart()\n",
    "p3 = ShoppingCart()\n",
    "p4 = ShoppingCart()"
   ]
  },
  {
   "cell_type": "code",
   "execution_count": 301,
   "id": "3c7be4b2",
   "metadata": {},
   "outputs": [
    {
     "data": {
      "text/plain": [
       "[]"
      ]
     },
     "execution_count": 301,
     "metadata": {},
     "output_type": "execute_result"
    }
   ],
   "source": [
    "p1.items"
   ]
  },
  {
   "cell_type": "code",
   "execution_count": 302,
   "id": "e3b7bd4a",
   "metadata": {},
   "outputs": [
    {
     "name": "stdout",
     "output_type": "stream",
     "text": [
      "[('orange', 50)]\n",
      "Done!\n",
      "[('orange', 50), ('apple', 70)]\n",
      "Done!\n",
      "[('orange', 50), ('apple', 70), ('k', 70)]\n",
      "Done!\n"
     ]
    }
   ],
   "source": [
    "p1.add_items(\"orange\" , 50)\n",
    "p1.add_items(\"apple\" , 70)\n",
    "p1.add_items(\"k\" , 70)"
   ]
  },
  {
   "cell_type": "code",
   "execution_count": 303,
   "id": "a6e49ce2",
   "metadata": {},
   "outputs": [
    {
     "name": "stdout",
     "output_type": "stream",
     "text": [
      "Done!\n"
     ]
    }
   ],
   "source": [
    "p1.remove_item(\"k\")"
   ]
  },
  {
   "cell_type": "code",
   "execution_count": 304,
   "id": "56e9e17b",
   "metadata": {},
   "outputs": [
    {
     "data": {
      "text/plain": [
       "[('orange', 50), ('apple', 70)]"
      ]
     },
     "execution_count": 304,
     "metadata": {},
     "output_type": "execute_result"
    }
   ],
   "source": [
    "p1.items"
   ]
  },
  {
   "cell_type": "code",
   "execution_count": 305,
   "id": "a0f73805",
   "metadata": {},
   "outputs": [
    {
     "data": {
      "text/plain": [
       "'total price = 120'"
      ]
     },
     "execution_count": 305,
     "metadata": {},
     "output_type": "execute_result"
    }
   ],
   "source": [
    "p1.total_price()"
   ]
  },
  {
   "cell_type": "code",
   "execution_count": 306,
   "id": "ef189c41",
   "metadata": {},
   "outputs": [
    {
     "name": "stdout",
     "output_type": "stream",
     "text": [
      "Item name: orange , price: 50\n",
      "Item name: apple , price: 70\n"
     ]
    }
   ],
   "source": [
    "p1.show()"
   ]
  },
  {
   "cell_type": "code",
   "execution_count": 307,
   "id": "dae7ab92",
   "metadata": {},
   "outputs": [
    {
     "name": "stdout",
     "output_type": "stream",
     "text": [
      "Number of visitors is: 4\n"
     ]
    }
   ],
   "source": [
    "p1.n_visitor()"
   ]
  },
  {
   "cell_type": "code",
   "execution_count": 314,
   "id": "d3725557",
   "metadata": {},
   "outputs": [
    {
     "data": {
      "text/plain": [
       "'Total price is = 24'"
      ]
     },
     "execution_count": 314,
     "metadata": {},
     "output_type": "execute_result"
    }
   ],
   "source": [
    "p1.calc_price(12,12)"
   ]
  },
  {
   "cell_type": "code",
   "execution_count": 315,
   "id": "45dcb743",
   "metadata": {},
   "outputs": [],
   "source": [
    "# class BankSystem:\n",
    "# CIB = BankSystem(\"CIB\")\n",
    "users = [{\"username\" : \"ahmed\" , \"password\" : 123 , \"balance\" : 0  } ,... ]\n",
    "# 1 >> Create_New_Acc\n",
    "            username = input(\"username\")\n",
    "            password = input(\"password\")\n",
    "    \n",
    "#         CIB.create_account(\"username\" , \"password\")\n",
    "# 2 >> Login\n",
    "            username = input(\"username\")\n",
    "            password = input(\"password\")\n",
    "\n",
    "#         CIB.login(\"username\" , \"password\")\n",
    "#                 options 1 >> check your balance\n",
    "#                         2 >> deb...\n",
    "#                         3 >> withd...\n",
    "#                         4 >> Cancel\n",
    "                    \n",
    "# 3 >> Cancel  "
   ]
  },
  {
   "cell_type": "code",
   "execution_count": null,
   "id": "17f7bae8",
   "metadata": {},
   "outputs": [],
   "source": [
    "while True:\n",
    "    "
   ]
  }
 ],
 "metadata": {
  "kernelspec": {
   "display_name": "Python 3 (ipykernel)",
   "language": "python",
   "name": "python3"
  },
  "language_info": {
   "codemirror_mode": {
    "name": "ipython",
    "version": 3
   },
   "file_extension": ".py",
   "mimetype": "text/x-python",
   "name": "python",
   "nbconvert_exporter": "python",
   "pygments_lexer": "ipython3",
   "version": "3.10.9"
  }
 },
 "nbformat": 4,
 "nbformat_minor": 5
}
