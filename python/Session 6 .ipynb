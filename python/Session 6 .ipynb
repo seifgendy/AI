{
 "cells": [
  {
   "cell_type": "code",
   "execution_count": 1,
   "id": "7ad8f3ca",
   "metadata": {},
   "outputs": [],
   "source": [
    "# Session 1 \n",
    "#     variables\n",
    "# Session 2 \n",
    "#     python operators \n",
    "#     if statements\n",
    "#     list\n",
    "#     tuple\n",
    "#     set \n",
    "#     dict\n",
    "#     for \\ while loop\n",
    "# Session 3 \n",
    "#     functions\n",
    "#     filter\n",
    "#     map \n",
    "#     scopes\n",
    "#     file handling\n",
    "#     module\n",
    "# Session 4 \n",
    "#     oop"
   ]
  },
  {
   "cell_type": "code",
   "execution_count": 4,
   "id": "90457b54",
   "metadata": {},
   "outputs": [],
   "source": [
    "# DS\n",
    "# numpy\n",
    "# pandas \n",
    "# matplotlib\n",
    "# seaborn \n",
    "# plotly"
   ]
  },
  {
   "cell_type": "code",
   "execution_count": 3,
   "id": "96071a4f",
   "metadata": {},
   "outputs": [],
   "source": [
    "# Session 1 \n",
    "#     variables"
   ]
  },
  {
   "cell_type": "code",
   "execution_count": 5,
   "id": "4b0aef16",
   "metadata": {},
   "outputs": [
    {
     "data": {
      "text/plain": [
       "int"
      ]
     },
     "execution_count": 5,
     "metadata": {},
     "output_type": "execute_result"
    }
   ],
   "source": [
    "x = 10 # int\n",
    "type(x)"
   ]
  },
  {
   "cell_type": "code",
   "execution_count": 8,
   "id": "4e9a26c3",
   "metadata": {},
   "outputs": [
    {
     "data": {
      "text/plain": [
       "10.0"
      ]
     },
     "execution_count": 8,
     "metadata": {},
     "output_type": "execute_result"
    }
   ],
   "source": [
    "x = float(x)\n",
    "x"
   ]
  },
  {
   "cell_type": "code",
   "execution_count": 11,
   "id": "292a0d95",
   "metadata": {},
   "outputs": [],
   "source": [
    "x = int(x)"
   ]
  },
  {
   "cell_type": "code",
   "execution_count": 12,
   "id": "e3710733",
   "metadata": {},
   "outputs": [
    {
     "data": {
      "text/plain": [
       "10"
      ]
     },
     "execution_count": 12,
     "metadata": {},
     "output_type": "execute_result"
    }
   ],
   "source": [
    "x"
   ]
  },
  {
   "cell_type": "code",
   "execution_count": 13,
   "id": "4b8d96b5",
   "metadata": {},
   "outputs": [
    {
     "data": {
      "text/plain": [
       "'10'"
      ]
     },
     "execution_count": 13,
     "metadata": {},
     "output_type": "execute_result"
    }
   ],
   "source": [
    "str(x)"
   ]
  },
  {
   "cell_type": "code",
   "execution_count": 14,
   "id": "78f936ff",
   "metadata": {},
   "outputs": [
    {
     "data": {
      "text/plain": [
       "True"
      ]
     },
     "execution_count": 14,
     "metadata": {},
     "output_type": "execute_result"
    }
   ],
   "source": [
    "bool(x)"
   ]
  },
  {
   "cell_type": "code",
   "execution_count": 15,
   "id": "3bbbc980",
   "metadata": {},
   "outputs": [
    {
     "data": {
      "text/plain": [
       "False"
      ]
     },
     "execution_count": 15,
     "metadata": {},
     "output_type": "execute_result"
    }
   ],
   "source": [
    "bool(0)"
   ]
  },
  {
   "cell_type": "code",
   "execution_count": 16,
   "id": "d23733fd",
   "metadata": {},
   "outputs": [
    {
     "data": {
      "text/plain": [
       "True"
      ]
     },
     "execution_count": 16,
     "metadata": {},
     "output_type": "execute_result"
    }
   ],
   "source": [
    "bool(1)"
   ]
  },
  {
   "cell_type": "code",
   "execution_count": 17,
   "id": "e28795bc",
   "metadata": {},
   "outputs": [
    {
     "data": {
      "text/plain": [
       "False"
      ]
     },
     "execution_count": 17,
     "metadata": {},
     "output_type": "execute_result"
    }
   ],
   "source": [
    "bool(\"\")"
   ]
  },
  {
   "cell_type": "code",
   "execution_count": 18,
   "id": "59ba5a1b",
   "metadata": {},
   "outputs": [
    {
     "data": {
      "text/plain": [
       "True"
      ]
     },
     "execution_count": 18,
     "metadata": {},
     "output_type": "execute_result"
    }
   ],
   "source": [
    "bool(\"0\")"
   ]
  },
  {
   "cell_type": "code",
   "execution_count": 20,
   "id": "01b60938",
   "metadata": {},
   "outputs": [
    {
     "data": {
      "text/plain": [
       "float"
      ]
     },
     "execution_count": 20,
     "metadata": {},
     "output_type": "execute_result"
    }
   ],
   "source": [
    "y = 10.5 #float\n",
    "type(y)"
   ]
  },
  {
   "cell_type": "code",
   "execution_count": 32,
   "id": "0de6072f",
   "metadata": {},
   "outputs": [
    {
     "data": {
      "text/plain": [
       "str"
      ]
     },
     "execution_count": 32,
     "metadata": {},
     "output_type": "execute_result"
    }
   ],
   "source": [
    "x = \"amit  \"\n",
    "type(x)"
   ]
  },
  {
   "cell_type": "code",
   "execution_count": 33,
   "id": "2792925d",
   "metadata": {},
   "outputs": [
    {
     "data": {
      "text/plain": [
       "6"
      ]
     },
     "execution_count": 33,
     "metadata": {},
     "output_type": "execute_result"
    }
   ],
   "source": [
    "len(x)"
   ]
  },
  {
   "cell_type": "code",
   "execution_count": 34,
   "id": "b961602f",
   "metadata": {},
   "outputs": [
    {
     "name": "stdout",
     "output_type": "stream",
     "text": [
      "Error: object of type 'int' has no len()\n"
     ]
    }
   ],
   "source": [
    "try:\n",
    "    len(10)\n",
    "except Exception as e :\n",
    "    print(\"Error:\", e)"
   ]
  },
  {
   "cell_type": "code",
   "execution_count": 35,
   "id": "40690621",
   "metadata": {},
   "outputs": [
    {
     "data": {
      "text/plain": [
       "True"
      ]
     },
     "execution_count": 35,
     "metadata": {},
     "output_type": "execute_result"
    }
   ],
   "source": [
    "isinstance(10 , int)"
   ]
  },
  {
   "cell_type": "code",
   "execution_count": 36,
   "id": "d4e87935",
   "metadata": {},
   "outputs": [
    {
     "data": {
      "text/plain": [
       "True"
      ]
     },
     "execution_count": 36,
     "metadata": {},
     "output_type": "execute_result"
    }
   ],
   "source": [
    "isinstance(10.5 , float)"
   ]
  },
  {
   "cell_type": "code",
   "execution_count": 37,
   "id": "b01246dc",
   "metadata": {},
   "outputs": [
    {
     "data": {
      "text/plain": [
       "'amit  '"
      ]
     },
     "execution_count": 37,
     "metadata": {},
     "output_type": "execute_result"
    }
   ],
   "source": [
    "x"
   ]
  },
  {
   "cell_type": "code",
   "execution_count": 38,
   "id": "baf26db4",
   "metadata": {},
   "outputs": [
    {
     "data": {
      "text/plain": [
       "'a'"
      ]
     },
     "execution_count": 38,
     "metadata": {},
     "output_type": "execute_result"
    }
   ],
   "source": [
    "x[0]"
   ]
  },
  {
   "cell_type": "code",
   "execution_count": 39,
   "id": "3d84d7b7",
   "metadata": {},
   "outputs": [
    {
     "data": {
      "text/plain": [
       "' '"
      ]
     },
     "execution_count": 39,
     "metadata": {},
     "output_type": "execute_result"
    }
   ],
   "source": [
    "x[-1]"
   ]
  },
  {
   "cell_type": "code",
   "execution_count": 40,
   "id": "cbc03bc1",
   "metadata": {},
   "outputs": [
    {
     "data": {
      "text/plain": [
       "'ai '"
      ]
     },
     "execution_count": 40,
     "metadata": {},
     "output_type": "execute_result"
    }
   ],
   "source": [
    "# x[start : stop : step]\n",
    "x[0 : : 2]"
   ]
  },
  {
   "cell_type": "code",
   "execution_count": 43,
   "id": "46bcb8b6",
   "metadata": {},
   "outputs": [
    {
     "data": {
      "text/plain": [
       "'amit'"
      ]
     },
     "execution_count": 43,
     "metadata": {},
     "output_type": "execute_result"
    }
   ],
   "source": [
    "x = x.strip()\n",
    "x"
   ]
  },
  {
   "cell_type": "code",
   "execution_count": 45,
   "id": "9ad5919c",
   "metadata": {},
   "outputs": [],
   "source": [
    "x = x.upper()"
   ]
  },
  {
   "cell_type": "code",
   "execution_count": 46,
   "id": "0d7ff8cb",
   "metadata": {},
   "outputs": [
    {
     "data": {
      "text/plain": [
       "'AMIT'"
      ]
     },
     "execution_count": 46,
     "metadata": {},
     "output_type": "execute_result"
    }
   ],
   "source": [
    "x"
   ]
  },
  {
   "cell_type": "code",
   "execution_count": 49,
   "id": "7da18239",
   "metadata": {},
   "outputs": [],
   "source": [
    "x = x.lower()"
   ]
  },
  {
   "cell_type": "code",
   "execution_count": 50,
   "id": "5b99f81e",
   "metadata": {},
   "outputs": [
    {
     "data": {
      "text/plain": [
       "'amit'"
      ]
     },
     "execution_count": 50,
     "metadata": {},
     "output_type": "execute_result"
    }
   ],
   "source": [
    "x"
   ]
  },
  {
   "cell_type": "code",
   "execution_count": 51,
   "id": "57d41d59",
   "metadata": {},
   "outputs": [
    {
     "data": {
      "text/plain": [
       "'Amit'"
      ]
     },
     "execution_count": 51,
     "metadata": {},
     "output_type": "execute_result"
    }
   ],
   "source": [
    "x.title()"
   ]
  },
  {
   "cell_type": "code",
   "execution_count": 52,
   "id": "ddc262b7",
   "metadata": {},
   "outputs": [
    {
     "data": {
      "text/plain": [
       "'Amit'"
      ]
     },
     "execution_count": 52,
     "metadata": {},
     "output_type": "execute_result"
    }
   ],
   "source": [
    "x.capitalize()"
   ]
  },
  {
   "cell_type": "code",
   "execution_count": 54,
   "id": "dce211e8",
   "metadata": {},
   "outputs": [
    {
     "data": {
      "text/plain": [
       "True"
      ]
     },
     "execution_count": 54,
     "metadata": {},
     "output_type": "execute_result"
    }
   ],
   "source": [
    "url = \"www.google.com\"\n",
    "url.startswith(\"www.\")"
   ]
  },
  {
   "cell_type": "code",
   "execution_count": 55,
   "id": "638ac789",
   "metadata": {},
   "outputs": [
    {
     "data": {
      "text/plain": [
       "False"
      ]
     },
     "execution_count": 55,
     "metadata": {},
     "output_type": "execute_result"
    }
   ],
   "source": [
    "url.endswith(\".org\")"
   ]
  },
  {
   "cell_type": "code",
   "execution_count": 57,
   "id": "76d19ec6",
   "metadata": {},
   "outputs": [
    {
     "data": {
      "text/plain": [
       "True"
      ]
     },
     "execution_count": 57,
     "metadata": {},
     "output_type": "execute_result"
    }
   ],
   "source": [
    "\"g\" in url"
   ]
  },
  {
   "cell_type": "code",
   "execution_count": 59,
   "id": "eacb44c5",
   "metadata": {},
   "outputs": [
    {
     "name": "stdout",
     "output_type": "stream",
     "text": [
      "Enter your name: ahmed\n"
     ]
    }
   ],
   "source": [
    "name = input(\"Enter your name: \")"
   ]
  },
  {
   "cell_type": "code",
   "execution_count": 60,
   "id": "f11ad475",
   "metadata": {},
   "outputs": [
    {
     "name": "stdout",
     "output_type": "stream",
     "text": [
      "Enter your age: 30\n"
     ]
    }
   ],
   "source": [
    "age = int(input(\"Enter your age: \"))"
   ]
  },
  {
   "cell_type": "code",
   "execution_count": 64,
   "id": "8bbf8949",
   "metadata": {},
   "outputs": [
    {
     "name": "stdout",
     "output_type": "stream",
     "text": [
      "My name is ahmed and my age is 30\n"
     ]
    }
   ],
   "source": [
    "print(\"My name is \" + name + \" and my age is \" + str(age))"
   ]
  },
  {
   "cell_type": "code",
   "execution_count": 65,
   "id": "1ccfc52f",
   "metadata": {},
   "outputs": [
    {
     "name": "stdout",
     "output_type": "stream",
     "text": [
      "My name is ahmed and my age is 30\n"
     ]
    }
   ],
   "source": [
    "print(\"My name is\", name , \"and my age is\",       age)"
   ]
  },
  {
   "cell_type": "code",
   "execution_count": 68,
   "id": "7f49b370",
   "metadata": {},
   "outputs": [
    {
     "name": "stdout",
     "output_type": "stream",
     "text": [
      "My name is ahmed and my age is 30\n",
      "My name is ahmed and my age is 30\n",
      "My name is 30 and my age is ahmed\n"
     ]
    }
   ],
   "source": [
    "print(\"My name is {} and my age is {}\".format(name , age))\n",
    "print(\"My name is {0} and my age is {1}\".format(name , age))\n",
    "print(\"My name is {1} and my age is {0}\".format(name , age))"
   ]
  },
  {
   "cell_type": "code",
   "execution_count": 87,
   "id": "8dac2abc",
   "metadata": {},
   "outputs": [
    {
     "name": "stdout",
     "output_type": "stream",
     "text": [
      "My name is ahmed and my age is 30.17\n"
     ]
    }
   ],
   "source": [
    "print(f\"My name is {name} and my age is {round(30.16532465432345654321234567 , 2)}\")"
   ]
  },
  {
   "cell_type": "code",
   "execution_count": 73,
   "id": "82afa1cf",
   "metadata": {},
   "outputs": [],
   "source": [
    "import math"
   ]
  },
  {
   "cell_type": "code",
   "execution_count": 75,
   "id": "1b7acc3e",
   "metadata": {},
   "outputs": [
    {
     "data": {
      "text/plain": [
       "10"
      ]
     },
     "execution_count": 75,
     "metadata": {},
     "output_type": "execute_result"
    }
   ],
   "source": [
    "math.floor(10.99)"
   ]
  },
  {
   "cell_type": "code",
   "execution_count": 80,
   "id": "6a834b34",
   "metadata": {},
   "outputs": [
    {
     "data": {
      "text/plain": [
       "11"
      ]
     },
     "execution_count": 80,
     "metadata": {},
     "output_type": "execute_result"
    }
   ],
   "source": [
    "math.ceil(10.6)"
   ]
  },
  {
   "cell_type": "code",
   "execution_count": 88,
   "id": "956424f1",
   "metadata": {},
   "outputs": [
    {
     "data": {
      "text/plain": [
       "'amit'"
      ]
     },
     "execution_count": 88,
     "metadata": {},
     "output_type": "execute_result"
    }
   ],
   "source": [
    "x"
   ]
  },
  {
   "cell_type": "code",
   "execution_count": 90,
   "id": "1d4b1232",
   "metadata": {},
   "outputs": [
    {
     "name": "stdout",
     "output_type": "stream",
     "text": [
      "Error: 'str' object does not support item assignment\n"
     ]
    }
   ],
   "source": [
    "try:\n",
    "    x[0] = \"A\"\n",
    "except Exception as e :\n",
    "    print(\"Error:\",e)"
   ]
  },
  {
   "cell_type": "code",
   "execution_count": 91,
   "id": "eac353bc",
   "metadata": {},
   "outputs": [
    {
     "data": {
      "text/plain": [
       "'Amit'"
      ]
     },
     "execution_count": 91,
     "metadata": {},
     "output_type": "execute_result"
    }
   ],
   "source": [
    "x.replace(\"a\" , \"A\")"
   ]
  },
  {
   "cell_type": "code",
   "execution_count": 92,
   "id": "edbecfd3",
   "metadata": {},
   "outputs": [],
   "source": [
    "###############################################"
   ]
  },
  {
   "cell_type": "code",
   "execution_count": 93,
   "id": "db6e6b63",
   "metadata": {},
   "outputs": [],
   "source": [
    "# Session 2 \n",
    "#     python operators \n",
    "#     if statements\n",
    "#     list\n",
    "#     tuple\n",
    "#     set \n",
    "#     dict\n",
    "#     for \\ while loop"
   ]
  },
  {
   "cell_type": "code",
   "execution_count": 94,
   "id": "cf9aec2f",
   "metadata": {},
   "outputs": [
    {
     "data": {
      "text/plain": [
       "20"
      ]
     },
     "execution_count": 94,
     "metadata": {},
     "output_type": "execute_result"
    }
   ],
   "source": [
    "10 + 10"
   ]
  },
  {
   "cell_type": "code",
   "execution_count": 95,
   "id": "f92dcb34",
   "metadata": {},
   "outputs": [
    {
     "data": {
      "text/plain": [
       "0"
      ]
     },
     "execution_count": 95,
     "metadata": {},
     "output_type": "execute_result"
    }
   ],
   "source": [
    "10 - 10 "
   ]
  },
  {
   "cell_type": "code",
   "execution_count": 96,
   "id": "341d7eed",
   "metadata": {},
   "outputs": [
    {
     "data": {
      "text/plain": [
       "100"
      ]
     },
     "execution_count": 96,
     "metadata": {},
     "output_type": "execute_result"
    }
   ],
   "source": [
    "10 * 10"
   ]
  },
  {
   "cell_type": "code",
   "execution_count": 97,
   "id": "3430a82c",
   "metadata": {},
   "outputs": [
    {
     "data": {
      "text/plain": [
       "1.0"
      ]
     },
     "execution_count": 97,
     "metadata": {},
     "output_type": "execute_result"
    }
   ],
   "source": [
    "10 / 10   # float"
   ]
  },
  {
   "cell_type": "code",
   "execution_count": 99,
   "id": "9bdd0f0d",
   "metadata": {},
   "outputs": [
    {
     "data": {
      "text/plain": [
       "1"
      ]
     },
     "execution_count": 99,
     "metadata": {},
     "output_type": "execute_result"
    }
   ],
   "source": [
    "10 // 10  # int"
   ]
  },
  {
   "cell_type": "code",
   "execution_count": 100,
   "id": "71745c59",
   "metadata": {},
   "outputs": [
    {
     "data": {
      "text/plain": [
       "9"
      ]
     },
     "execution_count": 100,
     "metadata": {},
     "output_type": "execute_result"
    }
   ],
   "source": [
    "3 ** 2 "
   ]
  },
  {
   "cell_type": "code",
   "execution_count": 101,
   "id": "6c9d5070",
   "metadata": {},
   "outputs": [
    {
     "data": {
      "text/plain": [
       "9"
      ]
     },
     "execution_count": 101,
     "metadata": {},
     "output_type": "execute_result"
    }
   ],
   "source": [
    "pow(3,2)"
   ]
  },
  {
   "cell_type": "code",
   "execution_count": 102,
   "id": "6190b4e4",
   "metadata": {},
   "outputs": [
    {
     "data": {
      "text/plain": [
       "9"
      ]
     },
     "execution_count": 102,
     "metadata": {},
     "output_type": "execute_result"
    }
   ],
   "source": [
    "3 * 3 "
   ]
  },
  {
   "cell_type": "code",
   "execution_count": 103,
   "id": "c311b43c",
   "metadata": {},
   "outputs": [
    {
     "data": {
      "text/plain": [
       "0"
      ]
     },
     "execution_count": 103,
     "metadata": {},
     "output_type": "execute_result"
    }
   ],
   "source": [
    "10 % 2 "
   ]
  },
  {
   "cell_type": "code",
   "execution_count": 104,
   "id": "1c38f436",
   "metadata": {},
   "outputs": [
    {
     "data": {
      "text/plain": [
       "1"
      ]
     },
     "execution_count": 104,
     "metadata": {},
     "output_type": "execute_result"
    }
   ],
   "source": [
    "10 % 3 "
   ]
  },
  {
   "cell_type": "code",
   "execution_count": 105,
   "id": "d7064523",
   "metadata": {},
   "outputs": [
    {
     "data": {
      "text/plain": [
       "2"
      ]
     },
     "execution_count": 105,
     "metadata": {},
     "output_type": "execute_result"
    }
   ],
   "source": [
    "11 % 3 "
   ]
  },
  {
   "cell_type": "code",
   "execution_count": 106,
   "id": "b96ea0b3",
   "metadata": {},
   "outputs": [
    {
     "data": {
      "text/plain": [
       "False"
      ]
     },
     "execution_count": 106,
     "metadata": {},
     "output_type": "execute_result"
    }
   ],
   "source": [
    "10 > 10 "
   ]
  },
  {
   "cell_type": "code",
   "execution_count": 107,
   "id": "35952e2b",
   "metadata": {},
   "outputs": [
    {
     "data": {
      "text/plain": [
       "True"
      ]
     },
     "execution_count": 107,
     "metadata": {},
     "output_type": "execute_result"
    }
   ],
   "source": [
    "10 < 20"
   ]
  },
  {
   "cell_type": "code",
   "execution_count": 108,
   "id": "315ad626",
   "metadata": {},
   "outputs": [
    {
     "data": {
      "text/plain": [
       "True"
      ]
     },
     "execution_count": 108,
     "metadata": {},
     "output_type": "execute_result"
    }
   ],
   "source": [
    "10 == 10 "
   ]
  },
  {
   "cell_type": "code",
   "execution_count": 109,
   "id": "959ac22b",
   "metadata": {},
   "outputs": [
    {
     "data": {
      "text/plain": [
       "True"
      ]
     },
     "execution_count": 109,
     "metadata": {},
     "output_type": "execute_result"
    }
   ],
   "source": [
    "10 != 20"
   ]
  },
  {
   "cell_type": "code",
   "execution_count": 110,
   "id": "b88b946f",
   "metadata": {},
   "outputs": [
    {
     "data": {
      "text/plain": [
       "True"
      ]
     },
     "execution_count": 110,
     "metadata": {},
     "output_type": "execute_result"
    }
   ],
   "source": [
    "10 >= 10 "
   ]
  },
  {
   "cell_type": "code",
   "execution_count": 112,
   "id": "336da387",
   "metadata": {},
   "outputs": [
    {
     "data": {
      "text/plain": [
       "True"
      ]
     },
     "execution_count": 112,
     "metadata": {},
     "output_type": "execute_result"
    }
   ],
   "source": [
    "10 <= 11      #10 < 11 or 10 == 11"
   ]
  },
  {
   "cell_type": "code",
   "execution_count": 113,
   "id": "9887c8b9",
   "metadata": {},
   "outputs": [
    {
     "data": {
      "text/plain": [
       "True"
      ]
     },
     "execution_count": 113,
     "metadata": {},
     "output_type": "execute_result"
    }
   ],
   "source": [
    "True and True "
   ]
  },
  {
   "cell_type": "code",
   "execution_count": 114,
   "id": "6f09c74b",
   "metadata": {},
   "outputs": [
    {
     "data": {
      "text/plain": [
       "False"
      ]
     },
     "execution_count": 114,
     "metadata": {},
     "output_type": "execute_result"
    }
   ],
   "source": [
    "True and False "
   ]
  },
  {
   "cell_type": "code",
   "execution_count": 115,
   "id": "04a5afdc",
   "metadata": {},
   "outputs": [
    {
     "data": {
      "text/plain": [
       "False"
      ]
     },
     "execution_count": 115,
     "metadata": {},
     "output_type": "execute_result"
    }
   ],
   "source": [
    "False and True "
   ]
  },
  {
   "cell_type": "code",
   "execution_count": 116,
   "id": "0ce0bab7",
   "metadata": {},
   "outputs": [
    {
     "data": {
      "text/plain": [
       "False"
      ]
     },
     "execution_count": 116,
     "metadata": {},
     "output_type": "execute_result"
    }
   ],
   "source": [
    "False and False "
   ]
  },
  {
   "cell_type": "code",
   "execution_count": 117,
   "id": "c74d809c",
   "metadata": {},
   "outputs": [
    {
     "data": {
      "text/plain": [
       "True"
      ]
     },
     "execution_count": 117,
     "metadata": {},
     "output_type": "execute_result"
    }
   ],
   "source": [
    "True or True "
   ]
  },
  {
   "cell_type": "code",
   "execution_count": 118,
   "id": "b111de6a",
   "metadata": {},
   "outputs": [
    {
     "data": {
      "text/plain": [
       "True"
      ]
     },
     "execution_count": 118,
     "metadata": {},
     "output_type": "execute_result"
    }
   ],
   "source": [
    "True or False "
   ]
  },
  {
   "cell_type": "code",
   "execution_count": 119,
   "id": "b2b0f350",
   "metadata": {},
   "outputs": [
    {
     "data": {
      "text/plain": [
       "True"
      ]
     },
     "execution_count": 119,
     "metadata": {},
     "output_type": "execute_result"
    }
   ],
   "source": [
    "False or True "
   ]
  },
  {
   "cell_type": "code",
   "execution_count": 120,
   "id": "d4bd2961",
   "metadata": {},
   "outputs": [
    {
     "data": {
      "text/plain": [
       "False"
      ]
     },
     "execution_count": 120,
     "metadata": {},
     "output_type": "execute_result"
    }
   ],
   "source": [
    "False or False "
   ]
  },
  {
   "cell_type": "code",
   "execution_count": 121,
   "id": "05abedc5",
   "metadata": {},
   "outputs": [
    {
     "data": {
      "text/plain": [
       "False"
      ]
     },
     "execution_count": 121,
     "metadata": {},
     "output_type": "execute_result"
    }
   ],
   "source": [
    "not True"
   ]
  },
  {
   "cell_type": "code",
   "execution_count": 122,
   "id": "2278e0ab",
   "metadata": {},
   "outputs": [
    {
     "data": {
      "text/plain": [
       "True"
      ]
     },
     "execution_count": 122,
     "metadata": {},
     "output_type": "execute_result"
    }
   ],
   "source": [
    "not False "
   ]
  },
  {
   "cell_type": "code",
   "execution_count": 124,
   "id": "c1dc553a",
   "metadata": {},
   "outputs": [
    {
     "data": {
      "text/plain": [
       "20"
      ]
     },
     "execution_count": 124,
     "metadata": {},
     "output_type": "execute_result"
    }
   ],
   "source": [
    "x  = 10 \n",
    "x = x + 10 \n",
    "x"
   ]
  },
  {
   "cell_type": "code",
   "execution_count": 125,
   "id": "4d347b49",
   "metadata": {},
   "outputs": [
    {
     "data": {
      "text/plain": [
       "20"
      ]
     },
     "execution_count": 125,
     "metadata": {},
     "output_type": "execute_result"
    }
   ],
   "source": [
    "x = 10 \n",
    "x += 10 \n",
    "x"
   ]
  },
  {
   "cell_type": "code",
   "execution_count": 127,
   "id": "a5d1a0c0",
   "metadata": {},
   "outputs": [
    {
     "name": "stdout",
     "output_type": "stream",
     "text": [
      "Enter your num: 12\n",
      "Even\n"
     ]
    }
   ],
   "source": [
    "num = int(input(\"Enter your num: \"))\n",
    "if num % 2 == 0 :\n",
    "    print(\"Even\")\n",
    "else:\n",
    "    print(\"Odd\")"
   ]
  },
  {
   "cell_type": "code",
   "execution_count": 134,
   "id": "db907e34",
   "metadata": {},
   "outputs": [],
   "source": [
    "# comm = \"\"\"comment\n",
    "#         comment\n",
    "#         comment\"\"\"\n",
    "# print(comm)"
   ]
  },
  {
   "cell_type": "code",
   "execution_count": 135,
   "id": "028a8594",
   "metadata": {},
   "outputs": [
    {
     "name": "stdout",
     "output_type": "stream",
     "text": [
      "Enter your num: 13\n"
     ]
    }
   ],
   "source": [
    "num = int(input(\"Enter your num: \"))\n",
    "check = \"Even\" if num % 2 == 0 else \"Odd\""
   ]
  },
  {
   "cell_type": "code",
   "execution_count": 136,
   "id": "4b5b4c49",
   "metadata": {},
   "outputs": [
    {
     "data": {
      "text/plain": [
       "'Odd'"
      ]
     },
     "execution_count": 136,
     "metadata": {},
     "output_type": "execute_result"
    }
   ],
   "source": [
    "check"
   ]
  },
  {
   "cell_type": "code",
   "execution_count": 139,
   "id": "67360c32",
   "metadata": {},
   "outputs": [
    {
     "name": "stdout",
     "output_type": "stream",
     "text": [
      "Enter your num: 12\n"
     ]
    }
   ],
   "source": [
    "num = int(input(\"Enter your num: \"))\n",
    "check = ''\n",
    "if num % 2 == 0 :\n",
    "    check = \"Even\"\n",
    "else:\n",
    "    check = \"Odd\""
   ]
  },
  {
   "cell_type": "code",
   "execution_count": 140,
   "id": "727c7487",
   "metadata": {},
   "outputs": [
    {
     "data": {
      "text/plain": [
       "'Even'"
      ]
     },
     "execution_count": 140,
     "metadata": {},
     "output_type": "execute_result"
    }
   ],
   "source": [
    "check"
   ]
  },
  {
   "cell_type": "code",
   "execution_count": 171,
   "id": "13ecec4b",
   "metadata": {},
   "outputs": [],
   "source": [
    "# # list\n",
    "# lst = [1,2,3,4.....]  or lst = list(seq)\n",
    "# lst[index]\n",
    "# lst[0]\n",
    "# lst[-1]\n",
    "# lst[start : stop : step]\n",
    "# lst[index] = value\n",
    "# lst2 = lst.copy()\n",
    "# lst.sort()\n",
    "# lst.reverse()\n",
    "# type(lst)\n",
    "# len(lst)\n",
    "# max(lst)    or sort and >> lst[-1]\n",
    "# min(lst)    or sort and >> lst[0]\n",
    "# sum(lst)\n",
    "# lst.append(value)\n",
    "# lst.extend(SEQ)\n",
    "# lst.insert(index , value)\n",
    "# lst.remove(value)\n",
    "# lst.pop(index)\n",
    "# del lst[index]\n",
    "# lst.index(value)\n",
    "# lst.count(value)"
   ]
  },
  {
   "cell_type": "code",
   "execution_count": 142,
   "id": "6bdf9f78",
   "metadata": {},
   "outputs": [],
   "source": [
    "lst = [11,1,2,4,3,4,5,6,4,2,10]"
   ]
  },
  {
   "cell_type": "code",
   "execution_count": 143,
   "id": "847dd25f",
   "metadata": {},
   "outputs": [
    {
     "data": {
      "text/plain": [
       "list"
      ]
     },
     "execution_count": 143,
     "metadata": {},
     "output_type": "execute_result"
    }
   ],
   "source": [
    "type(lst)"
   ]
  },
  {
   "cell_type": "code",
   "execution_count": 144,
   "id": "b7a99e9f",
   "metadata": {},
   "outputs": [
    {
     "data": {
      "text/plain": [
       "11"
      ]
     },
     "execution_count": 144,
     "metadata": {},
     "output_type": "execute_result"
    }
   ],
   "source": [
    "len(lst)"
   ]
  },
  {
   "cell_type": "code",
   "execution_count": 145,
   "id": "0818c77c",
   "metadata": {},
   "outputs": [
    {
     "data": {
      "text/plain": [
       "11"
      ]
     },
     "execution_count": 145,
     "metadata": {},
     "output_type": "execute_result"
    }
   ],
   "source": [
    "max(lst)"
   ]
  },
  {
   "cell_type": "code",
   "execution_count": 146,
   "id": "d4e62f3a",
   "metadata": {},
   "outputs": [
    {
     "data": {
      "text/plain": [
       "1"
      ]
     },
     "execution_count": 146,
     "metadata": {},
     "output_type": "execute_result"
    }
   ],
   "source": [
    "min(lst)"
   ]
  },
  {
   "cell_type": "code",
   "execution_count": 147,
   "id": "3e121097",
   "metadata": {},
   "outputs": [
    {
     "data": {
      "text/plain": [
       "1"
      ]
     },
     "execution_count": 147,
     "metadata": {},
     "output_type": "execute_result"
    }
   ],
   "source": [
    "lst.sort()\n",
    "lst[0]"
   ]
  },
  {
   "cell_type": "code",
   "execution_count": 148,
   "id": "823ef45e",
   "metadata": {},
   "outputs": [
    {
     "data": {
      "text/plain": [
       "11"
      ]
     },
     "execution_count": 148,
     "metadata": {},
     "output_type": "execute_result"
    }
   ],
   "source": [
    "lst[-1]"
   ]
  },
  {
   "cell_type": "code",
   "execution_count": 149,
   "id": "7ec4f695",
   "metadata": {},
   "outputs": [
    {
     "data": {
      "text/plain": [
       "[1, 2, 2, 3, 4, 4, 4, 5, 6, 10, 11]"
      ]
     },
     "execution_count": 149,
     "metadata": {},
     "output_type": "execute_result"
    }
   ],
   "source": [
    "lst"
   ]
  },
  {
   "cell_type": "code",
   "execution_count": 150,
   "id": "6b30716e",
   "metadata": {},
   "outputs": [
    {
     "data": {
      "text/plain": [
       "52"
      ]
     },
     "execution_count": 150,
     "metadata": {},
     "output_type": "execute_result"
    }
   ],
   "source": [
    "sum(lst)"
   ]
  },
  {
   "cell_type": "code",
   "execution_count": 151,
   "id": "ad929b20",
   "metadata": {},
   "outputs": [],
   "source": [
    "lst.append(12)"
   ]
  },
  {
   "cell_type": "code",
   "execution_count": 152,
   "id": "c6999015",
   "metadata": {},
   "outputs": [
    {
     "data": {
      "text/plain": [
       "[1, 2, 2, 3, 4, 4, 4, 5, 6, 10, 11, 12]"
      ]
     },
     "execution_count": 152,
     "metadata": {},
     "output_type": "execute_result"
    }
   ],
   "source": [
    "lst"
   ]
  },
  {
   "cell_type": "code",
   "execution_count": 153,
   "id": "c3444f55",
   "metadata": {},
   "outputs": [],
   "source": [
    "lst.extend((1,2,3))"
   ]
  },
  {
   "cell_type": "code",
   "execution_count": 154,
   "id": "807365dc",
   "metadata": {},
   "outputs": [
    {
     "data": {
      "text/plain": [
       "[1, 2, 2, 3, 4, 4, 4, 5, 6, 10, 11, 12, 1, 2, 3]"
      ]
     },
     "execution_count": 154,
     "metadata": {},
     "output_type": "execute_result"
    }
   ],
   "source": [
    "lst"
   ]
  },
  {
   "cell_type": "code",
   "execution_count": 155,
   "id": "fd397a84",
   "metadata": {},
   "outputs": [],
   "source": [
    "lst.insert(0 , 100)"
   ]
  },
  {
   "cell_type": "code",
   "execution_count": 156,
   "id": "ff2012d3",
   "metadata": {},
   "outputs": [
    {
     "data": {
      "text/plain": [
       "[100, 1, 2, 2, 3, 4, 4, 4, 5, 6, 10, 11, 12, 1, 2, 3]"
      ]
     },
     "execution_count": 156,
     "metadata": {},
     "output_type": "execute_result"
    }
   ],
   "source": [
    "lst"
   ]
  },
  {
   "cell_type": "code",
   "execution_count": 166,
   "id": "6cd11a29",
   "metadata": {},
   "outputs": [],
   "source": [
    "lst.remove(100)"
   ]
  },
  {
   "cell_type": "code",
   "execution_count": 159,
   "id": "c01512a8",
   "metadata": {},
   "outputs": [
    {
     "data": {
      "text/plain": [
       "[1, 2, 2, 3, 4, 4, 4, 5, 6, 10, 11, 12, 1, 2, 3]"
      ]
     },
     "execution_count": 159,
     "metadata": {},
     "output_type": "execute_result"
    }
   ],
   "source": [
    "lst"
   ]
  },
  {
   "cell_type": "code",
   "execution_count": 160,
   "id": "53ad8889",
   "metadata": {},
   "outputs": [
    {
     "data": {
      "text/plain": [
       "3"
      ]
     },
     "execution_count": 160,
     "metadata": {},
     "output_type": "execute_result"
    }
   ],
   "source": [
    "lst.pop()  # -1 "
   ]
  },
  {
   "cell_type": "code",
   "execution_count": 161,
   "id": "deddb808",
   "metadata": {},
   "outputs": [
    {
     "data": {
      "text/plain": [
       "[1, 2, 2, 3, 4, 4, 4, 5, 6, 10, 11, 12, 1, 2]"
      ]
     },
     "execution_count": 161,
     "metadata": {},
     "output_type": "execute_result"
    }
   ],
   "source": [
    "lst"
   ]
  },
  {
   "cell_type": "code",
   "execution_count": 162,
   "id": "939231ec",
   "metadata": {},
   "outputs": [],
   "source": [
    "del lst[0]"
   ]
  },
  {
   "cell_type": "code",
   "execution_count": 167,
   "id": "b458aefc",
   "metadata": {},
   "outputs": [
    {
     "data": {
      "text/plain": [
       "[2, 2, 3, 4, 4, 4, 5, 6, 10, 11, 12, 1, 2]"
      ]
     },
     "execution_count": 167,
     "metadata": {},
     "output_type": "execute_result"
    }
   ],
   "source": [
    "lst"
   ]
  },
  {
   "cell_type": "code",
   "execution_count": 169,
   "id": "204231f3",
   "metadata": {},
   "outputs": [
    {
     "data": {
      "text/plain": [
       "2"
      ]
     },
     "execution_count": 169,
     "metadata": {},
     "output_type": "execute_result"
    }
   ],
   "source": [
    "lst.index(3)"
   ]
  },
  {
   "cell_type": "code",
   "execution_count": 170,
   "id": "8a0856f6",
   "metadata": {},
   "outputs": [
    {
     "data": {
      "text/plain": [
       "3"
      ]
     },
     "execution_count": 170,
     "metadata": {},
     "output_type": "execute_result"
    }
   ],
   "source": [
    "lst.count(2)"
   ]
  },
  {
   "cell_type": "code",
   "execution_count": 181,
   "id": "63d5cb77",
   "metadata": {},
   "outputs": [
    {
     "data": {
      "text/plain": [
       "['a', 'm', 'i', 't', ' ', 'l', 'e', 'a', 'r', 'n', 'i', 'n', 'g']"
      ]
     },
     "execution_count": 181,
     "metadata": {},
     "output_type": "execute_result"
    }
   ],
   "source": [
    "x = \"amit learning\"\n",
    "y = list(x)\n",
    "y"
   ]
  },
  {
   "cell_type": "code",
   "execution_count": 182,
   "id": "1bb61feb",
   "metadata": {},
   "outputs": [
    {
     "data": {
      "text/plain": [
       "'a&m&i&t& &l&e&a&r&n&i&n&g'"
      ]
     },
     "execution_count": 182,
     "metadata": {},
     "output_type": "execute_result"
    }
   ],
   "source": [
    "\"&\".join(y)"
   ]
  },
  {
   "cell_type": "code",
   "execution_count": 188,
   "id": "ae82ec85",
   "metadata": {},
   "outputs": [
    {
     "data": {
      "text/plain": [
       "['amit', 'learning']"
      ]
     },
     "execution_count": 188,
     "metadata": {},
     "output_type": "execute_result"
    }
   ],
   "source": [
    "x.split()"
   ]
  },
  {
   "cell_type": "code",
   "execution_count": 189,
   "id": "5a23331b",
   "metadata": {},
   "outputs": [
    {
     "data": {
      "text/plain": [
       "tuple"
      ]
     },
     "execution_count": 189,
     "metadata": {},
     "output_type": "execute_result"
    }
   ],
   "source": [
    "# tuple \n",
    "t = (1,2,23,4,5)   # or t = tuple()\n",
    "type(t)"
   ]
  },
  {
   "cell_type": "code",
   "execution_count": 190,
   "id": "481d871c",
   "metadata": {},
   "outputs": [
    {
     "data": {
      "text/plain": [
       "5"
      ]
     },
     "execution_count": 190,
     "metadata": {},
     "output_type": "execute_result"
    }
   ],
   "source": [
    "len(t)"
   ]
  },
  {
   "cell_type": "code",
   "execution_count": 191,
   "id": "70cf7f40",
   "metadata": {},
   "outputs": [
    {
     "data": {
      "text/plain": [
       "23"
      ]
     },
     "execution_count": 191,
     "metadata": {},
     "output_type": "execute_result"
    }
   ],
   "source": [
    "max(t)"
   ]
  },
  {
   "cell_type": "code",
   "execution_count": 192,
   "id": "c474e37f",
   "metadata": {},
   "outputs": [
    {
     "data": {
      "text/plain": [
       "1"
      ]
     },
     "execution_count": 192,
     "metadata": {},
     "output_type": "execute_result"
    }
   ],
   "source": [
    "min(t)"
   ]
  },
  {
   "cell_type": "code",
   "execution_count": 193,
   "id": "d6f34ee3",
   "metadata": {},
   "outputs": [
    {
     "data": {
      "text/plain": [
       "35"
      ]
     },
     "execution_count": 193,
     "metadata": {},
     "output_type": "execute_result"
    }
   ],
   "source": [
    "sum(t)"
   ]
  },
  {
   "cell_type": "code",
   "execution_count": 194,
   "id": "3aacb813",
   "metadata": {},
   "outputs": [
    {
     "data": {
      "text/plain": [
       "2"
      ]
     },
     "execution_count": 194,
     "metadata": {},
     "output_type": "execute_result"
    }
   ],
   "source": [
    "t.index(23)"
   ]
  },
  {
   "cell_type": "code",
   "execution_count": 195,
   "id": "51a8bc09",
   "metadata": {},
   "outputs": [
    {
     "data": {
      "text/plain": [
       "1"
      ]
     },
     "execution_count": 195,
     "metadata": {},
     "output_type": "execute_result"
    }
   ],
   "source": [
    "t.count(1)"
   ]
  },
  {
   "cell_type": "code",
   "execution_count": 198,
   "id": "91912702",
   "metadata": {},
   "outputs": [
    {
     "name": "stdout",
     "output_type": "stream",
     "text": [
      "Error: 'tuple' object does not support item assignment\n"
     ]
    }
   ],
   "source": [
    "try:\n",
    "    t[0] = 1 \n",
    "except Exception as e :\n",
    "    print(\"Error:\", e)"
   ]
  },
  {
   "cell_type": "code",
   "execution_count": 200,
   "id": "5571d737",
   "metadata": {},
   "outputs": [
    {
     "data": {
      "text/plain": [
       "(1, 2, 23, 4, 5, 2)"
      ]
     },
     "execution_count": 200,
     "metadata": {},
     "output_type": "execute_result"
    }
   ],
   "source": [
    "t + (2,)"
   ]
  },
  {
   "cell_type": "code",
   "execution_count": 209,
   "id": "d165020b",
   "metadata": {},
   "outputs": [
    {
     "data": {
      "text/plain": [
       "(1, 2, 23, 4, 100)"
      ]
     },
     "execution_count": 209,
     "metadata": {},
     "output_type": "execute_result"
    }
   ],
   "source": [
    "t[0:-1] + (100,)"
   ]
  },
  {
   "cell_type": "code",
   "execution_count": 204,
   "id": "d3a6e8a1",
   "metadata": {},
   "outputs": [],
   "source": [
    "# t = (1,2,3,45....) or t = tuple(seq)\n",
    "# type(t)\n",
    "# len(t)\n",
    "# max(t)\n",
    "# min(t)\n",
    "# sum(t)\n",
    "# t[index]\n",
    "# t.index(value)\n",
    "# t.count(value)"
   ]
  },
  {
   "cell_type": "code",
   "execution_count": 210,
   "id": "47bb373a",
   "metadata": {},
   "outputs": [
    {
     "data": {
      "text/plain": [
       "set"
      ]
     },
     "execution_count": 210,
     "metadata": {},
     "output_type": "execute_result"
    }
   ],
   "source": [
    "# set \n",
    "s = {1,2,3,4,5,6,7}  # or s = set(seq)\n",
    "type(s)"
   ]
  },
  {
   "cell_type": "code",
   "execution_count": 211,
   "id": "f8a82c38",
   "metadata": {},
   "outputs": [
    {
     "data": {
      "text/plain": [
       "7"
      ]
     },
     "execution_count": 211,
     "metadata": {},
     "output_type": "execute_result"
    }
   ],
   "source": [
    "len(s)"
   ]
  },
  {
   "cell_type": "code",
   "execution_count": 212,
   "id": "35f69a6d",
   "metadata": {},
   "outputs": [
    {
     "data": {
      "text/plain": [
       "1"
      ]
     },
     "execution_count": 212,
     "metadata": {},
     "output_type": "execute_result"
    }
   ],
   "source": [
    "min(s)"
   ]
  },
  {
   "cell_type": "code",
   "execution_count": 213,
   "id": "aa83b4cf",
   "metadata": {},
   "outputs": [
    {
     "data": {
      "text/plain": [
       "7"
      ]
     },
     "execution_count": 213,
     "metadata": {},
     "output_type": "execute_result"
    }
   ],
   "source": [
    "max(s)"
   ]
  },
  {
   "cell_type": "code",
   "execution_count": 214,
   "id": "b979371e",
   "metadata": {},
   "outputs": [
    {
     "data": {
      "text/plain": [
       "28"
      ]
     },
     "execution_count": 214,
     "metadata": {},
     "output_type": "execute_result"
    }
   ],
   "source": [
    "sum(s)"
   ]
  },
  {
   "cell_type": "code",
   "execution_count": 219,
   "id": "3734de99",
   "metadata": {},
   "outputs": [],
   "source": [
    "s.add(8)"
   ]
  },
  {
   "cell_type": "code",
   "execution_count": 220,
   "id": "5e768c63",
   "metadata": {},
   "outputs": [
    {
     "data": {
      "text/plain": [
       "{1, 2, 3, 4, 5, 6, 7, 8}"
      ]
     },
     "execution_count": 220,
     "metadata": {},
     "output_type": "execute_result"
    }
   ],
   "source": [
    "s"
   ]
  },
  {
   "cell_type": "code",
   "execution_count": 221,
   "id": "088cbabd",
   "metadata": {},
   "outputs": [],
   "source": [
    "s.update((12,34))  # == lst.extend(seq)"
   ]
  },
  {
   "cell_type": "code",
   "execution_count": 223,
   "id": "94929471",
   "metadata": {},
   "outputs": [
    {
     "data": {
      "text/plain": [
       "{1, 2, 3, 4, 5, 6, 7, 8, 12, 34}"
      ]
     },
     "execution_count": 223,
     "metadata": {},
     "output_type": "execute_result"
    }
   ],
   "source": [
    "s"
   ]
  },
  {
   "cell_type": "code",
   "execution_count": 224,
   "id": "274a3545",
   "metadata": {},
   "outputs": [],
   "source": [
    "s.remove(34)"
   ]
  },
  {
   "cell_type": "code",
   "execution_count": 225,
   "id": "3690bece",
   "metadata": {},
   "outputs": [
    {
     "data": {
      "text/plain": [
       "{1, 2, 3, 4, 5, 6, 7, 8, 12}"
      ]
     },
     "execution_count": 225,
     "metadata": {},
     "output_type": "execute_result"
    }
   ],
   "source": [
    "s"
   ]
  },
  {
   "cell_type": "code",
   "execution_count": 226,
   "id": "34feea6f",
   "metadata": {},
   "outputs": [],
   "source": [
    "s.discard(12)"
   ]
  },
  {
   "cell_type": "code",
   "execution_count": 227,
   "id": "625766cc",
   "metadata": {},
   "outputs": [
    {
     "data": {
      "text/plain": [
       "{1, 2, 3, 4, 5, 6, 7, 8}"
      ]
     },
     "execution_count": 227,
     "metadata": {},
     "output_type": "execute_result"
    }
   ],
   "source": [
    "s"
   ]
  },
  {
   "cell_type": "code",
   "execution_count": 228,
   "id": "f5434b66",
   "metadata": {},
   "outputs": [
    {
     "data": {
      "text/plain": [
       "{3, 4}"
      ]
     },
     "execution_count": 228,
     "metadata": {},
     "output_type": "execute_result"
    }
   ],
   "source": [
    "A = {1,2,3,4}\n",
    "B = {3,4,5,6}\n",
    "A.intersection(B)"
   ]
  },
  {
   "cell_type": "code",
   "execution_count": 229,
   "id": "54b15ce2",
   "metadata": {},
   "outputs": [
    {
     "data": {
      "text/plain": [
       "{1, 2, 3, 4, 5, 6}"
      ]
     },
     "execution_count": 229,
     "metadata": {},
     "output_type": "execute_result"
    }
   ],
   "source": [
    "A.union(B)"
   ]
  },
  {
   "cell_type": "code",
   "execution_count": 230,
   "id": "889d96b0",
   "metadata": {},
   "outputs": [
    {
     "data": {
      "text/plain": [
       "{1, 2}"
      ]
     },
     "execution_count": 230,
     "metadata": {},
     "output_type": "execute_result"
    }
   ],
   "source": [
    "A.difference(B)"
   ]
  },
  {
   "cell_type": "code",
   "execution_count": 231,
   "id": "0ca5c750",
   "metadata": {},
   "outputs": [
    {
     "data": {
      "text/plain": [
       "{1, 2}"
      ]
     },
     "execution_count": 231,
     "metadata": {},
     "output_type": "execute_result"
    }
   ],
   "source": [
    "A - B "
   ]
  },
  {
   "cell_type": "code",
   "execution_count": 232,
   "id": "e4e112ff",
   "metadata": {},
   "outputs": [
    {
     "data": {
      "text/plain": [
       "{5, 6}"
      ]
     },
     "execution_count": 232,
     "metadata": {},
     "output_type": "execute_result"
    }
   ],
   "source": [
    "B.difference(A)"
   ]
  },
  {
   "cell_type": "code",
   "execution_count": 233,
   "id": "ee321248",
   "metadata": {},
   "outputs": [
    {
     "data": {
      "text/plain": [
       "{5, 6}"
      ]
     },
     "execution_count": 233,
     "metadata": {},
     "output_type": "execute_result"
    }
   ],
   "source": [
    "B - A"
   ]
  },
  {
   "cell_type": "code",
   "execution_count": 234,
   "id": "674e3fe4",
   "metadata": {},
   "outputs": [],
   "source": [
    "# s = {1,2,3,4} or s = set(seq)\n",
    "# type(s)\n",
    "# len(s)\n",
    "# max(s)\n",
    "# min(s)\n",
    "# sum(s)\n",
    "# s.add(value)\n",
    "# s.update(seq)\n",
    "# s.remove(value)\n",
    "# s.discard(value)"
   ]
  },
  {
   "cell_type": "code",
   "execution_count": 235,
   "id": "7d6dfc83",
   "metadata": {},
   "outputs": [],
   "source": [
    "# dict\n",
    "d = {\"name\": \"Amit\" , \"age\": 15}"
   ]
  },
  {
   "cell_type": "code",
   "execution_count": 236,
   "id": "2fda5c33",
   "metadata": {},
   "outputs": [
    {
     "data": {
      "text/plain": [
       "dict"
      ]
     },
     "execution_count": 236,
     "metadata": {},
     "output_type": "execute_result"
    }
   ],
   "source": [
    "type(d)"
   ]
  },
  {
   "cell_type": "code",
   "execution_count": 237,
   "id": "5ae2dbd5",
   "metadata": {},
   "outputs": [
    {
     "data": {
      "text/plain": [
       "'Amit'"
      ]
     },
     "execution_count": 237,
     "metadata": {},
     "output_type": "execute_result"
    }
   ],
   "source": [
    "d[\"name\"]"
   ]
  },
  {
   "cell_type": "code",
   "execution_count": 238,
   "id": "176600d2",
   "metadata": {},
   "outputs": [
    {
     "data": {
      "text/plain": [
       "dict_keys(['name', 'age'])"
      ]
     },
     "execution_count": 238,
     "metadata": {},
     "output_type": "execute_result"
    }
   ],
   "source": [
    "d.keys()"
   ]
  },
  {
   "cell_type": "code",
   "execution_count": 239,
   "id": "8cbaf427",
   "metadata": {},
   "outputs": [
    {
     "data": {
      "text/plain": [
       "dict_values(['Amit', 15])"
      ]
     },
     "execution_count": 239,
     "metadata": {},
     "output_type": "execute_result"
    }
   ],
   "source": [
    "d.values()"
   ]
  },
  {
   "cell_type": "code",
   "execution_count": 240,
   "id": "35f813a6",
   "metadata": {},
   "outputs": [],
   "source": [
    "d[\"address\"] = 234"
   ]
  },
  {
   "cell_type": "code",
   "execution_count": 241,
   "id": "e0f2ca7c",
   "metadata": {},
   "outputs": [
    {
     "data": {
      "text/plain": [
       "{'name': 'Amit', 'age': 15, 'address': 234}"
      ]
     },
     "execution_count": 241,
     "metadata": {},
     "output_type": "execute_result"
    }
   ],
   "source": [
    "d"
   ]
  },
  {
   "cell_type": "code",
   "execution_count": 242,
   "id": "97220e22",
   "metadata": {},
   "outputs": [],
   "source": [
    "d[\"age\"] = 10"
   ]
  },
  {
   "cell_type": "code",
   "execution_count": 243,
   "id": "fc526c52",
   "metadata": {},
   "outputs": [
    {
     "data": {
      "text/plain": [
       "{'name': 'Amit', 'age': 10, 'address': 234}"
      ]
     },
     "execution_count": 243,
     "metadata": {},
     "output_type": "execute_result"
    }
   ],
   "source": [
    "d"
   ]
  },
  {
   "cell_type": "code",
   "execution_count": 246,
   "id": "27ad12eb",
   "metadata": {},
   "outputs": [
    {
     "data": {
      "text/plain": [
       "{'k1': 'value2'}"
      ]
     },
     "execution_count": 246,
     "metadata": {},
     "output_type": "execute_result"
    }
   ],
   "source": [
    "dict([(\"k1\" , \"value1\"),(\"k1\" , \"value2\")])"
   ]
  },
  {
   "cell_type": "code",
   "execution_count": 249,
   "id": "6b2f0e2d",
   "metadata": {},
   "outputs": [],
   "source": [
    "d.update({\"n_students\" : 123 , \"name\" : \"AMIT\"})"
   ]
  },
  {
   "cell_type": "code",
   "execution_count": 250,
   "id": "922eda09",
   "metadata": {},
   "outputs": [
    {
     "data": {
      "text/plain": [
       "{'name': 'AMIT', 'age': 10, 'address': 234, 'n_students': 123}"
      ]
     },
     "execution_count": 250,
     "metadata": {},
     "output_type": "execute_result"
    }
   ],
   "source": [
    "d"
   ]
  },
  {
   "cell_type": "code",
   "execution_count": 251,
   "id": "e03c5488",
   "metadata": {},
   "outputs": [
    {
     "data": {
      "text/plain": [
       "dict_items([('name', 'AMIT'), ('age', 10), ('address', 234), ('n_students', 123)])"
      ]
     },
     "execution_count": 251,
     "metadata": {},
     "output_type": "execute_result"
    }
   ],
   "source": [
    "d.items()"
   ]
  },
  {
   "cell_type": "code",
   "execution_count": 252,
   "id": "ca2a7108",
   "metadata": {},
   "outputs": [
    {
     "data": {
      "text/plain": [
       "{'name': 'AMIT', 'age': 10, 'address': 234, 'n_students': 123}"
      ]
     },
     "execution_count": 252,
     "metadata": {},
     "output_type": "execute_result"
    }
   ],
   "source": [
    "d"
   ]
  },
  {
   "cell_type": "code",
   "execution_count": 256,
   "id": "5c0a64f4",
   "metadata": {},
   "outputs": [
    {
     "name": "stdout",
     "output_type": "stream",
     "text": [
      "('name', 'AMIT')\n",
      "('age', 10)\n",
      "('address', 234)\n",
      "('n_students', 123)\n"
     ]
    }
   ],
   "source": [
    "for i in [('name', 'AMIT'), ('age', 10), ('address', 234), ('n_students', 123)]:\n",
    "    print(i)"
   ]
  },
  {
   "cell_type": "code",
   "execution_count": 258,
   "id": "b48d9075",
   "metadata": {},
   "outputs": [],
   "source": [
    "lst = [1,2,3,4,5]"
   ]
  },
  {
   "cell_type": "code",
   "execution_count": 259,
   "id": "d07fe437",
   "metadata": {},
   "outputs": [
    {
     "data": {
      "text/plain": [
       "[1, 2, 3, 4, 5, 1, 2, 3, 4, 5]"
      ]
     },
     "execution_count": 259,
     "metadata": {},
     "output_type": "execute_result"
    }
   ],
   "source": [
    "lst * 2 "
   ]
  },
  {
   "cell_type": "code",
   "execution_count": 260,
   "id": "5519aacd",
   "metadata": {},
   "outputs": [
    {
     "data": {
      "text/plain": [
       "[1, 2, 3, 4, 5]"
      ]
     },
     "execution_count": 260,
     "metadata": {},
     "output_type": "execute_result"
    }
   ],
   "source": [
    "lst"
   ]
  },
  {
   "cell_type": "code",
   "execution_count": 261,
   "id": "617d2995",
   "metadata": {},
   "outputs": [
    {
     "name": "stdout",
     "output_type": "stream",
     "text": [
      "2\n",
      "4\n",
      "6\n",
      "8\n",
      "10\n"
     ]
    }
   ],
   "source": [
    "for i in lst :\n",
    "    print(i * 2)"
   ]
  },
  {
   "cell_type": "code",
   "execution_count": 265,
   "id": "0c8cb9c7",
   "metadata": {
    "scrolled": true
   },
   "outputs": [
    {
     "name": "stdout",
     "output_type": "stream",
     "text": [
      "a m i t "
     ]
    }
   ],
   "source": [
    "for i in \"amit\":\n",
    "    print(i , end = \" \")"
   ]
  },
  {
   "cell_type": "code",
   "execution_count": 266,
   "id": "f88524a6",
   "metadata": {},
   "outputs": [
    {
     "data": {
      "text/plain": [
       "[1, 2, 3, 4, 5]"
      ]
     },
     "execution_count": 266,
     "metadata": {},
     "output_type": "execute_result"
    }
   ],
   "source": [
    "lst"
   ]
  },
  {
   "cell_type": "code",
   "execution_count": 268,
   "id": "9f7e3b09",
   "metadata": {},
   "outputs": [
    {
     "name": "stdout",
     "output_type": "stream",
     "text": [
      "1 Odd\n",
      "2 Even\n",
      "3 Odd\n",
      "4 Even\n",
      "5 Odd\n"
     ]
    }
   ],
   "source": [
    "for i in lst :\n",
    "    if i % 2 == 0 :\n",
    "        print(i , \"Even\")\n",
    "    else:\n",
    "        print(i , \"Odd\")"
   ]
  },
  {
   "cell_type": "code",
   "execution_count": 281,
   "id": "9ea21221",
   "metadata": {},
   "outputs": [
    {
     "data": {
      "text/plain": [
       "['1 Odd', '2 Even', '3 Odd', '4 Even', '5 Odd']"
      ]
     },
     "execution_count": 281,
     "metadata": {},
     "output_type": "execute_result"
    }
   ],
   "source": [
    "lst = [1, 2, 3, 4, 5]\n",
    "[ f\"{i} Even\" if i % 2 ==0 else f\"{i} Odd\" for i in lst ]"
   ]
  },
  {
   "cell_type": "code",
   "execution_count": 282,
   "id": "ee1a62ea",
   "metadata": {},
   "outputs": [
    {
     "data": {
      "text/plain": [
       "[2, 4]"
      ]
     },
     "execution_count": 282,
     "metadata": {},
     "output_type": "execute_result"
    }
   ],
   "source": [
    "[ i  for i in lst if i % 2 == 0  ]"
   ]
  },
  {
   "cell_type": "code",
   "execution_count": 283,
   "id": "e20c9ed1",
   "metadata": {},
   "outputs": [
    {
     "data": {
      "text/plain": [
       "[1, 3, 5]"
      ]
     },
     "execution_count": 283,
     "metadata": {},
     "output_type": "execute_result"
    }
   ],
   "source": [
    "[ i  for i in lst if i % 2 != 0  ]"
   ]
  },
  {
   "cell_type": "code",
   "execution_count": 272,
   "id": "607d22fe",
   "metadata": {},
   "outputs": [],
   "source": [
    "lst = [[1,2,3] , [2,3,4] , [3,4,5]]"
   ]
  },
  {
   "cell_type": "code",
   "execution_count": 278,
   "id": "ce3e4743",
   "metadata": {},
   "outputs": [
    {
     "data": {
      "text/plain": [
       "[[2, 4, 6], [4, 6, 8], [6, 8, 10]]"
      ]
     },
     "execution_count": 278,
     "metadata": {},
     "output_type": "execute_result"
    }
   ],
   "source": [
    "[[j * 2 for j in i] for i in lst ]"
   ]
  },
  {
   "cell_type": "code",
   "execution_count": 285,
   "id": "2080945e",
   "metadata": {},
   "outputs": [
    {
     "name": "stdout",
     "output_type": "stream",
     "text": [
      "0 \n",
      "1 *\n",
      "2 **\n",
      "3 ***\n",
      "4 ****\n",
      "5 *****\n",
      "6 ******\n",
      "7 *******\n",
      "8 ********\n",
      "9 *********\n"
     ]
    }
   ],
   "source": [
    "x = 0 \n",
    "while x < 10 :\n",
    "    print( x , \"*\" * x )\n",
    "    x += 1 "
   ]
  },
  {
   "cell_type": "code",
   "execution_count": 286,
   "id": "001a8302",
   "metadata": {},
   "outputs": [],
   "source": [
    "# Session 3 \n",
    "#     functions\n",
    "#     filter\n",
    "#     map \n",
    "#     scopes\n",
    "#     file handling\n",
    "#     module"
   ]
  },
  {
   "cell_type": "code",
   "execution_count": 289,
   "id": "1d2831b9",
   "metadata": {},
   "outputs": [],
   "source": [
    "def add(*n):\n",
    "    s = 0\n",
    "    for i in n:\n",
    "        s += i\n",
    "    return s"
   ]
  },
  {
   "cell_type": "code",
   "execution_count": 290,
   "id": "f91fb5f5",
   "metadata": {
    "scrolled": true
   },
   "outputs": [
    {
     "data": {
      "text/plain": [
       "6"
      ]
     },
     "execution_count": 290,
     "metadata": {},
     "output_type": "execute_result"
    }
   ],
   "source": [
    "add(1,2,3)"
   ]
  },
  {
   "cell_type": "code",
   "execution_count": 291,
   "id": "0bf1cc11",
   "metadata": {},
   "outputs": [
    {
     "data": {
      "text/plain": [
       "[1, 2, 3, 4, 5]"
      ]
     },
     "execution_count": 291,
     "metadata": {},
     "output_type": "execute_result"
    }
   ],
   "source": [
    "lst"
   ]
  },
  {
   "cell_type": "code",
   "execution_count": 294,
   "id": "e6d9b063",
   "metadata": {},
   "outputs": [
    {
     "data": {
      "text/plain": [
       "[2, 4, 6, 8, 10]"
      ]
     },
     "execution_count": 294,
     "metadata": {},
     "output_type": "execute_result"
    }
   ],
   "source": [
    "# list(map(fun, seq))\n",
    "list(map(lambda x : x * 2  , lst))"
   ]
  },
  {
   "cell_type": "code",
   "execution_count": 295,
   "id": "07fbcfbe",
   "metadata": {},
   "outputs": [
    {
     "data": {
      "text/plain": [
       "[2, 4]"
      ]
     },
     "execution_count": 295,
     "metadata": {},
     "output_type": "execute_result"
    }
   ],
   "source": [
    "# list(filter(fun , seq))\n",
    "list(filter(lambda x : x % 2 == 0 , lst))"
   ]
  },
  {
   "cell_type": "code",
   "execution_count": 296,
   "id": "cd970e2d",
   "metadata": {},
   "outputs": [
    {
     "data": {
      "text/plain": [
       "[1, 3, 5]"
      ]
     },
     "execution_count": 296,
     "metadata": {},
     "output_type": "execute_result"
    }
   ],
   "source": [
    "list(filter(lambda x : x % 2 != 0 , lst))"
   ]
  },
  {
   "cell_type": "code",
   "execution_count": 297,
   "id": "2aa0cca7",
   "metadata": {},
   "outputs": [
    {
     "name": "stdout",
     "output_type": "stream",
     "text": [
      "local\n",
      "G\n"
     ]
    }
   ],
   "source": [
    "x = \"G\"\n",
    "def outer():\n",
    "    x = \"local\"\n",
    "    print(x)\n",
    "outer()\n",
    "print(x)"
   ]
  },
  {
   "cell_type": "code",
   "execution_count": 298,
   "id": "f207da46",
   "metadata": {},
   "outputs": [
    {
     "name": "stdout",
     "output_type": "stream",
     "text": [
      "local\n",
      "local\n"
     ]
    }
   ],
   "source": [
    "x = \"G\"\n",
    "def outer():\n",
    "    global x\n",
    "    x = \"local\"\n",
    "    print(x)\n",
    "outer()\n",
    "print(x)"
   ]
  },
  {
   "cell_type": "code",
   "execution_count": 299,
   "id": "bb022bb1",
   "metadata": {},
   "outputs": [
    {
     "name": "stdout",
     "output_type": "stream",
     "text": [
      "inner\n",
      "local\n",
      "G\n"
     ]
    }
   ],
   "source": [
    "x = \"G\"\n",
    "def outer():\n",
    "    x = \"local\"\n",
    "    def inner():\n",
    "        x = \"inner\"\n",
    "        print(x)\n",
    "    inner()\n",
    "    print(x)\n",
    "outer()\n",
    "print(x)"
   ]
  },
  {
   "cell_type": "code",
   "execution_count": 300,
   "id": "fb5a03ba",
   "metadata": {},
   "outputs": [
    {
     "name": "stdout",
     "output_type": "stream",
     "text": [
      "inner\n",
      "inner\n",
      "G\n"
     ]
    }
   ],
   "source": [
    "x = \"G\"\n",
    "def outer():\n",
    "    x = \"local\"\n",
    "    def inner():\n",
    "        nonlocal x\n",
    "        x = \"inner\"\n",
    "        print(x)\n",
    "    inner()\n",
    "    print(x)\n",
    "outer()\n",
    "print(x)"
   ]
  },
  {
   "cell_type": "code",
   "execution_count": 306,
   "id": "b443df0c",
   "metadata": {},
   "outputs": [
    {
     "name": "stdout",
     "output_type": "stream",
     "text": [
      "inner1_1\n",
      "inner1\n",
      "local\n",
      "inner1_1\n"
     ]
    }
   ],
   "source": [
    "x = \"G\"\n",
    "def outer():\n",
    "    x = \"local\"\n",
    "    def inner1():\n",
    "        x = \"inner1\"\n",
    "        def inner1_1():\n",
    "            global x \n",
    "            x = \"inner1_1\"\n",
    "            print(x)\n",
    "        inner1_1()\n",
    "        print(x)\n",
    "    inner1()\n",
    "    \n",
    "    print(x)\n",
    "outer()\n",
    "print(x)"
   ]
  },
  {
   "cell_type": "code",
   "execution_count": 312,
   "id": "c0376fd1",
   "metadata": {},
   "outputs": [
    {
     "name": "stdout",
     "output_type": "stream",
     "text": [
      "inner1_1\n",
      "inner1\n",
      "local\n",
      "G\n"
     ]
    }
   ],
   "source": [
    "x = \"G\"\n",
    "def outer():\n",
    "    x = \"local\"\n",
    "    def inner1():\n",
    "        x = \"inner1\"\n",
    "        def inner1_1():\n",
    "            global y \n",
    "            y = 1000\n",
    "            global m\n",
    "            m = 100\n",
    "            x = \"inner1_1\"\n",
    "            print(x)\n",
    "        inner1_1()\n",
    "        print(x)\n",
    "    inner1()\n",
    "    \n",
    "    print(x)\n",
    "outer()\n",
    "print(x)"
   ]
  },
  {
   "cell_type": "code",
   "execution_count": 313,
   "id": "1ac15788",
   "metadata": {},
   "outputs": [
    {
     "data": {
      "text/plain": [
       "1000"
      ]
     },
     "execution_count": 313,
     "metadata": {},
     "output_type": "execute_result"
    }
   ],
   "source": [
    "y"
   ]
  },
  {
   "cell_type": "code",
   "execution_count": 314,
   "id": "f589a584",
   "metadata": {},
   "outputs": [
    {
     "data": {
      "text/plain": [
       "100"
      ]
     },
     "execution_count": 314,
     "metadata": {},
     "output_type": "execute_result"
    }
   ],
   "source": [
    "m"
   ]
  },
  {
   "cell_type": "code",
   "execution_count": 317,
   "id": "a1c95f1a",
   "metadata": {},
   "outputs": [],
   "source": [
    "f = open(\"text.txt\" , \"w\") "
   ]
  },
  {
   "cell_type": "code",
   "execution_count": 319,
   "id": "d9fd2ff7",
   "metadata": {},
   "outputs": [
    {
     "data": {
      "text/plain": [
       "15"
      ]
     },
     "execution_count": 319,
     "metadata": {},
     "output_type": "execute_result"
    }
   ],
   "source": [
    "f.write(\"my name is G_67\")"
   ]
  },
  {
   "cell_type": "code",
   "execution_count": 320,
   "id": "761e843c",
   "metadata": {},
   "outputs": [],
   "source": [
    "f.close()"
   ]
  },
  {
   "cell_type": "code",
   "execution_count": 322,
   "id": "1123f206",
   "metadata": {},
   "outputs": [
    {
     "data": {
      "text/plain": [
       "'my name is G_67'"
      ]
     },
     "execution_count": 322,
     "metadata": {},
     "output_type": "execute_result"
    }
   ],
   "source": [
    "f = open(\"text.txt\" , 'r')\n",
    "f.read()"
   ]
  },
  {
   "cell_type": "code",
   "execution_count": 323,
   "id": "5e503b77",
   "metadata": {},
   "outputs": [],
   "source": [
    "f = open(\"text.txt\" , 'a')"
   ]
  },
  {
   "cell_type": "code",
   "execution_count": 324,
   "id": "294ab1c4",
   "metadata": {},
   "outputs": [
    {
     "data": {
      "text/plain": [
       "18"
      ]
     },
     "execution_count": 324,
     "metadata": {},
     "output_type": "execute_result"
    }
   ],
   "source": [
    "f.write(\" and my age is 30d\")"
   ]
  },
  {
   "cell_type": "code",
   "execution_count": 325,
   "id": "e7388811",
   "metadata": {},
   "outputs": [],
   "source": [
    "f.close()"
   ]
  },
  {
   "cell_type": "code",
   "execution_count": 328,
   "id": "fdcef53e",
   "metadata": {},
   "outputs": [
    {
     "data": {
      "text/plain": [
       "'my name is G_67 and my age is 30d'"
      ]
     },
     "execution_count": 328,
     "metadata": {},
     "output_type": "execute_result"
    }
   ],
   "source": [
    "f = open(\"text.txt\" , 'r+')\n",
    "f.read()"
   ]
  },
  {
   "cell_type": "code",
   "execution_count": 329,
   "id": "306f6286",
   "metadata": {},
   "outputs": [
    {
     "data": {
      "text/plain": [
       "5"
      ]
     },
     "execution_count": 329,
     "metadata": {},
     "output_type": "execute_result"
    }
   ],
   "source": [
    "f.write(\">> ok\")"
   ]
  },
  {
   "cell_type": "code",
   "execution_count": 331,
   "id": "18e7d1d5",
   "metadata": {},
   "outputs": [],
   "source": [
    "f.close()"
   ]
  },
  {
   "cell_type": "code",
   "execution_count": 332,
   "id": "008d2ba3",
   "metadata": {},
   "outputs": [
    {
     "data": {
      "text/plain": [
       "'my name is G_67 and my age is 30d>> ok'"
      ]
     },
     "execution_count": 332,
     "metadata": {},
     "output_type": "execute_result"
    }
   ],
   "source": [
    "f = open(\"text.txt\" , 'r+')\n",
    "f.read()"
   ]
  },
  {
   "cell_type": "code",
   "execution_count": 334,
   "id": "4f4d757b",
   "metadata": {},
   "outputs": [],
   "source": [
    "f = open(\"text2.txt\" , \"x\")"
   ]
  },
  {
   "cell_type": "code",
   "execution_count": 335,
   "id": "f58832fc",
   "metadata": {},
   "outputs": [],
   "source": [
    "# import modulename \n",
    "# import modulename as md \n",
    "# from modulename import method1,....\n",
    "# from modulename import *"
   ]
  },
  {
   "cell_type": "code",
   "execution_count": 337,
   "id": "e535cb94",
   "metadata": {},
   "outputs": [],
   "source": [
    "import module as md"
   ]
  },
  {
   "cell_type": "code",
   "execution_count": 339,
   "id": "df7b49d2",
   "metadata": {},
   "outputs": [],
   "source": [
    "# dir(md)"
   ]
  },
  {
   "cell_type": "code",
   "execution_count": 340,
   "id": "3f302494",
   "metadata": {},
   "outputs": [
    {
     "data": {
      "text/plain": [
       "60"
      ]
     },
     "execution_count": 340,
     "metadata": {},
     "output_type": "execute_result"
    }
   ],
   "source": [
    "md.add(12,12,12,12,12)"
   ]
  },
  {
   "cell_type": "code",
   "execution_count": 341,
   "id": "ee39c51c",
   "metadata": {},
   "outputs": [
    {
     "data": {
      "text/plain": [
       "0"
      ]
     },
     "execution_count": 341,
     "metadata": {},
     "output_type": "execute_result"
    }
   ],
   "source": [
    "md.add()"
   ]
  },
  {
   "cell_type": "code",
   "execution_count": 342,
   "id": "cb355259",
   "metadata": {},
   "outputs": [],
   "source": [
    "# Session 4 \n",
    "#     oop"
   ]
  },
  {
   "cell_type": "code",
   "execution_count": 390,
   "id": "e02f1235",
   "metadata": {},
   "outputs": [],
   "source": [
    "class Students:\n",
    "    def __init__(self , name , age):\n",
    "        self.name = name \n",
    "        self.age = age\n",
    "        \n",
    "    def show(self):\n",
    "        print(\"your name is\",self.name , \"and your age is\", self.age)\n",
    "    \n",
    "    def __str__(self):\n",
    "        return f\"My name is { self.name}\"\n",
    "    def __len__(self):\n",
    "        return len(self.name)\n",
    "    def __int__(self):\n",
    "        return self.age"
   ]
  },
  {
   "cell_type": "code",
   "execution_count": 391,
   "id": "53201c1c",
   "metadata": {},
   "outputs": [],
   "source": [
    "p1 = Students(\"ahmed\" , 30 )"
   ]
  },
  {
   "cell_type": "code",
   "execution_count": 392,
   "id": "a91dfc9a",
   "metadata": {},
   "outputs": [
    {
     "name": "stdout",
     "output_type": "stream",
     "text": [
      "your name is ahmed and your age is 30\n"
     ]
    }
   ],
   "source": [
    "p1.show()"
   ]
  },
  {
   "cell_type": "code",
   "execution_count": 393,
   "id": "2e11d419",
   "metadata": {},
   "outputs": [
    {
     "name": "stdout",
     "output_type": "stream",
     "text": [
      "My name is ahmed\n"
     ]
    }
   ],
   "source": [
    "print(p1)"
   ]
  },
  {
   "cell_type": "code",
   "execution_count": 394,
   "id": "573e360e",
   "metadata": {},
   "outputs": [
    {
     "data": {
      "text/plain": [
       "'My name is ahmed'"
      ]
     },
     "execution_count": 394,
     "metadata": {},
     "output_type": "execute_result"
    }
   ],
   "source": [
    "str(p1)"
   ]
  },
  {
   "cell_type": "code",
   "execution_count": 395,
   "id": "c43fd340",
   "metadata": {},
   "outputs": [
    {
     "data": {
      "text/plain": [
       "5"
      ]
     },
     "execution_count": 395,
     "metadata": {},
     "output_type": "execute_result"
    }
   ],
   "source": [
    "len(p1)"
   ]
  },
  {
   "cell_type": "code",
   "execution_count": 383,
   "id": "9da832a1",
   "metadata": {},
   "outputs": [
    {
     "data": {
      "text/plain": [
       "30"
      ]
     },
     "execution_count": 383,
     "metadata": {},
     "output_type": "execute_result"
    }
   ],
   "source": [
    "int(p1)"
   ]
  },
  {
   "cell_type": "code",
   "execution_count": null,
   "id": "b7e60991",
   "metadata": {},
   "outputs": [],
   "source": []
  },
  {
   "cell_type": "code",
   "execution_count": null,
   "id": "36e2e870",
   "metadata": {},
   "outputs": [],
   "source": []
  }
 ],
 "metadata": {
  "kernelspec": {
   "display_name": "Python 3 (ipykernel)",
   "language": "python",
   "name": "python3"
  },
  "language_info": {
   "codemirror_mode": {
    "name": "ipython",
    "version": 3
   },
   "file_extension": ".py",
   "mimetype": "text/x-python",
   "name": "python",
   "nbconvert_exporter": "python",
   "pygments_lexer": "ipython3",
   "version": "3.10.9"
  }
 },
 "nbformat": 4,
 "nbformat_minor": 5
}
