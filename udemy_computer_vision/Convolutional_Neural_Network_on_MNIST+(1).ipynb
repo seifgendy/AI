{
  "nbformat": 4,
  "nbformat_minor": 0,
  "metadata": {
    "colab": {
      "name": " Convolutional Neural Network on MNIST.ipynb",
      "provenance": [],
      "collapsed_sections": []
    },
    "kernelspec": {
      "name": "python3",
      "display_name": "Python 3"
    }
  },
  "cells": [
    {
      "cell_type": "code",
      "metadata": {
        "id": "Snrh-sA2pOH4"
      },
      "source": [
        "from numpy import array\n",
        "from numpy import argmax\n",
        "from tensorflow.keras.utils import to_categorical"
      ],
      "execution_count": null,
      "outputs": []
    },
    {
      "cell_type": "code",
      "source": [
        "from numpy import array\n",
        "from numpy import argmax\n",
        "from tensorflow.keras.utils import to_categorical"
      ],
      "metadata": {
        "id": "62Y2yKUd0yNK"
      },
      "execution_count": null,
      "outputs": []
    },
    {
      "cell_type": "code",
      "source": [
        "data = [9,5,6,0,3,4,2,1,0,7,8,9,6]\n",
        "data = array(data)\n",
        "print(data)"
      ],
      "metadata": {
        "id": "xF6dVK5y2FnZ",
        "outputId": "fb225176-0f09-4375-9005-d620eae10d8b",
        "colab": {
          "base_uri": "https://localhost:8080/"
        }
      },
      "execution_count": null,
      "outputs": [
        {
          "output_type": "stream",
          "name": "stdout",
          "text": [
            "[9 5 6 0 3 4 2 1 0 7 8 9 6]\n"
          ]
        }
      ]
    },
    {
      "cell_type": "code",
      "source": [
        "# one hot encode\n",
        "encoded = to_categorical(data)\n",
        "print(encoded)"
      ],
      "metadata": {
        "colab": {
          "base_uri": "https://localhost:8080/"
        },
        "id": "28qC9MxD0yT7",
        "outputId": "1a409fbe-d7cc-4606-ab7f-732d6d110af9"
      },
      "execution_count": null,
      "outputs": [
        {
          "output_type": "stream",
          "name": "stdout",
          "text": [
            "[[0. 0. 0. 0. 0. 0. 0. 0. 0. 1.]\n",
            " [0. 0. 0. 0. 0. 1. 0. 0. 0. 0.]\n",
            " [0. 0. 0. 0. 0. 0. 1. 0. 0. 0.]\n",
            " [1. 0. 0. 0. 0. 0. 0. 0. 0. 0.]\n",
            " [0. 0. 0. 1. 0. 0. 0. 0. 0. 0.]\n",
            " [0. 0. 0. 0. 1. 0. 0. 0. 0. 0.]\n",
            " [0. 0. 1. 0. 0. 0. 0. 0. 0. 0.]\n",
            " [0. 1. 0. 0. 0. 0. 0. 0. 0. 0.]\n",
            " [1. 0. 0. 0. 0. 0. 0. 0. 0. 0.]\n",
            " [0. 0. 0. 0. 0. 0. 0. 1. 0. 0.]\n",
            " [0. 0. 0. 0. 0. 0. 0. 0. 1. 0.]\n",
            " [0. 0. 0. 0. 0. 0. 0. 0. 0. 1.]\n",
            " [0. 0. 0. 0. 0. 0. 1. 0. 0. 0.]]\n"
          ]
        }
      ]
    },
    {
      "cell_type": "code",
      "source": [
        "# importing required libraries\n",
        "from keras.models import Sequential\n",
        "from keras.layers import Dense\n",
        "from keras.utils import np_utils\n",
        "import matplotlib.image as mpimg\n",
        "from keras.datasets import mnist\n",
        "import matplotlib.pyplot as plt\n",
        "from matplotlib import pyplot\n",
        "import numpy as np"
      ],
      "metadata": {
        "id": "3f0W309F0wvx"
      },
      "execution_count": null,
      "outputs": []
    },
    {
      "cell_type": "code",
      "metadata": {
        "id": "jj_s9vrNL7Be",
        "colab": {
          "base_uri": "https://localhost:8080/"
        },
        "outputId": "6ed945cd-3c86-4f6a-8b57-b6b21f737e85"
      },
      "source": [
        "# loading the required train and test MNIST dataset\n",
        "(train_data_x, train_data_y), (test_data_x, test_data_y) = mnist.load_data()"
      ],
      "execution_count": null,
      "outputs": [
        {
          "output_type": "stream",
          "name": "stdout",
          "text": [
            "Downloading data from https://storage.googleapis.com/tensorflow/tf-keras-datasets/mnist.npz\n",
            "11493376/11490434 [==============================] - 0s 0us/step\n",
            "11501568/11490434 [==============================] - 0s 0us/step\n"
          ]
        }
      ]
    },
    {
      "cell_type": "code",
      "metadata": {
        "colab": {
          "base_uri": "https://localhost:8080/"
        },
        "id": "VZdyt3hMu3I0",
        "outputId": "4b007d21-db93-4d15-9c4d-82945a6a36e5"
      },
      "source": [
        "print(train_data_x.shape[0], train_data_x.shape[1], train_data_x.shape[2])"
      ],
      "execution_count": null,
      "outputs": [
        {
          "output_type": "stream",
          "name": "stdout",
          "text": [
            "60000 28 28\n"
          ]
        }
      ]
    },
    {
      "cell_type": "code",
      "metadata": {
        "colab": {
          "base_uri": "https://localhost:8080/"
        },
        "id": "0qE2JqRwvJ_g",
        "outputId": "81587864-510c-4f13-fdde-4285a98a5269"
      },
      "source": [
        "print(test_data_x.shape[0], test_data_x.shape[1], test_data_x.shape[2])"
      ],
      "execution_count": null,
      "outputs": [
        {
          "output_type": "stream",
          "name": "stdout",
          "text": [
            "10000 28 28\n"
          ]
        }
      ]
    },
    {
      "cell_type": "code",
      "metadata": {
        "id": "8KKB4a1AL8rA"
      },
      "source": [
        "# flattenning each of (28*28) images to a 784 vector of pixels using reshape() \n",
        "pixel_num = train_data_x.shape[1] * train_data_x.shape[2]\n",
        "train_data_x = train_data_x.reshape((train_data_x.shape[0], pixel_num)).astype('float32')\n",
        "test_data_x = test_data_x.reshape((test_data_x.shape[0], pixel_num)).astype('float32')"
      ],
      "execution_count": null,
      "outputs": []
    },
    {
      "cell_type": "code",
      "metadata": {
        "id": "ekn95C_bL8tf"
      },
      "source": [
        "# normalizing inputs from (0-255) to (0-1) by dividing each value by 255 which is the maximum pixel value on a grayscale\n",
        "train_data_x = train_data_x / 255\n",
        "test_data_x = test_data_x / 255"
      ],
      "execution_count": null,
      "outputs": []
    },
    {
      "cell_type": "code",
      "metadata": {
        "id": "sGPJcD1eL82w"
      },
      "source": [
        "# one hot encoding of outputs\n",
        "# transforming vector of class integers into a binary matrix\n",
        "train_data_y = np_utils.to_categorical(train_data_y)\n",
        "test_data_y = np_utils.to_categorical(test_data_y)\n",
        "class_num = test_data_y.shape[1]"
      ],
      "execution_count": null,
      "outputs": []
    },
    {
      "cell_type": "code",
      "metadata": {
        "colab": {
          "base_uri": "https://localhost:8080/",
          "height": 1000
        },
        "id": "LoZGG3c_PfKr",
        "outputId": "b54ffaee-47c9-43ec-ebdf-46beef4f570c"
      },
      "source": [
        "# Plotting first 10 dataset images\n",
        "for i in range(9):\n",
        " plt.imshow(train_data_x[i].reshape(28, 28), cmap = plt.cm.binary)\n",
        " #show the plot\n",
        " plt.show()"
      ],
      "execution_count": null,
      "outputs": [
        {
          "output_type": "display_data",
          "data": {
            "text/plain": [
              "<Figure size 432x288 with 1 Axes>"
            ],
            "image/png": "[encoded data removed]"
          },
          "metadata": {
            "needs_background": "light"
          }
        },
        {
          "output_type": "display_data",
          "data": {
            "text/plain": [
              "<Figure size 432x288 with 1 Axes>"
            ],
            "image/png": "[encoded data removed]"
          },
          "metadata": {
            "needs_background": "light"
          }
        },
        {
          "output_type": "display_data",
          "data": {
            "text/plain": [
              "<Figure size 432x288 with 1 Axes>"
            ],
            "image/png": "[encoded data removed]"
          },
          "metadata": {
            "needs_background": "light"
          }
        },
        {
          "output_type": "display_data",
          "data": {
            "text/plain": [
              "<Figure size 432x288 with 1 Axes>"
            ],
            "image/png": "[encoded data removed]"
          },
          "metadata": {
            "needs_background": "light"
          }
        },
        {
          "output_type": "display_data",
          "data": {
            "text/plain": [
              "<Figure size 432x288 with 1 Axes>"
            ],
            "image/png": "[encoded data removed]"
          },
          "metadata": {
            "needs_background": "light"
          }
        },
        {
          "output_type": "display_data",
          "data": {
            "text/plain": [
              "<Figure size 432x288 with 1 Axes>"
            ],
            "image/png": "[encoded data removed]"
          },
          "metadata": {
            "needs_background": "light"
          }
        },
        {
          "output_type": "display_data",
          "data": {
            "text/plain": [
              "<Figure size 432x288 with 1 Axes>"
            ],
            "image/png": "[encoded data removed]"
          },
          "metadata": {
            "needs_background": "light"
          }
        },
        {
          "output_type": "display_data",
          "data": {
            "text/plain": [
              "<Figure size 432x288 with 1 Axes>"
            ],
            "image/png": "[encoded data removed]"
          },
          "metadata": {
            "needs_background": "light"
          }
        },
        {
          "output_type": "display_data",
          "data": {
            "text/plain": [
              "<Figure size 432x288 with 1 Axes>"
            ],
            "image/png": "[encoded data removed]"
          },
          "metadata": {
            "needs_background": "light"
          }
        }
      ]
    },
    {
      "cell_type": "code",
      "metadata": {
        "id": "73Qw9y5OL85P"
      },
      "source": [
        "# defining the baseline model\n",
        "def baseline_model():\n",
        "\t# creating the model\n",
        "\tmodel = Sequential()\n",
        "\tmodel.add(Dense(pixel_num, input_dim=pixel_num, activation='relu'))\n",
        "\tmodel.add(Dense(class_num, activation='softmax'))\n",
        "\t# Compiling the model\n",
        "\tmodel.compile(loss='categorical_crossentropy', optimizer='adam', metrics=['accuracy'])\n",
        "\treturn model"
      ],
      "execution_count": null,
      "outputs": []
    },
    {
      "cell_type": "code",
      "metadata": {
        "id": "Qe-w2GcgL873"
      },
      "source": [
        "# building the model\n",
        "model = baseline_model()"
      ],
      "execution_count": null,
      "outputs": []
    },
    {
      "cell_type": "code",
      "metadata": {
        "id": "l1CZcNRzL8-H",
        "colab": {
          "base_uri": "https://localhost:8080/"
        },
        "outputId": "d6bfb7fe-cf64-4f25-8682-63890ac66a1b"
      },
      "source": [
        "# Fitting the model over 10 epochs  \n",
        "model.fit(train_data_x, train_data_y, validation_data=(test_data_x, test_data_y), epochs=10, batch_size=200, verbose=2)"
      ],
      "execution_count": null,
      "outputs": [
        {
          "output_type": "stream",
          "name": "stdout",
          "text": [
            "Epoch 1/10\n",
            "300/300 - 5s - loss: 4.8967 - accuracy: 0.9104 - val_loss: 1.2246 - val_accuracy: 0.9441 - 5s/epoch - 16ms/step\n",
            "Epoch 2/10\n",
            "300/300 - 4s - loss: 0.6440 - accuracy: 0.9604 - val_loss: 0.8156 - val_accuracy: 0.9543 - 4s/epoch - 14ms/step\n",
            "Epoch 3/10\n",
            "300/300 - 4s - loss: 0.3146 - accuracy: 0.9730 - val_loss: 0.4879 - val_accuracy: 0.9639 - 4s/epoch - 14ms/step\n",
            "Epoch 4/10\n",
            "300/300 - 4s - loss: 0.2022 - accuracy: 0.9788 - val_loss: 0.5619 - val_accuracy: 0.9628 - 4s/epoch - 14ms/step\n",
            "Epoch 5/10\n",
            "300/300 - 4s - loss: 0.1440 - accuracy: 0.9832 - val_loss: 0.5519 - val_accuracy: 0.9633 - 4s/epoch - 13ms/step\n",
            "Epoch 6/10\n",
            "300/300 - 4s - loss: 0.1524 - accuracy: 0.9828 - val_loss: 0.5999 - val_accuracy: 0.9610 - 4s/epoch - 14ms/step\n",
            "Epoch 7/10\n",
            "300/300 - 4s - loss: 0.1468 - accuracy: 0.9829 - val_loss: 0.5021 - val_accuracy: 0.9650 - 4s/epoch - 14ms/step\n",
            "Epoch 8/10\n",
            "300/300 - 4s - loss: 0.1618 - accuracy: 0.9827 - val_loss: 0.5601 - val_accuracy: 0.9637 - 4s/epoch - 14ms/step\n",
            "Epoch 9/10\n",
            "300/300 - 4s - loss: 0.1359 - accuracy: 0.9847 - val_loss: 0.4981 - val_accuracy: 0.9688 - 4s/epoch - 14ms/step\n",
            "Epoch 10/10\n",
            "300/300 - 4s - loss: 0.1370 - accuracy: 0.9845 - val_loss: 0.5088 - val_accuracy: 0.9669 - 4s/epoch - 14ms/step\n"
          ]
        },
        {
          "output_type": "execute_result",
          "data": {
            "text/plain": [
              "<keras.callbacks.History at 0x7f290891f190>"
            ]
          },
          "metadata": {},
          "execution_count": 10
        }
      ]
    },
    {
      "cell_type": "code",
      "metadata": {
        "colab": {
          "base_uri": "https://localhost:8080/"
        },
        "id": "SrLfpr1LL9BP",
        "outputId": "6098d2d4-cfb5-4c77-9078-0771b4f96078"
      },
      "source": [
        "# Final evaluation of the model\n",
        "scores = model.evaluate(test_data_x, test_data_y, verbose=0)\n",
        "print(\"Prediction Accuracy: \" + str(scores[1]))\n",
        "print(\"Baseline Error: %.2f%%\" % (100-(scores[1]*100)))"
      ],
      "execution_count": null,
      "outputs": [
        {
          "output_type": "stream",
          "name": "stdout",
          "text": [
            "Prediction Accuracy: 0.9668999910354614\n",
            "Baseline Error: 3.31%\n"
          ]
        }
      ]
    }
  ]
}