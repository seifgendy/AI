{
  "nbformat": 4,
  "nbformat_minor": 0,
  "metadata": {
    "colab": {
      "name": "Multiple Inputs, Hidden Layers, Multiple Outputs.ipynb",
      "provenance": [],
      "collapsed_sections": []
    },
    "kernelspec": {
      "name": "python3",
      "display_name": "Python 3"
    }
  },
  "cells": [
    {
      "cell_type": "markdown",
      "metadata": {
        "id": "pz2BA59VeoJr"
      },
      "source": [
        "# Simple Neural Network using Multiple Inputs\n",
        "\n",
        "The neural networks takes:\n",
        "\n",
        "- 4 inputs\n",
        "\n",
        "The neural network performs prediction by multiplying inputs with weights.\n",
        "\n",
        "**Parameters**\n",
        "\n",
        "Weight values:\n",
        "- weight = [0.5, 0.6, 0, -0.9]\n",
        "\n",
        "Four input values:\n",
        "- input1 = [88.50, 9.5, 9.9, 9.0]\n",
        "- input2 = [72.95, 0.8, 0.8, 0.9]\n",
        "- input3 = [18.25, 32.36, 9.56, 1.45]\n",
        "- input4 = [0.29, 0.70, 0.77, 1.7]\n",
        "\n",
        "**Output = 4.600**"
      ]
    },
    {
      "cell_type": "code",
      "metadata": {
        "id": "OpqcwRpfRu2X",
        "colab": {
          "base_uri": "https://localhost:8080/"
        },
        "outputId": "c0390158-b8b6-47d7-cb52-381fe2498c59"
      },
      "source": [
        "#@title \n",
        "import numpy as np\n",
        "\n",
        "weight = np.array([0.5, 0.6, 0, -0.9])\n",
        "\n",
        "def simple_neural_network(input, weight):\n",
        "    predict = input.dot(weight)\n",
        "    return predict\n",
        "    \n",
        "input1 = np.array([88.50, 9.5, 9.9, 9.0])\n",
        "input2 = np.array([72.95, 0.8, 0.8, 0.9])\n",
        "input3 = np.array([18.25, 32.36, 9.56, 1.45])\n",
        "input4 = np.array([0.29, 0.70, 0.77, 1.7])\n",
        "\n",
        "input = np.array([input1[1],input2[1],input3[1],input4[1]])\n",
        "pred = simple_neural_network(input,weight)\n",
        "\n",
        "print(pred)"
      ],
      "execution_count": null,
      "outputs": [
        {
          "output_type": "stream",
          "name": "stdout",
          "text": [
            "4.6000000000000005\n"
          ]
        }
      ]
    },
    {
      "cell_type": "markdown",
      "metadata": {
        "id": "4-WpmI-fg8C9"
      },
      "source": [
        "# Simple Neural Network using Multiple Inputs, Hidden Layers, and Multiple Outputs\n",
        "\n",
        "The neural networks contains:\n",
        "- 4 inputs, 1 hidden layer with 4 nodes\n",
        "\n",
        "The neural network performs prediction to obtain:\n",
        "- 4 output values by multiplying inputs with weights.\n",
        "\n",
        "**Parameters**\n",
        "\n",
        "Input layer weight values:\n",
        "            [0.1, 0.2, 0.9, -0.1],\n",
        "            [-0.1, 0.1, 0.78, 0.9], \n",
        "            [-0.1, 0.1, 0.12, 0.9], \n",
        "            [0.1, 0.4, 0.89, 0.1]\n",
        "\n",
        "Hidden layer weight values: \n",
        "            [0.3, 0.1, 0.89, -0.3],\n",
        "            [0.1, -0.2, 0.34, 0.0],\n",
        "            [0.1, 0.2, 0.7, 0.0],\n",
        "            [0.0, -1.3, -0.6, 0.1]\n",
        "\n",
        "Four input values:\n",
        "- input1 = [88.50, 9.5, 9.9, 9.0]\n",
        "- input2 = [72.95, 0.8, 0.8, 0.9]\n",
        "- input3 = [18.25, 32.36, 9.56, 1.45]\n",
        "- input4 = [0.29, 0.70, 0.77, 1.7]\n",
        "\n",
        "**Output = [ 16.52121 -72.84818  62.28772   7.3982 ]**"
      ]
    },
    {
      "cell_type": "code",
      "metadata": {
        "id": "8EFbkzneTdiH",
        "cellView": "form",
        "colab": {
          "base_uri": "https://localhost:8080/"
        },
        "outputId": "5a3a3634-38c7-4b92-955e-eae2980d8160"
      },
      "source": [
        "#@title \n",
        "import numpy as np\n",
        "\n",
        "input_weights = np.array([ \n",
        "            [0.1, 0.2,0.9, -0.1],\n",
        "            [-0.1,0.1, 0.78, 0.9], \n",
        "            [-0.1,0.1, 0.12, 0.9], \n",
        "            [0.1, 0.4, 0.89, 0.1]])\n",
        "\n",
        "hidden_weights = np.array([  \n",
        "            [0.3, 0.1, 0.89, -0.3],\n",
        "            [0.1, -0.2, 0.34, 0.0],\n",
        "            [0.1, 0.2, 0.7, 0.0],\n",
        "            [0.0, -1.3, -0.6, 0.1]])\n",
        "\n",
        "\n",
        "weights = [input_weights, hidden_weights]\n",
        "\n",
        "def simple_neural_network(input, weights):\n",
        "    hidden_layer = input.dot(weights[0])\n",
        "    prediction_layer = hidden_layer.dot(weights[1])\n",
        "    return prediction_layer\n",
        "\n",
        "    \n",
        "input1 = np.array([88.50, 9.5, 9.9, 9.0])\n",
        "input2 = np.array([72.95, 0.8, 0.8, 0.9])\n",
        "input3 = np.array([18.25, 32.36, 9.56, 1.45])\n",
        "input4 = np.array([0.29, 0.70, 0.77, 1.7])\n",
        "\n",
        "input = np.array([input1[0],input2[0],input3[0],input4[0]])\n",
        "output_prediction = simple_neural_network(input,weights)\n",
        "\n",
        "print(output_prediction)"
      ],
      "execution_count": null,
      "outputs": [
        {
          "output_type": "stream",
          "name": "stdout",
          "text": [
            "[ 16.52121 -72.84818  62.28772   7.3982 ]\n"
          ]
        }
      ]
    },
    {
      "cell_type": "markdown",
      "metadata": {
        "id": "5h01STwAhTNl"
      },
      "source": [
        ""
      ]
    },
    {
      "cell_type": "markdown",
      "metadata": {
        "id": "BxsPV89juRn3"
      },
      "source": [
        "# Caculate Neural Network Error (Square Error)\n",
        "- weight = 0.3\n",
        "- input = 3.3\n",
        "- ground_truth_prediction = 1.0\n",
        "\n",
        "**Sqaure Error = 0.0001000000000000024**\n",
        "\n"
      ]
    },
    {
      "cell_type": "code",
      "metadata": {
        "id": "4iQ4NF15uOhj",
        "colab": {
          "base_uri": "https://localhost:8080/"
        },
        "outputId": "5496f607-1994-4d5a-e7a7-45b1950a2f47"
      },
      "source": [
        "weight = 0.3\n",
        "input = 3.3\n",
        "ground_truth_prediction = 1\n",
        "\n",
        "neural_network_prediction = input * weight\n",
        "print(\"Neural Network Prediction = \" + str(neural_network_prediction))\n",
        "square_error = (neural_network_prediction - ground_truth_prediction) ** 2\n",
        "print(\"Square Error = \" + str(square_error))"
      ],
      "execution_count": null,
      "outputs": [
        {
          "output_type": "stream",
          "name": "stdout",
          "text": [
            "Neural Network Prediction = 0.9899999999999999\n",
            "Square Error = 0.0001000000000000024\n"
          ]
        }
      ]
    },
    {
      "cell_type": "markdown",
      "metadata": {
        "id": "PyClhmr7yyCx"
      },
      "source": [
        "# Hot and Cold Learning Method\n",
        "- weight = 0.3\n",
        "- match_score = [3.3]\n",
        "- match_result = [1] (match won)\n",
        "\n",
        "**Square Error = 0.0001**"
      ]
    },
    {
      "cell_type": "code",
      "metadata": {
        "id": "cBSs0tId5B7i",
        "colab": {
          "base_uri": "https://localhost:8080/"
        },
        "outputId": "78d8ba2d-ff21-49cf-c088-b6fb00a89c8d"
      },
      "source": [
        "weight = 0.3\n",
        "\n",
        "def simple_neural_network(input, weight):\n",
        "    calculating_prediction = input * weight\n",
        "    return calculating_prediction\n",
        "\n",
        "match_score = [3.3]\n",
        "match_result = [1] # match won\n",
        "\n",
        "input = match_score[0]\n",
        "ground_truth_prediction = match_result[0]\n",
        "\n",
        "neural_network_prediction = simple_neural_network(input,weight)\n",
        "print(\"Neural Network Prediction = \" + str(neural_network_prediction))\n",
        "\n",
        "square_error = (neural_network_prediction - ground_truth_prediction) ** 2\n",
        "print(\"Square Error = \" + str(square_error))"
      ],
      "execution_count": null,
      "outputs": [
        {
          "output_type": "stream",
          "name": "stdout",
          "text": [
            "Neural Network Prediction = 0.9899999999999999\n",
            "Square Error = 0.0001000000000000024\n"
          ]
        }
      ]
    },
    {
      "cell_type": "markdown",
      "metadata": {
        "id": "hlEYQyCy9JcD"
      },
      "source": [
        "## Obtain Prediction By Increasing /Decreasing Weight \n",
        "- weight = 0.3\n",
        "- match_score = [3.3]\n",
        "- match_result = [1]\n",
        "- learning_rate = 0.01\n",
        "\n",
        "**Square Error After Increasing The Weights = 0.0005289999999999958**\n",
        "\n",
        "**Square Error After Decreasing The Weights  = 0.0018490000000000127**"
      ]
    },
    {
      "cell_type": "code",
      "metadata": {
        "id": "Ade5fZNd90JD",
        "colab": {
          "base_uri": "https://localhost:8080/"
        },
        "outputId": "2951f556-e712-4ec5-cea4-d3533dc78263"
      },
      "source": [
        "\n",
        "weight = 0.3\n",
        "learning_rate = 0.01\n",
        "\n",
        "def simple_neural_network(input, weight):\n",
        "    calculating_prediction = input * weight\n",
        "    return calculating_prediction\n",
        "\n",
        "match_score = [3.3]\n",
        "match_result = [1] # match won\n",
        "\n",
        "input = match_score[0]\n",
        "ground_truth_prediction = match_result[0]\n",
        "\n",
        "neural_network_prediction = simple_neural_network(input, weight+learning_rate)\n",
        "\n",
        "square_error = (neural_network_prediction - ground_truth_prediction) ** 2\n",
        "print(\"Square Error After Increasing The Weights = \" + str(square_error))"
      ],
      "execution_count": null,
      "outputs": [
        {
          "output_type": "stream",
          "name": "stdout",
          "text": [
            "Square Error After Increasing The Weights = 0.0005289999999999958\n"
          ]
        }
      ]
    },
    {
      "cell_type": "code",
      "metadata": {
        "id": "S54HRnlS-IUe",
        "colab": {
          "base_uri": "https://localhost:8080/"
        },
        "outputId": "64dd10aa-9b07-4212-ea48-13b07a866108"
      },
      "source": [
        "\n",
        "\n",
        "weight = 0.3\n",
        "learning_rate = 0.01\n",
        "\n",
        "def simple_neural_network(input, weight):\n",
        "    calculating_prediction = input * weight\n",
        "    return calculating_prediction\n",
        "\n",
        "match_score = [3.3]\n",
        "match_result = [1] # match won\n",
        "\n",
        "input = match_score[0]\n",
        "ground_truth_prediction = match_result[0]\n",
        "\n",
        "neural_network_prediction = simple_neural_network(input, weight-learning_rate)\n",
        "\n",
        "square_error = (neural_network_prediction - ground_truth_prediction) ** 2\n",
        "print(\"Square Error After Decreasing The Weights  = \" + str(square_error))"
      ],
      "execution_count": null,
      "outputs": [
        {
          "output_type": "stream",
          "name": "stdout",
          "text": [
            "Square Error After Decreasing The Weights  = 0.0018490000000000127\n"
          ]
        }
      ]
    },
    {
      "cell_type": "markdown",
      "metadata": {
        "id": "Xl9mlhIa_Wpr"
      },
      "source": [
        ""
      ]
    }
  ]
}