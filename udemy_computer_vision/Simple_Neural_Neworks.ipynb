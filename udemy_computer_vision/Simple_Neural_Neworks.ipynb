{
  "nbformat": 4,
  "nbformat_minor": 0,
  "metadata": {
    "colab": {
      "name": "Simple Neural Neworks using Python.ipynb",
      "provenance": [],
      "collapsed_sections": []
    },
    "kernelspec": {
      "name": "python3",
      "display_name": "Python 3"
    }
  },
  "cells": [
    {
      "cell_type": "markdown",
      "metadata": {
        "id": "ibjWzdauak-2"
      },
      "source": [
        "# Simple Neural Network\n",
        "\n",
        "- weight = 0.8\n",
        "\n",
        "- input1 = [98.78, 19.25, 329, 900]\n",
        "\n",
        "Write a Python function that takes any one input from the input1, and performs prediction by multiplying the input with weight. \n",
        "\n",
        "**Example:**\n",
        "\n",
        "- Input: 19.25\n",
        "\n",
        "- Output: 15.4"
      ]
    },
    {
      "cell_type": "code",
      "source": [
        "input1 = [98.78, 19.25, 329, 900]\n",
        "input1[1]"
      ],
      "metadata": {
        "colab": {
          "base_uri": "https://localhost:8080/"
        },
        "id": "ukpm1bP0LotT",
        "outputId": "b4a95c58-ffb2-44cd-8d1f-20ae1189c086"
      },
      "execution_count": null,
      "outputs": [
        {
          "output_type": "execute_result",
          "data": {
            "text/plain": [
              "19.25"
            ]
          },
          "metadata": {},
          "execution_count": 3
        }
      ]
    },
    {
      "cell_type": "markdown",
      "metadata": {
        "id": "A1Gf3uXpLpiE"
      },
      "source": [
        "# Simple Neural Network\n",
        "\n",
        "- weight = 0.8\n",
        "\n",
        "- input1 = [98.78, 19.25, 329, 900]\n",
        "\n",
        "Write a Python function that takes any one input from the input1, and performs prediction by multiplying the input with weight. \n",
        "\n",
        "**Example:**\n",
        "\n",
        "- Input: 19.25\n",
        "\n",
        "- Output: 15.4"
      ]
    },
    {
      "cell_type": "code",
      "metadata": {
        "colab": {
          "base_uri": "https://localhost:8080/"
        },
        "id": "QuhMk2f0amiD",
        "outputId": "5fbc5e0a-2bb2-4374-e85f-07155a6b5187"
      },
      "source": [
        "weight = 0.8\n",
        "def simple_neural_network(input, weight):\n",
        "    predict = input * weight\n",
        "    return predict\n",
        "\n",
        "input1 = [98.78, 19.25, 329, 900]\n",
        "input = input1[1]\n",
        "pred = simple_neural_network(input,weight)\n",
        "print(pred)"
      ],
      "execution_count": null,
      "outputs": [
        {
          "output_type": "stream",
          "name": "stdout",
          "text": [
            "15.4\n"
          ]
        }
      ]
    },
    {
      "cell_type": "code",
      "metadata": {
        "colab": {
          "base_uri": "https://localhost:8080/"
        },
        "id": "Du3CUqdpJYks",
        "outputId": "35327d1b-77ed-4cad-b373-5cf121294312"
      },
      "source": [
        "import numpy as np\n",
        "\n",
        "a = np.array([0,1,2,3,4,5,6,7]) # vector\n",
        "print(a)\n",
        "print(a * 0.5) # multiply every number in vector \"a\" by 0.5"
      ],
      "execution_count": null,
      "outputs": [
        {
          "output_type": "stream",
          "name": "stdout",
          "text": [
            "[0 1 2 3 4 5 6 7]\n",
            "[0.  0.5 1.  1.5 2.  2.5 3.  3.5]\n"
          ]
        }
      ]
    },
    {
      "cell_type": "code",
      "metadata": {
        "colab": {
          "base_uri": "https://localhost:8080/"
        },
        "id": "WT7ApvZNMpoe",
        "outputId": "252b356c-e441-4c3a-b2c3-cc72a122bf1a"
      },
      "source": [
        "b = np.array([8,9,10,11,12,13,14,15]) # vector\n",
        "print(b)\n",
        "print(b * 0.9) # multiply every number in vector \"b\" by 0.9"
      ],
      "execution_count": null,
      "outputs": [
        {
          "output_type": "stream",
          "name": "stdout",
          "text": [
            "[ 8  9 10 11 12 13 14 15]\n",
            "[ 7.2  8.1  9.   9.9 10.8 11.7 12.6 13.5]\n"
          ]
        }
      ]
    },
    {
      "cell_type": "code",
      "metadata": {
        "colab": {
          "base_uri": "https://localhost:8080/"
        },
        "id": "gwPKvDKrNrzv",
        "outputId": "cf38be15-88bb-4ec6-d2dd-ec718e755367"
      },
      "source": [
        "print(a * b) # multiplies elementwise between a and b (columns paired up)"
      ],
      "execution_count": null,
      "outputs": [
        {
          "output_type": "stream",
          "name": "stdout",
          "text": [
            "[  0   9  20  33  48  65  84 105]\n"
          ]
        }
      ]
    },
    {
      "cell_type": "code",
      "metadata": {
        "colab": {
          "base_uri": "https://localhost:8080/"
        },
        "id": "Sv_8AoRXND_q",
        "outputId": "110e6c31-d547-40d0-d0e3-e09ec5b04563"
      },
      "source": [
        "c = np.array([[0,1,2,3,4,5,6,7],\n",
        "              [8,9,10,11,12,13,14,15]])\n",
        "print(c)\n",
        "print('\\n')\n",
        "print(c * 2) # multiply by 2\n"
      ],
      "execution_count": null,
      "outputs": [
        {
          "output_type": "stream",
          "name": "stdout",
          "text": [
            "[[ 0  1  2  3  4  5  6  7]\n",
            " [ 8  9 10 11 12 13 14 15]]\n",
            "\n",
            "\n",
            "[[ 0  2  4  6  8 10 12 14]\n",
            " [16 18 20 22 24 26 28 30]]\n"
          ]
        }
      ]
    },
    {
      "cell_type": "code",
      "metadata": {
        "colab": {
          "base_uri": "https://localhost:8080/"
        },
        "id": "VrNUvRJXNeQO",
        "outputId": "03b56e1d-71d6-41b7-e5e2-ab666ecc3538"
      },
      "source": [
        "d = np.zeros((2,8)) # (2x8 matrix of zeros)\n",
        "print(d)"
      ],
      "execution_count": null,
      "outputs": [
        {
          "output_type": "stream",
          "name": "stdout",
          "text": [
            "[[0. 0. 0. 0. 0. 0. 0. 0.]\n",
            " [0. 0. 0. 0. 0. 0. 0. 0.]]\n"
          ]
        }
      ]
    },
    {
      "cell_type": "code",
      "metadata": {
        "colab": {
          "base_uri": "https://localhost:8080/"
        },
        "id": "nGY2bshSPhiH",
        "outputId": "6f16e9e5-5637-4e97-b42a-a8e0d0575919"
      },
      "source": [
        "e = np.random.rand(2,5) # random 2x5\n",
        "print(e)"
      ],
      "execution_count": null,
      "outputs": [
        {
          "output_type": "stream",
          "name": "stdout",
          "text": [
            "[[0.64525121 0.10525778 0.88034674 0.51425901 0.81412408]\n",
            " [0.77883467 0.80196551 0.38080177 0.45463209 0.66517673]]\n"
          ]
        }
      ]
    },
    {
      "cell_type": "code",
      "metadata": {
        "colab": {
          "base_uri": "https://localhost:8080/"
        },
        "id": "M3rIgK1yQFXt",
        "outputId": "1cc35ed0-b29b-4a18-8677-37da4d63de62"
      },
      "source": [
        "a = np.zeros((2,5)) # matrix with 2 rows and 5 columns\n",
        "b = np.zeros((5,6)) # matrix with 5 rows and 6 columns\n",
        "\n",
        "c = a.dot(b)\n",
        "print(c.shape)"
      ],
      "execution_count": null,
      "outputs": [
        {
          "output_type": "stream",
          "name": "stdout",
          "text": [
            "(2, 6)\n"
          ]
        }
      ]
    },
    {
      "cell_type": "code",
      "metadata": {
        "colab": {
          "base_uri": "https://localhost:8080/"
        },
        "id": "muyP7jfsQyfB",
        "outputId": "c3f35290-46fc-4ebe-e07f-5678379374f6"
      },
      "source": [
        "e = np.zeros((3,2)) # matrix with 3 rows and 2 columns\n",
        "f = np.zeros((2,4)) # matrix with 2 row & 4 columns\n",
        "\n",
        "g = e.dot(f)\n",
        "print(g.shape)"
      ],
      "execution_count": null,
      "outputs": [
        {
          "output_type": "stream",
          "name": "stdout",
          "text": [
            "(3, 4)\n"
          ]
        }
      ]
    },
    {
      "cell_type": "code",
      "metadata": {
        "colab": {
          "base_uri": "https://localhost:8080/"
        },
        "id": "PmzBCoWfRAeR",
        "outputId": "bfe01d23-af81-4085-b2e8-502c4c064235"
      },
      "source": [
        "h = np.zeros((7,9)).T # matrix with 9 rows and 7 columns\n",
        "i = np.zeros((7,5)) # matrix with 7 rows & 5 columns\n",
        "\n",
        "j = h.dot(i)\n",
        "print(j.shape) "
      ],
      "execution_count": null,
      "outputs": [
        {
          "output_type": "stream",
          "name": "stdout",
          "text": [
            "(9, 5)\n"
          ]
        }
      ]
    },
    {
      "cell_type": "code",
      "metadata": {
        "id": "qRLQ0WflRSe4",
        "colab": {
          "base_uri": "https://localhost:8080/",
          "height": 218
        },
        "outputId": "fff67dcd-9d41-4681-c452-eef6468585be"
      },
      "source": [
        "h = np.zeros((5,9)) # matrix with 5 rows and 9 columns\n",
        "i = np.zeros((7,3)) # matrix with 7 rows & 3 columns\n",
        "j = h.dot(i)\n",
        "print(j.shape) # we get an error"
      ],
      "execution_count": null,
      "outputs": [
        {
          "output_type": "error",
          "ename": "ValueError",
          "evalue": "ignored",
          "traceback": [
            "\u001b[0;31m---------------------------------------------------------------------------\u001b[0m",
            "\u001b[0;31mValueError\u001b[0m                                Traceback (most recent call last)",
            "\u001b[0;32m<ipython-input-16-d64133b8e20c>\u001b[0m in \u001b[0;36m<module>\u001b[0;34m()\u001b[0m\n\u001b[1;32m      1\u001b[0m \u001b[0mh\u001b[0m \u001b[0;34m=\u001b[0m \u001b[0mnp\u001b[0m\u001b[0;34m.\u001b[0m\u001b[0mzeros\u001b[0m\u001b[0;34m(\u001b[0m\u001b[0;34m(\u001b[0m\u001b[0;36m5\u001b[0m\u001b[0;34m,\u001b[0m\u001b[0;36m9\u001b[0m\u001b[0;34m)\u001b[0m\u001b[0;34m)\u001b[0m \u001b[0;31m# matrix with 5 rows and 9 columns\u001b[0m\u001b[0;34m\u001b[0m\u001b[0;34m\u001b[0m\u001b[0m\n\u001b[1;32m      2\u001b[0m \u001b[0mi\u001b[0m \u001b[0;34m=\u001b[0m \u001b[0mnp\u001b[0m\u001b[0;34m.\u001b[0m\u001b[0mzeros\u001b[0m\u001b[0;34m(\u001b[0m\u001b[0;34m(\u001b[0m\u001b[0;36m7\u001b[0m\u001b[0;34m,\u001b[0m\u001b[0;36m3\u001b[0m\u001b[0;34m)\u001b[0m\u001b[0;34m)\u001b[0m \u001b[0;31m# matrix with 7 rows & 3 columns\u001b[0m\u001b[0;34m\u001b[0m\u001b[0;34m\u001b[0m\u001b[0m\n\u001b[0;32m----> 3\u001b[0;31m \u001b[0mj\u001b[0m \u001b[0;34m=\u001b[0m \u001b[0mh\u001b[0m\u001b[0;34m.\u001b[0m\u001b[0mdot\u001b[0m\u001b[0;34m(\u001b[0m\u001b[0mi\u001b[0m\u001b[0;34m)\u001b[0m\u001b[0;34m\u001b[0m\u001b[0;34m\u001b[0m\u001b[0m\n\u001b[0m\u001b[1;32m      4\u001b[0m \u001b[0mprint\u001b[0m\u001b[0;34m(\u001b[0m\u001b[0mj\u001b[0m\u001b[0;34m.\u001b[0m\u001b[0mshape\u001b[0m\u001b[0;34m)\u001b[0m \u001b[0;31m# we get an error\u001b[0m\u001b[0;34m\u001b[0m\u001b[0;34m\u001b[0m\u001b[0m\n",
            "\u001b[0;31mValueError\u001b[0m: shapes (5,9) and (7,3) not aligned: 9 (dim 1) != 7 (dim 0)"
          ]
        }
      ]
    },
    {
      "cell_type": "markdown",
      "metadata": {
        "id": "pz2BA59VeoJr"
      },
      "source": [
        "# Simple Neural Network using Multiple Inputs\n",
        "\n",
        "The neural networks takes:\n",
        "\n",
        "- 4 inputs\n",
        "\n",
        "The neural network performs prediction by multiplying inputs with weights.\n",
        "\n",
        "**Parameters**\n",
        "\n",
        "Weight values:\n",
        "- weight = [0.5, 0.6, 0, -0.9]\n",
        "\n",
        "Four input values:\n",
        "- input1 = [88.50, 9.5, 9.9, 9.0]\n",
        "- input2 = [72.95, 0.8, 0.8, 0.9]\n",
        "- input3 = [18.25, 32.36, 9.56, 1.45]\n",
        "- input4 = [0.29, 0.70, 0.77, 1.7]\n",
        "\n",
        "**Output = 87.759**"
      ]
    },
    {
      "cell_type": "code",
      "metadata": {
        "colab": {
          "base_uri": "https://localhost:8080/"
        },
        "id": "OpqcwRpfRu2X",
        "outputId": "2e7990da-8f44-4c18-b06a-dd16e42c61ae"
      },
      "source": [
        "import numpy as np\n",
        "\n",
        "weight = np.array([0.5, 0.6, 0, -0.9])\n",
        "\n",
        "def simple_neural_network(input, weight):\n",
        "    predict = input.dot(weight)\n",
        "    return predict\n",
        "    \n",
        "input1 = np.array([88.50, 9.5, 9.9, 9.0])\n",
        "input2 = np.array([72.95, 0.8, 0.8, 0.9])\n",
        "input3 = np.array([18.25, 32.36, 9.56, 1.45])\n",
        "input4 = np.array([0.29, 0.70, 0.77, 1.7])\n",
        "\n",
        "input = np.array([input1[0],input2[0],input3[0],input4[0]])\n",
        "pred = simple_neural_network(input,weight)\n",
        "\n",
        "print(pred)"
      ],
      "execution_count": null,
      "outputs": [
        {
          "output_type": "stream",
          "name": "stdout",
          "text": [
            "87.75900000000001\n"
          ]
        }
      ]
    }
  ]
}